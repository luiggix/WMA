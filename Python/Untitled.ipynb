{
 "cells": [
  {
   "cell_type": "markdown",
   "id": "52418583-9156-4950-b31c-8c26c0bf84b5",
   "metadata": {},
   "source": [
    "$$\n",
    "V = \\dfrac{N R T }{P}\n",
    "$$"
   ]
  },
  {
   "cell_type": "markdown",
   "id": "523d5e44-706e-4b08-b312-6a6beeeee359",
   "metadata": {},
   "source": [
    "<img src=\"https://www.macti.unam.mx/recursos/img/macti_logo_verde_web.png\">"
   ]
  },
  {
   "cell_type": "code",
   "execution_count": 1,
   "id": "1c3a1c7e-8cb5-457b-9c08-eaa8687ea943",
   "metadata": {},
   "outputs": [],
   "source": [
    "P = 3\n",
    "N = 6.3e10\n",
    "R = 8.314\n",
    "T = 30"
   ]
  },
  {
   "cell_type": "code",
   "execution_count": 5,
   "id": "7277301f-8d09-4fdc-b1eb-ebedbabcd379",
   "metadata": {},
   "outputs": [
    {
     "name": "stdout",
     "output_type": "stream",
     "text": [
      "3 63000000000.0 8.314 30\n"
     ]
    }
   ],
   "source": [
    "print(P, N, R, T)"
   ]
  },
  {
   "cell_type": "code",
   "execution_count": 6,
   "id": "d85ea126-37c8-421c-9bc4-cbcba0ad1ece",
   "metadata": {},
   "outputs": [],
   "source": [
    "V = N * R * T / P"
   ]
  },
  {
   "cell_type": "code",
   "execution_count": 7,
   "id": "8417d4c5-bf0b-4e7a-9a75-f186da25b71e",
   "metadata": {},
   "outputs": [
    {
     "name": "stdout",
     "output_type": "stream",
     "text": [
      "5237820000000.0\n"
     ]
    }
   ],
   "source": [
    "print(V)"
   ]
  },
  {
   "cell_type": "code",
   "execution_count": null,
   "id": "cd7485bb-fe51-4dd3-9b7f-266f9bd88d69",
   "metadata": {},
   "outputs": [],
   "source": []
  }
 ],
 "metadata": {
  "kernelspec": {
   "display_name": "Python 3 (ipykernel)",
   "language": "python",
   "name": "python3"
  },
  "language_info": {
   "codemirror_mode": {
    "name": "ipython",
    "version": 3
   },
   "file_extension": ".py",
   "mimetype": "text/x-python",
   "name": "python",
   "nbconvert_exporter": "python",
   "pygments_lexer": "ipython3",
   "version": "3.11.6"
  }
 },
 "nbformat": 4,
 "nbformat_minor": 5
}
