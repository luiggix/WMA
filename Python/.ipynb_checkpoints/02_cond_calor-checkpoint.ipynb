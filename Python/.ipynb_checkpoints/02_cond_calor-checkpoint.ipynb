{
 "cells": [
  {
   "cell_type": "markdown",
   "metadata": {},
   "source": [
    "# Python de cero a experto\n",
    "**Autor:** Luis Miguel de la Cruz Salas\n",
    "\n",
    "<a href=\"https://github.com/luiggix/Python_cero_a_experto\">Python de cero a experto</a> by Luis M. de la Cruz Salas is licensed under <a href=\"https://creativecommons.org/licenses/by-nc-nd/4.0?ref=chooser-v1\">Attribution-NonCommercial-NoDerivatives 4.0 International</a>"
   ]
  },
  {
   "cell_type": "markdown",
   "metadata": {},
   "source": [
    "# Conducción de calor\n",
    "\n",
    "**Jean-Baptiste Joseph Fourier**\n",
    "fue un matemático y físico francés que ejerció una fuerte influencia en la ciencia a través de su trabajo *Théorie analytique de la chaleur*. En este trabajo mostró que es posible analizar la conducción de calor en cuerpos sólidos en términos de series matemáticas infinitas, las cuales ahora llevan su nombre: *Series de Fourier*. Fourier comenzó su trabajo en 1807, en Grenoble, y lo completó en París en 1822. Su trabajo le permitió expresar la conducción de calor en objetos bidimensionales (hojas muy delgadas de algún material) en términos de una ecuación diferencial:\n",
    "\n",
    "\n",
    "$$\n",
    "\\dfrac{\\partial u}{ \\partial t} = \\kappa \\left(\\dfrac{\\partial^2 u}{ \\partial x^2} + \\dfrac{\\partial^2 u}{ \\partial y^2}\\right)\n",
    "$$\n",
    "\n",
    "donde $u$ representa la temperatura en un instante de tiempo $t$ y en un punto $(x,y)$ del plano Cartesiano y $\\kappa$ es la conductividad del material.\n",
    "\n",
    "La solución a la ecuación anterior se puede aproximar usando el método de diferencias y una fórmula explícita de dicha solución es la siguiente:\n",
    "\n",
    "$$\n",
    "u_{i,j}^{n+1} = u_{i,j}^n + \\dfrac{h_t\\kappa}{h^2} \n",
    "\\left(u_{i+1,j}^n + u_{i-1,j}^n + u_{i,j+1}^n + u_{i,j-1}^n - 4u_{i,j}^n\\right) \n",
    "$$\n",
    "\n",
    "donde:\n",
    "- $u_{i,j} = u(x_i, y_j), u_{i+1,j} = u(x_{i+1}, y_j), u_{i-1,j} = u(x_{i-1}, y_j), u_{i,j+1} = u(x_i, y_{j+1}), u_{i,j-1} = u(x_i, y_{j-1})$. \n",
    "- El superíndice indica el instante de tiempo, entonces el instante actual es $n = t$ y el instante siguiente es $n+1 = t + h_t$, con $h_t$ el paso de tiempo.\n",
    "- En este ejemplo $h_x = h_y$.\n",
    "\n",
    "Usando esta aproximación, vamos a realizar una ejemplo de conducción de calor, pero para ello necesitamos conocer las herramientas de <a href=\"./T14_Numpy.ipynb\">numpy</a> y de <a href=\"./T15_Matplotlib.ipynb\">matplotlib</a>."
   ]
  },
  {
   "cell_type": "markdown",
   "metadata": {},
   "source": [
    "<div class=\"alert alert-success\">\n",
    "\n",
    "## Ejercicio 1.\n",
    "\n",
    " <img src=\"./malla2D_DF.png\"  hspace=\"5\" vspace=\"5\" style=\"float: right;\"/>\n",
    "Calculemos la transferencia de calor por conducción en una placa cuadrada unitaria usando el método de diferencias finitas. El problema se describe de la siguiente manera:\n",
    "$$\n",
    "\\dfrac{\\partial u}{ \\partial t} = \\kappa \\left(\\dfrac{\\partial^2 u}{ \\partial x^2} + \\dfrac{\\partial^2 u}{ \\partial y^2}\\right)\n",
    "$$\n",
    "$$\n",
    "\\begin{eqnarray}\n",
    "\\hline\n",
    "u(x,y,t=0) & = & 0 \\qquad \\text{Condición inicial}\\\\\n",
    "\\hline\n",
    "u(0,y,t) & = & 20 \\qquad \\text{Condiciones}\\\\\n",
    "u(1,y,t) & = & 5 \\qquad \\qquad \\text{de}\\\\\n",
    "u(x,0,t) & = & 50 \\qquad \\text{frontera}\\\\\n",
    "u(x,1,t) & = & 8 \\\\\n",
    "\\hline\n",
    "\\end{eqnarray}\n",
    "$$ \n",
    "\n",
    " </div>"
   ]
  },
  {
   "cell_type": "markdown",
   "metadata": {},
   "source": [
    "**1. Definir los parámetros físicos y numéricos del problema:**"
   ]
  },
  {
   "cell_type": "code",
   "execution_count": null,
   "metadata": {},
   "outputs": [],
   "source": [
    "import numpy as np"
   ]
  },
  {
   "cell_type": "code",
   "execution_count": null,
   "metadata": {},
   "outputs": [],
   "source": [
    "# Parámetros físicos\n",
    "k = 1.0  # Conductividad\n",
    "Lx = 1.0  # Longitud del dominio en dirección x\n",
    "Ly = 1.0  # Longitud del dominio en dirección y\n",
    "\n",
    "# Parámetros numéricos\n",
    "Nx = 9 # Número de incógnitas en dirección x\n",
    "Ny = 9 # Número de incógnitas en dirección y\n",
    "h = Lx / (Nx+1) # Espaciamiento entre los puntos de la rejilla\n",
    "ht = 0.0001     # Paso de tiempo\n",
    "N = (Nx + 2)* (Ny + 2) # Número total de puntos en la rejilla"
   ]
  },
  {
   "cell_type": "markdown",
   "metadata": {},
   "source": [
    "**2. Definir la rejilla donde se hará el cálculo (malla):**"
   ]
  },
  {
   "cell_type": "code",
   "execution_count": null,
   "metadata": {},
   "outputs": [],
   "source": [
    "x = np.linspace(0,Lx,Nx+2) # Arreglo con las coordenadas en x\n",
    "y = np.linspace(0,Ly,Ny+2) # Arreglo con las coordenadas en y\n",
    "print(x)\n",
    "print(y)"
   ]
  },
  {
   "cell_type": "code",
   "execution_count": null,
   "metadata": {},
   "outputs": [],
   "source": [
    "xg, yg = np.meshgrid(x,y) # Creamos la rejilla para usarla en Matplotlib\n",
    "print(xg)\n",
    "print(yg)"
   ]
  },
  {
   "cell_type": "code",
   "execution_count": null,
   "metadata": {},
   "outputs": [],
   "source": [
    "import matplotlib.pyplot as plt"
   ]
  },
  {
   "cell_type": "code",
   "execution_count": null,
   "metadata": {},
   "outputs": [],
   "source": [
    "plt.scatter(xg, yg) # Graficamos la rejilla"
   ]
  },
  {
   "cell_type": "markdown",
   "metadata": {},
   "source": [
    "**3. Definir las condiciones iniciales y de frontera:**\n",
    "$$\n",
    "\\begin{eqnarray}\n",
    "\\hline\n",
    "u(x,y,t=0) & = & 0 \\qquad \\text{Condición inicial}\\\\\n",
    "\\hline\n",
    "u(0,y,t) & = & 20 \\qquad \\text{Condiciones}\\\\\n",
    "u(1,y,t) & = & 5 \\qquad \\qquad \\text{de}\\\\\n",
    "u(x,0,t) & = & 50 \\qquad \\text{frontera}\\\\\n",
    "u(x,1,t) & = & 8 \\\\\n",
    "\\hline\n",
    "\\end{eqnarray}\n",
    "$$"
   ]
  },
  {
   "cell_type": "code",
   "execution_count": null,
   "metadata": {},
   "outputs": [],
   "source": [
    "u = np.zeros((Nx+2, Ny+2))\n",
    "#u = np.zeros(N).reshape(Nx+2, Ny+2) # Arreglo para almacenar la aproximación\n",
    "print(u)\n",
    "u[0,:]    = 20  # Pared izquierda    \n",
    "u[Nx+1,:] = 5   # Pared derecha\n",
    "u[:,0]    = 50  # Pared inferior\n",
    "u[:,Ny+1] = 8   # Pared superior  \n",
    "print(u) "
   ]
  },
  {
   "cell_type": "code",
   "execution_count": null,
   "metadata": {},
   "outputs": [],
   "source": [
    "f = plt.imshow(u)\n",
    "plt.colorbar(f)"
   ]
  },
  {
   "cell_type": "markdown",
   "metadata": {},
   "source": [
    "**4. Implementar el algoritmo de solución:**\n",
    "$$\n",
    "u_{i,j}^{n+1} = u_{i,j}^n + \\dfrac{h_t \\kappa}{h^2} \n",
    "\\left(u_{i+1,j}^n + u_{i-1,j}^n + u_{i,j+1}^n + u_{i,j-1}^n - 4u_{i,j}^n\\right) \n",
    "$$\n"
   ]
  },
  {
   "cell_type": "code",
   "execution_count": null,
   "metadata": {},
   "outputs": [],
   "source": [
    "ht = 0.001\n",
    "r = k * ht / h**2\n",
    "u_new = u.copy()\n",
    "tolerancia = 9.0e-1 #1.0e-3\n",
    "error = 1.0\n",
    "error_lista = []\n",
    "while(error > tolerancia):\n",
    "    for i in range(1,Nx+1):\n",
    "        for j in range(1,Ny+1):\n",
    "            u_new[i,j] = u[i,j] + r * (u[i+1,j] + u[i-1,j] + u[i,j+1] + u[i,j-1] - 4*u[i,j])\n",
    "    error = np.linalg.norm(u_new - u)\n",
    "    error_lista.append(error)\n",
    "#    print(error)\n",
    "    u[:] = u_new[:]\n",
    "\n",
    "print(error_lista)\n",
    "\n",
    "f = plt.imshow(u)\n",
    "plt.colorbar(f)"
   ]
  },
  {
   "cell_type": "markdown",
   "metadata": {},
   "source": [
    "<div class=\"alert alert-success\">\n",
    "\n",
    "## Ejercicio 2.\n",
    "\n",
    "Realiza los siguiente gráficos de la solución anterior:\n",
    "1. Contornos llenos (`contourf`) y líneas de contorno negras sobrepuestas (`contour`).\n",
    "2. Almacena el error en cada iteración y grafícalo en semi-log.\n",
    "3. Realiza las dos gráficas anteriores en un solo renglón.\n",
    "\n",
    "</div>"
   ]
  },
  {
   "cell_type": "code",
   "execution_count": null,
   "metadata": {},
   "outputs": [],
   "source": [
    "plt.contour(xg, yg, u, cmap='gray', levels=5)\n",
    "plt.contourf(xg, yg, u, levels=50, cmap='inferno')"
   ]
  },
  {
   "cell_type": "code",
   "execution_count": null,
   "metadata": {},
   "outputs": [],
   "source": [
    "plt.plot(error_lista)\n",
    "plt.yscale('log')"
   ]
  },
  {
   "cell_type": "code",
   "execution_count": null,
   "metadata": {},
   "outputs": [],
   "source": [
    "fig = plt.figure()\n",
    "\n",
    "ax = fig.add_subplot(1, 2, 1)\n",
    "plt.contour(xg, yg, u, cmap='gray', levels=5)\n",
    "plt.contourf(xg, yg, u, levels=50, cmap='inferno')\n",
    "\n",
    "ax = fig.add_subplot(1, 2, 2)\n",
    "plt.plot(error_lista)\n",
    "plt.yscale('log')\n",
    "\n",
    "plt.tight_layout()"
   ]
  },
  {
   "cell_type": "code",
   "execution_count": null,
   "metadata": {},
   "outputs": [],
   "source": [
    "fig = plt.figure()\n",
    "\n",
    "ax1 = fig.add_subplot(1, 2, 1)\n",
    "ax2 = fig.add_subplot(1, 2, 2)\n",
    "\n",
    "ax1.contour(xg, yg, u, cmap='gray', levels=5)\n",
    "ax1.contourf(xg, yg, u, levels=50, cmap='inferno')\n",
    "\n",
    "ax2.plot(error_lista)\n",
    "ax2.set_yscale('log')\n",
    "\n",
    "plt.tight_layout()"
   ]
  },
  {
   "cell_type": "markdown",
   "metadata": {},
   "source": [
    "## Flujo de calor\n",
    "\n",
    "Fourier también estableció una ley para el flujo de calor que se escribe como:\n",
    "\n",
    "$$\n",
    "\\vec{q} = -\\kappa \\nabla u = -\\kappa \\left(\\dfrac{\\partial u}{\\partial x}, \\dfrac{\\partial u}{\\partial y}\\right)\n",
    "$$"
   ]
  },
  {
   "cell_type": "markdown",
   "metadata": {},
   "source": [
    "<div class=\"alert alert-success\">\n",
    "\n",
    "## Ejercicio 3.\n",
    "Usando la información calculada de la temperatura (almacenada en el arreglo `u`), vamos a calcular el flujo de calor usando la siguiente fórmula en diferencias:\n",
    "\n",
    "$$\n",
    "\\vec{q}_{i,j} = (qx_{i,j}, qy_{i,j}) = -\\dfrac{\\kappa}{2h} (u_{i+1,j}-u_{i-1,j}, u_{i,j+1}-u_{i,j-1} )\n",
    "$$\n",
    "\n",
    "</div>"
   ]
  },
  {
   "cell_type": "code",
   "execution_count": null,
   "metadata": {},
   "outputs": [],
   "source": [
    "qx = np.zeros((Nx+2, Ny+2))\n",
    "qy = qx.copy()\n",
    "\n",
    "s = k / 2*h\n",
    "for i in range(1,Nx+1):\n",
    "    for j in range(1,Ny+1):\n",
    "        qx[i,j] = -s * (u[i+1,j] - u[i-1,j])\n",
    "        qy[i,j] = -s * (u[i,j+1] - u[i,j-1])\n",
    "\n",
    "plt.quiver(xg, yg, qx, qy, scale=10, zorder=10)"
   ]
  },
  {
   "cell_type": "markdown",
   "metadata": {},
   "source": [
    "<div class=\"alert alert-success\">\n",
    "\n",
    "## Ejercicio 4.\n",
    "Grafica el campo vectorial del flujo de calor, junto con los contornos de la temperatura (`contourf` y `contour`). Haz que tu gráfica se vea con razón de aspecto correcta de 1 por 1.\n",
    "\n",
    "</div>"
   ]
  },
  {
   "cell_type": "code",
   "execution_count": null,
   "metadata": {},
   "outputs": [],
   "source": [
    "plt.contour(xg, yg, u, cmap='gray', levels=5)\n",
    "plt.contourf(xg, yg, u, levels=50, cmap='cool', zorder=1)\n",
    "plt.quiver(xg, yg, qx, qy, scale=10, zorder=10)\n",
    "ax = plt.gca()\n",
    "ax.set_aspect('equal')"
   ]
  },
  {
   "cell_type": "markdown",
   "metadata": {},
   "source": [
    "# Seguimiento de partículas\n",
    "\n",
    "<div>\n",
    " <img src=\"./Figuras/Vectorial.png\"  hspace=\"5\" vspace=\"5\" style=\"float: right;\"/>\n",
    "Si soltamos una partícula en un flujo, dicha partícula seguirá la dirección del flujo y delineará  una trayectoria como se muestra en la siguiente figura. Para calcular los puntos de la trayectoria debemos resolver una ecuación como la siguiente:\n",
    "    \n",
    "$$\n",
    "\\dfrac{\\partial \\vec{x}}{ \\partial t} = \\vec{v} \\qquad \\text{con} \\qquad \\vec{x}(t=0) = \\vec{x}_o \n",
    "$$\n",
    "    \n",
    "donde $\\vec{x} = (x,y) $ representa la posición de la partícula y $\\vec{v} = (vx, vy)$ su velocidad.\n",
    "El método más sencillo para encontrar las posiciones de la partícula es conocido como de *Euler hacia adelante* y se escribe como:\n",
    "    \n",
    "$$\n",
    "\\vec{x}_i^{n+1} = \\vec{x}_i^{n} + h_t * \\vec{v}_{i}^n\n",
    "$$\n",
    "    \n",
    "donde $\\vec{x}_i^{n}$ representa la posición de la partícula $i$ en el instante $n$, $h_t$ es el paso de tiempo y $\\vec{v}_i$ es la velocidad en la partícula $i$ en el instante $n$.\n",
    " </div>\n"
   ]
  },
  {
   "cell_type": "markdown",
   "metadata": {},
   "source": [
    "<div class=\"alert alert-success\">\n",
    "\n",
    "## Ejercicio 5.\n",
    "Calcular y graficar las trayectorias de varias partículas usando el campo vectorial generado por el flujo de calor del ejemplo 2.\n",
    "\n",
    "</div>"
   ]
  },
  {
   "cell_type": "markdown",
   "metadata": {},
   "source": [
    "Escribimos la fórmula de *Euler hacia adelante* en componentes como sigue:\n",
    "\n",
    "$$\n",
    "\\begin{eqnarray}\n",
    "x_i^{n+1} & = & x_i^{n} + h_t * vx_{i}^n \\\\\n",
    "y_i^{n+1} & = & y_i^{n} + h_t * vy_{i}^n \n",
    "\\end{eqnarray}\n",
    "$$"
   ]
  },
  {
   "cell_type": "markdown",
   "metadata": {},
   "source": [
    "**1. Definimos un punto inicial de forma aleatoria en el cuadrado unitario:**"
   ]
  },
  {
   "cell_type": "code",
   "execution_count": null,
   "metadata": {},
   "outputs": [],
   "source": [
    "xo = 0.2 #np.random.rand(1)\n",
    "yo = 0.5 #np.random.rand(1)\n",
    "print(xo)\n",
    "print(yo)"
   ]
  },
  {
   "cell_type": "markdown",
   "metadata": {},
   "source": [
    "**2. Definimos arreglos para almacenar las coordenadas de la trayectoria:**"
   ]
  },
  {
   "cell_type": "code",
   "execution_count": null,
   "metadata": {},
   "outputs": [],
   "source": [
    "Pasos = 10\n",
    "xp = np.zeros(Pasos)\n",
    "yp = np.zeros(Pasos)\n",
    "xp[0] = xo\n",
    "yp[0] = yo\n",
    "print(xp)\n",
    "print(yp)"
   ]
  },
  {
   "cell_type": "code",
   "execution_count": null,
   "metadata": {},
   "outputs": [],
   "source": [
    "plt.plot(xp[0], yp[0], 'o-')\n",
    "plt.xlim(0,1)\n",
    "plt.ylim(0,1)"
   ]
  },
  {
   "cell_type": "markdown",
   "metadata": {},
   "source": [
    "**3. Implementamos el método de Euler hacia adelante**:"
   ]
  },
  {
   "cell_type": "code",
   "execution_count": null,
   "metadata": {},
   "outputs": [],
   "source": [
    "# Interpolación de la velocidad\n",
    "def interpolaVel(qx, qy, xpi, ypi, h):\n",
    "    # localizamos la partícula dentro de la rejilla:\n",
    "    li = int(xpi/h)\n",
    "    lj = int(ypi/h)\n",
    "    return (qx[li,lj], qy[li,lj])"
   ]
  },
  {
   "cell_type": "code",
   "execution_count": null,
   "metadata": {},
   "outputs": [],
   "source": [
    "ht = 0.1\n",
    "for n in range(1,Pasos):\n",
    "    vx, vy = interpolaVel(qx, qy, xp[n-1], yp[n-1], h)\n",
    "    xp[n] = xp[n-1] + ht * vx\n",
    "    yp[n] = yp[n-1] + ht * vy"
   ]
  },
  {
   "cell_type": "code",
   "execution_count": null,
   "metadata": {},
   "outputs": [],
   "source": [
    "print(xp)\n",
    "print(yp)"
   ]
  },
  {
   "cell_type": "code",
   "execution_count": null,
   "metadata": {},
   "outputs": [],
   "source": [
    "plt.plot(xp, yp, '.-')\n",
    "plt.xlim(0,1)\n",
    "plt.ylim(0,1)"
   ]
  },
  {
   "cell_type": "markdown",
   "metadata": {},
   "source": [
    "<div class=\"alert alert-success\">\n",
    "\n",
    "## Ejercicio 6.\n",
    "Dibuja la trayectoria de la siguiente manera.\n",
    "- El primer punto color naranja transparente y contorno negro. \n",
    "- Las posiciones siguientes de color negro sobre puestas sobre la trayectoria.\n",
    "- La trayectoria de color gris.\n",
    "- Verifica que la trayectoria no se salga del cuadrado unitario.\n",
    "\n",
    "</div>"
   ]
  },
  {
   "cell_type": "code",
   "execution_count": null,
   "metadata": {},
   "outputs": [],
   "source": [
    "plt.figure(figsize=(5,5))\n",
    "plt.scatter(xp[0], yp[0], c='orange', edgecolor='k', alpha=0.5)\n",
    "plt.plot(xp, yp, c='gray')\n",
    "plt.scatter(xp[1:], yp[1:], c='k', s=10, zorder=5)\n",
    "plt.xlim(0,1)\n",
    "plt.ylim(0,1)\n",
    "ax = plt.gca()\n",
    "ax.set_aspect('equal')\n",
    "plt.savefig('trayectoria1.pdf')"
   ]
  },
  {
   "cell_type": "markdown",
   "metadata": {},
   "source": [
    "<div class=\"alert alert-success\">\n",
    "\n",
    "## Ejercicio 7.\n",
    "Dibuja varias trayectorias que inicien en sitios diferentes.\n",
    "\n",
    "</div>"
   ]
  },
  {
   "cell_type": "markdown",
   "metadata": {},
   "source": [
    "<div class=\"alert alert-success\">\n",
    "\n",
    "## Ejercicio 8.\n",
    "Implementa una interpolación bilineal para calcular la velocidad.\n",
    "\n",
    "</div>"
   ]
  },
  {
   "cell_type": "code",
   "execution_count": null,
   "metadata": {},
   "outputs": [],
   "source": []
  }
 ],
 "metadata": {
  "kernelspec": {
   "display_name": "Python 3 (ipykernel)",
   "language": "python",
   "name": "python3"
  },
  "language_info": {
   "codemirror_mode": {
    "name": "ipython",
    "version": 3
   },
   "file_extension": ".py",
   "mimetype": "text/x-python",
   "name": "python",
   "nbconvert_exporter": "python",
   "pygments_lexer": "ipython3",
   "version": "3.11.6"
  }
 },
 "nbformat": 4,
 "nbformat_minor": 4
}
