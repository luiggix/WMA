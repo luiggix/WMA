{
 "cells": [
  {
   "cell_type": "markdown",
   "metadata": {},
   "source": [
    "# Python 3: Programación Orientada a Objetos\n",
    "\n",
    "Autor: Luis M. de la Cruz, IGF-UNAM, octubre de 2019.\n"
   ]
  },
  {
   "cell_type": "markdown",
   "metadata": {},
   "source": [
    "# Introducción \n",
    "\n",
    "- En Python todo lo que se declara es un objeto.\n",
    "- El lenguaje tiene definidos objetos en su bibloteca estándar.\n",
    "- Los mayoría de las bibliotecas que componen el ecosistema de Python también definen objetos.\n",
    "\n",
    "## Algunos ejemplos:"
   ]
  },
  {
   "cell_type": "code",
   "execution_count": 1,
   "metadata": {},
   "outputs": [
    {
     "data": {
      "text/plain": [
       "int"
      ]
     },
     "execution_count": 1,
     "metadata": {},
     "output_type": "execute_result"
    }
   ],
   "source": [
    "x = 25\n",
    "type(x)"
   ]
  },
  {
   "cell_type": "code",
   "execution_count": 2,
   "metadata": {},
   "outputs": [
    {
     "name": "stdout",
     "output_type": "stream",
     "text": [
      "<class 'int'>\n"
     ]
    }
   ],
   "source": [
    "print(type(x))"
   ]
  },
  {
   "cell_type": "code",
   "execution_count": 3,
   "metadata": {},
   "outputs": [],
   "source": [
    "lista = ['a','b','c']"
   ]
  },
  {
   "cell_type": "code",
   "execution_count": 7,
   "metadata": {},
   "outputs": [
    {
     "name": "stdout",
     "output_type": "stream",
     "text": [
      "<class 'list'>\n"
     ]
    }
   ],
   "source": [
    "print(type(lista))"
   ]
  },
  {
   "cell_type": "code",
   "execution_count": 9,
   "metadata": {},
   "outputs": [],
   "source": [
    "tupla = ('e', 1, 3.1416)"
   ]
  },
  {
   "cell_type": "code",
   "execution_count": 10,
   "metadata": {},
   "outputs": [
    {
     "name": "stdout",
     "output_type": "stream",
     "text": [
      "<class 'tuple'>\n"
     ]
    }
   ],
   "source": [
    "print(type(tupla))"
   ]
  },
  {
   "cell_type": "code",
   "execution_count": 5,
   "metadata": {},
   "outputs": [],
   "source": [
    "diccionario = {'nombre':'Gabriel', 'edad':50}"
   ]
  },
  {
   "cell_type": "code",
   "execution_count": 8,
   "metadata": {},
   "outputs": [
    {
     "name": "stdout",
     "output_type": "stream",
     "text": [
      "<class 'dict'>\n"
     ]
    }
   ],
   "source": [
    "print(type(diccionario))"
   ]
  },
  {
   "cell_type": "code",
   "execution_count": 11,
   "metadata": {},
   "outputs": [],
   "source": [
    "import time\n",
    "clock = time.time()"
   ]
  },
  {
   "cell_type": "code",
   "execution_count": 12,
   "metadata": {},
   "outputs": [
    {
     "name": "stdout",
     "output_type": "stream",
     "text": [
      "<class 'float'>\n"
     ]
    }
   ],
   "source": [
    "print(type(clock))"
   ]
  },
  {
   "cell_type": "code",
   "execution_count": 19,
   "metadata": {},
   "outputs": [
    {
     "data": {
      "text/plain": [
       "array([0, 1, 2, 3, 4])"
      ]
     },
     "execution_count": 19,
     "metadata": {},
     "output_type": "execute_result"
    }
   ],
   "source": [
    "import numpy as np\n",
    "y = np.arange(5)\n",
    "y"
   ]
  },
  {
   "cell_type": "code",
   "execution_count": 20,
   "metadata": {},
   "outputs": [
    {
     "name": "stdout",
     "output_type": "stream",
     "text": [
      "<class 'numpy.ndarray'>\n"
     ]
    }
   ],
   "source": [
    "print(type(y))"
   ]
  },
  {
   "cell_type": "code",
   "execution_count": 21,
   "metadata": {},
   "outputs": [
    {
     "name": "stdout",
     "output_type": "stream",
     "text": [
      "<class 'function'>\n"
     ]
    }
   ],
   "source": [
    "def funcion():\n",
    "    pass\n",
    "\n",
    "print(type(funcion))"
   ]
  },
  {
   "cell_type": "markdown",
   "metadata": {},
   "source": [
    "## Los objetos tienen atributos y métodos"
   ]
  },
  {
   "cell_type": "code",
   "execution_count": 22,
   "metadata": {},
   "outputs": [
    {
     "data": {
      "text/plain": [
       "array([0, 1, 2, 3, 4])"
      ]
     },
     "execution_count": 22,
     "metadata": {},
     "output_type": "execute_result"
    }
   ],
   "source": [
    "y"
   ]
  },
  {
   "cell_type": "code",
   "execution_count": 23,
   "metadata": {},
   "outputs": [
    {
     "data": {
      "text/plain": [
       "(5,)"
      ]
     },
     "execution_count": 23,
     "metadata": {},
     "output_type": "execute_result"
    }
   ],
   "source": [
    "y.shape # atributo"
   ]
  },
  {
   "cell_type": "code",
   "execution_count": 24,
   "metadata": {},
   "outputs": [
    {
     "data": {
      "text/plain": [
       "4"
      ]
     },
     "execution_count": 24,
     "metadata": {},
     "output_type": "execute_result"
    }
   ],
   "source": [
    "y.max() # métodos"
   ]
  },
  {
   "cell_type": "code",
   "execution_count": 25,
   "metadata": {},
   "outputs": [
    {
     "data": {
      "text/plain": [
       "['a', 'b', 'c']"
      ]
     },
     "execution_count": 25,
     "metadata": {},
     "output_type": "execute_result"
    }
   ],
   "source": [
    "lista"
   ]
  },
  {
   "cell_type": "code",
   "execution_count": 26,
   "metadata": {},
   "outputs": [
    {
     "data": {
      "text/plain": [
       "'c'"
      ]
     },
     "execution_count": 26,
     "metadata": {},
     "output_type": "execute_result"
    }
   ],
   "source": [
    "lista.pop() # método"
   ]
  },
  {
   "cell_type": "code",
   "execution_count": 27,
   "metadata": {},
   "outputs": [
    {
     "data": {
      "text/plain": [
       "['a', 'b']"
      ]
     },
     "execution_count": 27,
     "metadata": {},
     "output_type": "execute_result"
    }
   ],
   "source": [
    "lista"
   ]
  },
  {
   "cell_type": "code",
   "execution_count": null,
   "metadata": {},
   "outputs": [],
   "source": []
  },
  {
   "cell_type": "markdown",
   "metadata": {},
   "source": [
    "## Notación UML\n",
    "\n",
    "\n",
    "- UML (Unified Modeling Language) es un lenguaje estándar para especificar, visualizar, construir y documentar los artefactos de sistemas de software.\n",
    "- Fue creado por el Object Management Group (OMG) y la especificación UML 1.0 se propuso en enero de 1997. Se usa en otros ámbitos además del software.\n",
    "- UML es un modelo estandarizado para describir el enfoque de la Programación Orientada a Objetos (POO).\n",
    "- Las clases son los principales artefactos en la POO. \n",
    "- En un diagrama UML, se pueden representar componentes, clases que serán programadas, los objetos principales y/o las interacciones entre clases y objetos.\n",
    "- Estos diagramas describen la arquitectura del sistema y al mismo tiempo lo documentan para su mantenimiento futuro y su posible actualización.\n",
    "\n",
    "<img src=\"./uml_diag_general.png\" alt=\"Smiley\" style=\"width: 500px;\" />\n",
    "\n",
    "<br>\n",
    "\n",
    "<img src=\"./box_uml.png\" alt=\"Smiley\" style=\"width: 500px;\" />\n",
    "\n",
    "<br>\n",
    "\n",
    "<img src=\"./uml_mvf.png\" alt=\"Smiley\" style=\"width: 500px;\" />"
   ]
  },
  {
   "cell_type": "markdown",
   "metadata": {},
   "source": [
    "# Definición de clases\n",
    "\n",
    "<img src=\"./ClasesObjetosPython.png\" alt=\"Smiley\">"
   ]
  },
  {
   "cell_type": "code",
   "execution_count": 1,
   "metadata": {},
   "outputs": [],
   "source": [
    "from math import pi as 𝜋\n",
    "\n",
    "# La clase Círculo definida con el método calcArea y el atributo radio\n",
    "class Circulo:\n",
    "    '''\n",
    "    Esta clase define un círculo.\n",
    "    '''\n",
    "    def calcArea(self):\n",
    "        '''\n",
    "        Esté método calcula el área del círculo.\n",
    "        '''\n",
    "        return 𝜋 * self.radio ** 2 # El atributo radio es \n",
    "                                    # declarado en el primer\n",
    "                                    # momento en que es usado\n",
    "                                    # dentro de la clase."
   ]
  },
  {
   "cell_type": "code",
   "execution_count": 3,
   "metadata": {},
   "outputs": [
    {
     "data": {
      "text/plain": [
       "mappingproxy({'__module__': '__main__',\n",
       "              '__doc__': '\\n    Esta clase define un círculo.\\n    ',\n",
       "              'calcArea': <function __main__.Circulo.calcArea(self)>,\n",
       "              '__dict__': <attribute '__dict__' of 'Circulo' objects>,\n",
       "              '__weakref__': <attribute '__weakref__' of 'Circulo' objects>})"
      ]
     },
     "execution_count": 3,
     "metadata": {},
     "output_type": "execute_result"
    }
   ],
   "source": [
    "Circulo.__dict__ # Muestra los métodos y atributos de la clase"
   ]
  },
  {
   "cell_type": "markdown",
   "metadata": {},
   "source": [
    "## Creación de objetos"
   ]
  },
  {
   "cell_type": "code",
   "execution_count": 4,
   "metadata": {},
   "outputs": [
    {
     "data": {
      "text/plain": [
       "314.1592653589793"
      ]
     },
     "execution_count": 4,
     "metadata": {},
     "output_type": "execute_result"
    }
   ],
   "source": [
    "rueda = Circulo()  # rueda es un objeto de tipo Circulo\n",
    "rueda.radio = 10   # se define el valor del radio de la rueda\n",
    "rueda.calcArea()   # se ejecuta el método calcArea() de la clase Circulo"
   ]
  },
  {
   "cell_type": "code",
   "execution_count": 6,
   "metadata": {},
   "outputs": [
    {
     "data": {
      "text/plain": [
       "{'radio': 10}"
      ]
     },
     "execution_count": 6,
     "metadata": {},
     "output_type": "execute_result"
    }
   ],
   "source": [
    "rueda.__dict__ # Muestra los atributos del objeto rueda"
   ]
  },
  {
   "cell_type": "code",
   "execution_count": 7,
   "metadata": {},
   "outputs": [
    {
     "data": {
      "text/plain": [
       "31415.926535897932"
      ]
     },
     "execution_count": 7,
     "metadata": {},
     "output_type": "execute_result"
    }
   ],
   "source": [
    "# Creamos otro objeto de tipo Circulo\n",
    "rueda1 = Circulo()\n",
    "rueda1.radio = 100\n",
    "rueda1.calcArea()"
   ]
  },
  {
   "cell_type": "code",
   "execution_count": 8,
   "metadata": {},
   "outputs": [
    {
     "data": {
      "text/plain": [
       "{'radio': 100}"
      ]
     },
     "execution_count": 8,
     "metadata": {},
     "output_type": "execute_result"
    }
   ],
   "source": [
    "rueda1.__dict__ "
   ]
  },
  {
   "cell_type": "code",
   "execution_count": 9,
   "metadata": {},
   "outputs": [
    {
     "name": "stdout",
     "output_type": "stream",
     "text": [
      "10\n",
      "100\n"
     ]
    }
   ],
   "source": [
    "print(rueda.radio)\n",
    "print(rueda1.radio)"
   ]
  },
  {
   "cell_type": "code",
   "execution_count": 10,
   "metadata": {},
   "outputs": [
    {
     "name": "stdout",
     "output_type": "stream",
     "text": [
      "140054794452496\n",
      "140054794503440\n"
     ]
    }
   ],
   "source": [
    "print(id(rueda))\n",
    "print(id(rueda1))"
   ]
  },
  {
   "cell_type": "code",
   "execution_count": 11,
   "metadata": {},
   "outputs": [],
   "source": [
    "# ¿Esto crea un nuevo objeto?\n",
    "rueda2 = rueda"
   ]
  },
  {
   "cell_type": "code",
   "execution_count": 12,
   "metadata": {},
   "outputs": [
    {
     "name": "stdout",
     "output_type": "stream",
     "text": [
      "10 100 10\n",
      "140054794452496\n",
      "140054794503440\n",
      "140054794452496\n"
     ]
    }
   ],
   "source": [
    "print(rueda.radio, rueda1.radio,rueda2.radio)\n",
    "print(id(rueda))\n",
    "print(id(rueda1))\n",
    "print(id(rueda2))"
   ]
  },
  {
   "cell_type": "markdown",
   "metadata": {},
   "source": [
    "**Observaciones**: \n",
    "- La forma en que se declaró el atributo `radio`, de la clase     `Circulo`, no es muy conveniente.\n",
    "- Lo conveniente sería que los atributos de un objeto se declaren durante la creación del objeto.\n",
    "- El proceso de creación de un objeto de una clase se conoce en inglés como *instantation*. \n",
    "- Y un objeto concreto de la clase, por ejemplo el objeto `rueda`, se llama en inglés *instance*.\n"
   ]
  },
  {
   "cell_type": "markdown",
   "metadata": {},
   "source": [
    "### El constructor: `__init__`\n",
    "\n",
    "- El método `__init__`, que es definido por el usario dentro de la clase, se ejecuta automáticamente cuando se crea un objeto.\n",
    "- Al método `__init__` se le llama el **constructor**.\n",
    "- Generalmente en este método se inicializan todos los atributos de la clase, se reserva memoria si es necesario, lo cual **construye** el objeto correspondiente.\n",
    "\n",
    "Por ejemplo:"
   ]
  },
  {
   "cell_type": "code",
   "execution_count": 17,
   "metadata": {},
   "outputs": [],
   "source": [
    "class A:\n",
    "    \n",
    "    # El constructor de la clase\n",
    "    def __init__(self):\n",
    "        print('Hola mundo con clase, estás en __init__()')"
   ]
  },
  {
   "cell_type": "code",
   "execution_count": 16,
   "metadata": {},
   "outputs": [
    {
     "name": "stdout",
     "output_type": "stream",
     "text": [
      "Hola mundo con clase, estás en __init__\n"
     ]
    }
   ],
   "source": [
    "x = A() # Creamos un objeto"
   ]
  },
  {
   "cell_type": "markdown",
   "metadata": {},
   "source": [
    "Dado lo anterior, lo conveniente es declarar y si se puede también definir los atributos de la clase dentro del método `__init__()`\n",
    "\n",
    "Para la clase `Circulo` creada antes se podría realizar lo siguiente:"
   ]
  },
  {
   "cell_type": "code",
   "execution_count": 21,
   "metadata": {},
   "outputs": [],
   "source": [
    "from math import pi\n",
    "\n",
    "class Circulo:\n",
    "    \"\"\"\n",
    "    Esta clase define un círculo.\n",
    "    \"\"\"\n",
    "    \n",
    "    def __init__(self, radio = None, centro = None):\n",
    "        \"\"\"\n",
    "        El constructor de la clase.\n",
    "        Hay dos atributos: radio y centro.\n",
    "        \"\"\"\n",
    "        self.radio = radio\n",
    "        self.centro = centro\n",
    "        print(f'Método __init__: radio = {self.radio}, centro = {self.centro}')\n",
    "    \n",
    "    def calcArea(self):\n",
    "        \"\"\"\n",
    "        El método que calcula el área.\n",
    "        \"\"\"\n",
    "        return pi * self.radio ** 2"
   ]
  },
  {
   "cell_type": "code",
   "execution_count": 22,
   "metadata": {},
   "outputs": [
    {
     "data": {
      "text/plain": [
       "mappingproxy({'__module__': '__main__',\n",
       "              '__doc__': '\\n    Esta clase define un círculo.\\n    ',\n",
       "              '__init__': <function __main__.Circulo.__init__(self, radio=None, centro=None)>,\n",
       "              'calcArea': <function __main__.Circulo.calcArea(self)>,\n",
       "              '__dict__': <attribute '__dict__' of 'Circulo' objects>,\n",
       "              '__weakref__': <attribute '__weakref__' of 'Circulo' objects>})"
      ]
     },
     "execution_count": 22,
     "metadata": {},
     "output_type": "execute_result"
    }
   ],
   "source": [
    "Circulo.__dict__"
   ]
  },
  {
   "cell_type": "code",
   "execution_count": 24,
   "metadata": {},
   "outputs": [
    {
     "name": "stdout",
     "output_type": "stream",
     "text": [
      "Método __init__: radio = None, centro = None\n"
     ]
    }
   ],
   "source": [
    "rueda =  Circulo()"
   ]
  },
  {
   "cell_type": "code",
   "execution_count": 25,
   "metadata": {},
   "outputs": [
    {
     "data": {
      "text/plain": [
       "314.1592653589793"
      ]
     },
     "execution_count": 25,
     "metadata": {},
     "output_type": "execute_result"
    }
   ],
   "source": [
    "rueda.radio = 10\n",
    "rueda.calcArea()"
   ]
  },
  {
   "cell_type": "code",
   "execution_count": 26,
   "metadata": {},
   "outputs": [
    {
     "data": {
      "text/plain": [
       "{'radio': 10, 'centro': None}"
      ]
     },
     "execution_count": 26,
     "metadata": {},
     "output_type": "execute_result"
    }
   ],
   "source": [
    "rueda.__dict__"
   ]
  },
  {
   "cell_type": "code",
   "execution_count": 27,
   "metadata": {},
   "outputs": [
    {
     "name": "stdout",
     "output_type": "stream",
     "text": [
      "Método __init__: radio = 100, centro = None\n"
     ]
    },
    {
     "data": {
      "text/plain": [
       "31415.926535897932"
      ]
     },
     "execution_count": 27,
     "metadata": {},
     "output_type": "execute_result"
    }
   ],
   "source": [
    "rueda1 = Circulo(100)  # se ejecuta __init__() con \n",
    "                       #argumento radio = 100\n",
    "rueda1.calcArea() # como ya se definió el radio, \n",
    "                  # ya se puede calcular el área"
   ]
  },
  {
   "cell_type": "code",
   "execution_count": 28,
   "metadata": {},
   "outputs": [
    {
     "data": {
      "text/plain": [
       "{'radio': 100, 'centro': None}"
      ]
     },
     "execution_count": 28,
     "metadata": {},
     "output_type": "execute_result"
    }
   ],
   "source": [
    "rueda1.__dict__"
   ]
  },
  {
   "cell_type": "code",
   "execution_count": 29,
   "metadata": {},
   "outputs": [
    {
     "name": "stdout",
     "output_type": "stream",
     "text": [
      "Método __init__: radio = 1, centro = (2, 3)\n",
      "3.141592653589793\n",
      "(2, 3)\n"
     ]
    }
   ],
   "source": [
    "rueda2 = Circulo(1,(2,3)) # puedo pasar los dos argumentos.\n",
    "print(rueda2.calcArea())\n",
    "print(rueda2.centro)"
   ]
  },
  {
   "cell_type": "code",
   "execution_count": 30,
   "metadata": {},
   "outputs": [
    {
     "data": {
      "text/plain": [
       "{'radio': 1, 'centro': (2, 3)}"
      ]
     },
     "execution_count": 30,
     "metadata": {},
     "output_type": "execute_result"
    }
   ],
   "source": [
    "rueda2.__dict__"
   ]
  },
  {
   "cell_type": "markdown",
   "metadata": {},
   "source": [
    "### El destructor: `__del__`\n",
    "\n",
    "Al igual que existe un método constructor, también existe un método destructor que se identifica por `__del__()`\n",
    "\n",
    "Regresamos a nuestro ejemplo `Circulo`:"
   ]
  },
  {
   "cell_type": "code",
   "execution_count": 31,
   "metadata": {},
   "outputs": [],
   "source": [
    "from math import pi\n",
    "\n",
    "class Circulo:\n",
    "    \n",
    "    def __init__(self, radio = None, centro = None):\n",
    "        self.radio = radio\n",
    "        self.centro = centro\n",
    "        print('radio: ', self.radio, '; centro :', self.centro)\n",
    "        \n",
    "    def __del__(self):\n",
    "        print('El objeto será destruido')\n",
    "    \n",
    "    def calcArea(self):\n",
    "        return pi * self.radio ** 2"
   ]
  },
  {
   "cell_type": "code",
   "execution_count": 32,
   "metadata": {},
   "outputs": [
    {
     "name": "stdout",
     "output_type": "stream",
     "text": [
      "radio:  10 ; centro : (1, 1)\n",
      "314.1592653589793\n",
      "El objeto será destruido\n"
     ]
    }
   ],
   "source": [
    "rueda = Circulo(10,(1,1))\n",
    "print(rueda.calcArea())\n",
    "del(rueda)"
   ]
  },
  {
   "cell_type": "markdown",
   "metadata": {},
   "source": [
    "### `self`\n",
    "\n",
    "- El primer parámetro de un método es usado como referencia al objeto que ejecuta el método.\n",
    "- Este primer parámetro se conoce como `self`.\n",
    "- En el ejemplo anterior `self` corresponde al objeto \"rueda\".\n",
    "\n",
    "<img src=\"./AtributosDeClase.png\" alt=\"Smiley\">\n"
   ]
  },
  {
   "cell_type": "markdown",
   "metadata": {},
   "source": [
    "## Encapsulamiento y ocultamiento de la información\n",
    "\n",
    "Encapsulamiento: ocultar los atributos de un objeto, de tal manera que sólo se puedan modificar con métodos de la clase.\n",
    "\n",
    "### Atributos públicos, protegidos y privados\n",
    "\n"
   ]
  },
  {
   "cell_type": "code",
   "execution_count": 33,
   "metadata": {},
   "outputs": [
    {
     "name": "stdout",
     "output_type": "stream",
     "text": [
      "pub : atributo público\n"
     ]
    }
   ],
   "source": [
    "class miClase():\n",
    "    \n",
    "    def __init__(self):\n",
    "        self.pub = 'pub : atributo público'\n",
    "        self._pro = 'pro : atributo protegido'\n",
    "        self.__pri = 'pri : atributo privado'"
   ]
  },
  {
   "cell_type": "code",
   "execution_count": null,
   "metadata": {},
   "outputs": [],
   "source": [
    "m = miClase()"
   ]
  },
  {
   "cell_type": "code",
   "execution_count": 34,
   "metadata": {},
   "outputs": [
    {
     "name": "stdout",
     "output_type": "stream",
     "text": [
      "pub : atributo público\n"
     ]
    }
   ],
   "source": [
    "print(m.pub)"
   ]
  },
  {
   "cell_type": "code",
   "execution_count": 35,
   "metadata": {},
   "outputs": [
    {
     "name": "stdout",
     "output_type": "stream",
     "text": [
      "pro : atributo protegido\n"
     ]
    }
   ],
   "source": [
    "print(m._pro)"
   ]
  },
  {
   "cell_type": "code",
   "execution_count": 36,
   "metadata": {},
   "outputs": [
    {
     "ename": "AttributeError",
     "evalue": "'miClase' object has no attribute '__pri'",
     "output_type": "error",
     "traceback": [
      "\u001b[0;31m---------------------------------------------------------------------------\u001b[0m",
      "\u001b[0;31mAttributeError\u001b[0m                            Traceback (most recent call last)",
      "Cell \u001b[0;32mIn[36], line 1\u001b[0m\n\u001b[0;32m----> 1\u001b[0m \u001b[38;5;28mprint\u001b[39m(\u001b[43mm\u001b[49m\u001b[38;5;241;43m.\u001b[39;49m\u001b[43m__pri\u001b[49m)\n",
      "\u001b[0;31mAttributeError\u001b[0m: 'miClase' object has no attribute '__pri'"
     ]
    }
   ],
   "source": [
    "print(m.__pri)"
   ]
  },
  {
   "cell_type": "markdown",
   "metadata": {},
   "source": [
    "Vamos a definir la clase `Circulo` con atributos privados"
   ]
  },
  {
   "cell_type": "code",
   "execution_count": 44,
   "metadata": {},
   "outputs": [],
   "source": [
    "from math import pi\n",
    "\n",
    "class Circulo:\n",
    "    \n",
    "    def __init__(self, radio = None, centro = None):\n",
    "        self.__radio = radio   # Ahora el radio es privado\n",
    "        self.__centro = centro # Ahora el centro es privado\n",
    "        print(f'Método __init__: radio = {self.__radio}, centro = {self.__centro}')\n",
    "        \n",
    "    def __del__(self):\n",
    "        print('El objeto será destruido')\n",
    "        \n",
    "    def calcArea(self):\n",
    "        return pi * self.__radio ** 2"
   ]
  },
  {
   "cell_type": "code",
   "execution_count": 46,
   "metadata": {},
   "outputs": [
    {
     "name": "stdout",
     "output_type": "stream",
     "text": [
      "Método __init__: radio = 2, centro = (3, 4)\n"
     ]
    }
   ],
   "source": [
    "rueda = Circulo(2,(3,4))"
   ]
  },
  {
   "cell_type": "code",
   "execution_count": 47,
   "metadata": {},
   "outputs": [
    {
     "ename": "AttributeError",
     "evalue": "'Circulo' object has no attribute '__radio'",
     "output_type": "error",
     "traceback": [
      "\u001b[0;31m---------------------------------------------------------------------------\u001b[0m",
      "\u001b[0;31mAttributeError\u001b[0m                            Traceback (most recent call last)",
      "Cell \u001b[0;32mIn[47], line 1\u001b[0m\n\u001b[0;32m----> 1\u001b[0m \u001b[38;5;28mprint\u001b[39m(\u001b[43mrueda\u001b[49m\u001b[38;5;241;43m.\u001b[39;49m\u001b[43m__radio\u001b[49m, rueda\u001b[38;5;241m.\u001b[39m__centro)\n",
      "\u001b[0;31mAttributeError\u001b[0m: 'Circulo' object has no attribute '__radio'"
     ]
    }
   ],
   "source": [
    "print(rueda.__radio, rueda.__centro)"
   ]
  },
  {
   "cell_type": "markdown",
   "metadata": {},
   "source": [
    "### *Getters* y *setters*\n",
    "\n",
    "Para acceder y modificar la información de la clase se definen dos tipos de métodos: *get* y *set*."
   ]
  },
  {
   "cell_type": "markdown",
   "metadata": {},
   "source": [
    "En clase `Circulo` hacemos lo siguiente:"
   ]
  },
  {
   "cell_type": "code",
   "execution_count": 49,
   "metadata": {},
   "outputs": [],
   "source": [
    "from math import pi\n",
    "\n",
    "class Circulo:\n",
    "    \n",
    "    def __init__(self, radio = None, centro = None):\n",
    "        self.__radio = radio\n",
    "        self.__centro = centro\n",
    "        print(f'Método __init__: radio = {self.__radio}, centro = {self.__centro}')\n",
    "        \n",
    "    def __del__(self):\n",
    "        print('El objeto será destruido')\n",
    "\n",
    "    # Define el radio\n",
    "    def setRadio(self, radio):\n",
    "        self.__radio = radio\n",
    "\n",
    "    # Regresa el radio\n",
    "    def getRadio(self):\n",
    "        return self.__radio\n",
    "\n",
    "    # Define el centro\n",
    "    def setCentro(self, centro):\n",
    "        self.__centro = centro\n",
    "\n",
    "    # Regresa el centro\n",
    "    def getCentro(self):\n",
    "        return self.__centro\n",
    "        \n",
    "    def calcArea(self):\n",
    "        return pi * self.__radio ** 2"
   ]
  },
  {
   "cell_type": "code",
   "execution_count": 50,
   "metadata": {},
   "outputs": [
    {
     "name": "stdout",
     "output_type": "stream",
     "text": [
      "Método __init__: radio = 2, centro = (3, 4)\n",
      "2 (3, 4)\n",
      "12.566370614359172\n"
     ]
    }
   ],
   "source": [
    "rueda = Circulo(2,(3,4))\n",
    "print(rueda.getRadio(), rueda.getCentro())\n",
    "print(rueda.calcArea())"
   ]
  },
  {
   "cell_type": "code",
   "execution_count": 51,
   "metadata": {},
   "outputs": [
    {
     "name": "stdout",
     "output_type": "stream",
     "text": [
      "3.1 (7, 8)\n",
      "30.190705400997917\n"
     ]
    }
   ],
   "source": [
    "# Cambio el radio y el centro\n",
    "rueda.setRadio(3.1)\n",
    "rueda.setCentro((7,8))\n",
    "print(rueda.getRadio(), rueda.getCentro())\n",
    "print(rueda.calcArea())"
   ]
  },
  {
   "cell_type": "markdown",
   "metadata": {},
   "source": [
    "## Atributos de clase\n",
    "\n",
    "Es posible que la clase tenga atributos, los cuales son compartidos por todos los objetos de la clase. Estos son los atributos estáticos o de clase.\n",
    "\n",
    "Por ejemplo:"
   ]
  },
  {
   "cell_type": "code",
   "execution_count": 52,
   "metadata": {},
   "outputs": [],
   "source": [
    "class miClase():\n",
    "    ac = 'Atributo de clase'\n",
    "    \n",
    "    def __init__(self):\n",
    "        self.ao = 'Atributo de los objetos'"
   ]
  },
  {
   "cell_type": "code",
   "execution_count": 53,
   "metadata": {},
   "outputs": [
    {
     "name": "stdout",
     "output_type": "stream",
     "text": [
      "Atributo de clase\n",
      "Atributo de clase\n",
      "Atributo de los objetos\n",
      "Atributo de los objetos\n"
     ]
    }
   ],
   "source": [
    "c1 = miClase()\n",
    "c2 = miClase()\n",
    "print(c1.ac, c2.ac, sep='\\n')\n",
    "print(c1.ao, c2.ao, sep='\\n')"
   ]
  },
  {
   "cell_type": "markdown",
   "metadata": {},
   "source": [
    "Para modificar un atributo de clase se debe hacer como sigue:"
   ]
  },
  {
   "cell_type": "code",
   "execution_count": 54,
   "metadata": {},
   "outputs": [],
   "source": [
    "miClase.ac = 'Hola POO'"
   ]
  },
  {
   "cell_type": "code",
   "execution_count": 55,
   "metadata": {},
   "outputs": [
    {
     "name": "stdout",
     "output_type": "stream",
     "text": [
      "Hola POO\n",
      "Hola POO\n"
     ]
    }
   ],
   "source": [
    "print(c1.ac, c2.ac, sep='\\n')"
   ]
  },
  {
   "cell_type": "markdown",
   "metadata": {},
   "source": [
    "Cuidado con lo siguiente:"
   ]
  },
  {
   "cell_type": "code",
   "execution_count": 56,
   "metadata": {},
   "outputs": [],
   "source": [
    "c1.ac = 'Qué pasará?'"
   ]
  },
  {
   "cell_type": "code",
   "execution_count": 57,
   "metadata": {},
   "outputs": [
    {
     "name": "stdout",
     "output_type": "stream",
     "text": [
      "Qué pasará?\n",
      "Hola POO\n"
     ]
    }
   ],
   "source": [
    "print(c1.ac, c2.ac, sep='\\n')"
   ]
  },
  {
   "cell_type": "code",
   "execution_count": 58,
   "metadata": {},
   "outputs": [
    {
     "name": "stdout",
     "output_type": "stream",
     "text": [
      "{'ao': 'Atributo de los objetos', 'ac': 'Qué pasará?'}\n",
      "{'ao': 'Atributo de los objetos'}\n",
      "{'__module__': '__main__', 'ac': 'Hola POO', '__init__': <function miClase.__init__ at 0x7f610c4b9300>, '__dict__': <attribute '__dict__' of 'miClase' objects>, '__weakref__': <attribute '__weakref__' of 'miClase' objects>, '__doc__': None}\n"
     ]
    }
   ],
   "source": [
    "print(c1.__dict__)\n",
    "print(c2.__dict__)\n",
    "print(miClase.__dict__)"
   ]
  },
  {
   "cell_type": "markdown",
   "metadata": {},
   "source": [
    "Vamos  contar el número de objetos de tipo círculo que se están creando"
   ]
  },
  {
   "cell_type": "code",
   "execution_count": 59,
   "metadata": {},
   "outputs": [],
   "source": [
    "from math import pi\n",
    "\n",
    "class Circulo:\n",
    "\n",
    "    # Atributo estático (de la clase)\n",
    "    cuenta = 0\n",
    "    \n",
    "    def __init__(self, radio = None, centro = None):\n",
    "        type(self).cuenta += 1\n",
    "        self.__radio = radio\n",
    "        self.__centro = centro\n",
    "        \n",
    "    def __del__(self):\n",
    "        type(self).cuenta -= 1\n",
    "    \n",
    "    def setRadio(self, radio):\n",
    "        self.__radio = radio\n",
    "        \n",
    "    def getRadio(self):\n",
    "        return self.__radio\n",
    "\n",
    "    def setCentro(self, centro):\n",
    "        self.__centro = centro\n",
    "    \n",
    "    def getCentro(self):\n",
    "        return self.__centro\n",
    "        \n",
    "    def calcArea(self):\n",
    "        return pi * self.__radio ** 2"
   ]
  },
  {
   "cell_type": "code",
   "execution_count": 63,
   "metadata": {},
   "outputs": [
    {
     "name": "stdout",
     "output_type": "stream",
     "text": [
      "Total de círculos: 5\n",
      "Total de círculos: 5\n"
     ]
    }
   ],
   "source": [
    "circ_1 = Circulo(1,(0,0))\n",
    "circ_2 = Circulo(2,(0,0))\n",
    "circ_3 = Circulo(3,(0,0))\n",
    "print('Total de círculos: {}'.format(Circulo.cuenta))\n",
    "circ_4 = Circulo(4,(0,0))\n",
    "circ_5 = Circulo(5,(0,0))\n",
    "print('Total de círculos: {}'.format(Circulo.cuenta))"
   ]
  },
  {
   "cell_type": "code",
   "execution_count": 64,
   "metadata": {},
   "outputs": [
    {
     "name": "stdout",
     "output_type": "stream",
     "text": [
      "Total de círculos: 4\n"
     ]
    }
   ],
   "source": [
    "del circ_1 # Elimino el círculo 1\n",
    "print('Total de círculos: {}'.format(Circulo.cuenta))"
   ]
  },
  {
   "cell_type": "markdown",
   "metadata": {},
   "source": [
    "## Métodos estáticos\n",
    "\n",
    "Cuando un atributo de clase (estático) es privado, se debe usar un método para acceder al mismo."
   ]
  },
  {
   "cell_type": "code",
   "execution_count": 65,
   "metadata": {},
   "outputs": [],
   "source": [
    "from math import pi\n",
    "\n",
    "class Circulo:\n",
    "    \n",
    "    __cuenta = 0 # Ahora este atributo estático es privado\n",
    "    \n",
    "    def __init__(self, radio = None, centro = None):\n",
    "        type(self).__cuenta += 1  # Accediendo al atributo estático mediante el tipo de la Clase\n",
    "        self.__radio = radio\n",
    "        self.__centro = centro\n",
    "        \n",
    "    def __del__(self):\n",
    "        type(self).__cuenta -= 1\n",
    "    \n",
    "    # este no es un método estatico\n",
    "    def getCuenta(self):\n",
    "        return Circulo.__cuenta\n",
    "    \n",
    "    def setRadio(self, radio):\n",
    "        self.__radio = radio\n",
    "        \n",
    "    def getRadio(self):\n",
    "        return self.__radio\n",
    "\n",
    "    def setCentro(self, centro):\n",
    "        self.__centro = centro\n",
    "    \n",
    "    def getCentro(self):\n",
    "        return self.__centro\n",
    "        \n",
    "    def calcArea(self):\n",
    "        return pi * self.__radio ** 2"
   ]
  },
  {
   "cell_type": "code",
   "execution_count": 73,
   "metadata": {},
   "outputs": [],
   "source": [
    "circ_1 = Circulo(1,(0,0))\n",
    "circ_2 = Circulo(2,(0,0))\n",
    "circ_3 = Circulo(3,(0,0))"
   ]
  },
  {
   "cell_type": "code",
   "execution_count": 74,
   "metadata": {},
   "outputs": [
    {
     "ename": "TypeError",
     "evalue": "Circulo.getCuenta() missing 1 required positional argument: 'self'",
     "output_type": "error",
     "traceback": [
      "\u001b[0;31m---------------------------------------------------------------------------\u001b[0m",
      "\u001b[0;31mTypeError\u001b[0m                                 Traceback (most recent call last)",
      "Cell \u001b[0;32mIn[74], line 2\u001b[0m\n\u001b[1;32m      1\u001b[0m \u001b[38;5;66;03m# No podemos ejecutar getCuenta() con la clase !!\u001b[39;00m\n\u001b[0;32m----> 2\u001b[0m \u001b[38;5;28mprint\u001b[39m(\u001b[38;5;124m'\u001b[39m\u001b[38;5;124mTotal de círculos: \u001b[39m\u001b[38;5;132;01m{}\u001b[39;00m\u001b[38;5;124m'\u001b[39m\u001b[38;5;241m.\u001b[39mformat(\u001b[43mCirculo\u001b[49m\u001b[38;5;241;43m.\u001b[39;49m\u001b[43mgetCuenta\u001b[49m\u001b[43m(\u001b[49m\u001b[43m)\u001b[49m))\n",
      "\u001b[0;31mTypeError\u001b[0m: Circulo.getCuenta() missing 1 required positional argument: 'self'"
     ]
    }
   ],
   "source": [
    "# No podemos ejecutar getCuenta() con la clase !!\n",
    "print('Total de círculos: {}'.format(Circulo.getCuenta()))"
   ]
  },
  {
   "cell_type": "code",
   "execution_count": 75,
   "metadata": {},
   "outputs": [
    {
     "name": "stdout",
     "output_type": "stream",
     "text": [
      "Total de círculos: 3\n"
     ]
    }
   ],
   "source": [
    "# Solo es posible ejecutar getCuenta() a través de un objeto !!\n",
    "print('Total de círculos: {}'.format(circ_1.getCuenta()))"
   ]
  },
  {
   "cell_type": "markdown",
   "metadata": {},
   "source": [
    "Los métodos estáticos permiten ser ejecutados sin necesidad de un objeto de la clase:"
   ]
  },
  {
   "cell_type": "code",
   "execution_count": 76,
   "metadata": {},
   "outputs": [],
   "source": [
    "from math import pi\n",
    "\n",
    "class Circulo:\n",
    "    \n",
    "    __cuenta = 0 # Ahora este atributo estáticos es privado\n",
    "    \n",
    "    def __init__(self, radio = None, centro = None):\n",
    "        type(self).__cuenta += 1 # Accediendo al atributo estático mediante el tipo de la Clase\n",
    "        self.__radio = radio\n",
    "        self.__centro = centro\n",
    "        \n",
    "    def __del__(self):\n",
    "        type(self).__cuenta -= 1\n",
    "    \n",
    "    @staticmethod       # Así definimos un método estático\n",
    "    def getCuenta():    # Ahora la función no recibe el parámetro self\n",
    "        return Circulo.__cuenta\n",
    "    \n",
    "    def setRadio(self, radio):\n",
    "        self.__radio = radio\n",
    "        \n",
    "    def getRadio(self):\n",
    "        return self.__radio\n",
    "\n",
    "    def setCentro(self, centro):\n",
    "        self.__centro = centro\n",
    "    \n",
    "    def getCentro(self):\n",
    "        return self.__centro\n",
    "        \n",
    "    def calcArea(self):\n",
    "        return pi * self.__radio ** 2"
   ]
  },
  {
   "cell_type": "code",
   "execution_count": 77,
   "metadata": {},
   "outputs": [
    {
     "name": "stdout",
     "output_type": "stream",
     "text": [
      "Total de círculos: 3\n"
     ]
    }
   ],
   "source": [
    "circ_1 = Circulo(1,(0,0))\n",
    "circ_2 = Circulo(2,(0,0))\n",
    "circ_3 = Circulo(3,(0,0))\n",
    "print('Total de círculos: {}'.format(Circulo.getCuenta()))"
   ]
  },
  {
   "cell_type": "code",
   "execution_count": 79,
   "metadata": {},
   "outputs": [
    {
     "name": "stdout",
     "output_type": "stream",
     "text": [
      "Total de círculos: 3\n"
     ]
    }
   ],
   "source": [
    "# También puedo ejecutar el método a través de un objeto\n",
    "print('Total de círculos: {}'.format(circ_2.getCuenta()))"
   ]
  },
  {
   "cell_type": "markdown",
   "metadata": {},
   "source": [
    "## `@property`\n",
    "\n",
    "- Los métodos *getters* y *setters* son usados muy comúnmente en los lenguajes POO para asegurar el principio de la encapsulación de datos. También se conocen como métodos mutadores.\n",
    "- La encapsulación de datos se puede ver como el argupamiento de datos y métodos que operan sobre esos datos.\n",
    "- De acuerdo con este principio, algunos datos son privados de tal manera que es necesario usar los *getters* y *setters* para obtener y modificar esos datos.\n",
    "- Sin embargo, la forma *Pythónica* para acceder a la información privada es hacerla pública!!!\n",
    "\n",
    "### Ejemplo:\n",
    "Implementaremos una clase para definir puntos en 1D.\n",
    "\n",
    "#### Implementación 1:"
   ]
  },
  {
   "cell_type": "code",
   "execution_count": 80,
   "metadata": {},
   "outputs": [],
   "source": [
    "class Point1D:\n",
    "\n",
    "    def __init__(self,x):\n",
    "        self.x = x # Atributo público"
   ]
  },
  {
   "cell_type": "code",
   "execution_count": 81,
   "metadata": {},
   "outputs": [
    {
     "name": "stdout",
     "output_type": "stream",
     "text": [
      "c1 : 5\n",
      "c2 : 54\n",
      "c3 : 59\n"
     ]
    }
   ],
   "source": [
    "c1 = Point1D(5)\n",
    "c2 = Point1D(54)\n",
    "c3 = Point1D(0)\n",
    "\n",
    "c3.x  = c1.x + c2.x\n",
    "\n",
    "print('c1 :', c1.x)\n",
    "print('c2 :', c2.x)\n",
    "print('c3 :', c3.x)"
   ]
  },
  {
   "cell_type": "markdown",
   "metadata": {},
   "source": [
    "Muy bonito y todo, pero **no hay encapsulamiento de la información.**\n",
    "\n",
    "#### Implementación 2:\n",
    "\n",
    "Para encapsular la información, el atributo `x` debe ser privado."
   ]
  },
  {
   "cell_type": "code",
   "execution_count": 82,
   "metadata": {},
   "outputs": [],
   "source": [
    "class Point1D:\n",
    "\n",
    "    def __init__(self, x):\n",
    "        self.__x = x # Ahora el atributo x es privado.\n",
    "\n",
    "    def getX(self):\n",
    "        return self.__x \n",
    "\n",
    "    def setX(self, x):\n",
    "        self.__x = x"
   ]
  },
  {
   "cell_type": "code",
   "execution_count": 83,
   "metadata": {},
   "outputs": [
    {
     "name": "stdout",
     "output_type": "stream",
     "text": [
      "c1 : 5\n",
      "c2 : 54\n",
      "c3 : 59\n"
     ]
    }
   ],
   "source": [
    "c1 = Point1D(5)\n",
    "c2 = Point1D(54)\n",
    "c3 = Point1D(0)\n",
    "\n",
    "c3.setX(c1.getX() + c2.getX())\n",
    "\n",
    "print('c1 :', c1.getX())\n",
    "print('c2 :', c2.getX())\n",
    "print('c3 :', c3.getX())"
   ]
  },
  {
   "cell_type": "markdown",
   "metadata": {},
   "source": [
    "Hay encapsulamiento de la información, pero no se cumple el primer principio del Zen de Python:  `Beautiful is better than ugly.`\n",
    "\n",
    "¿Qué pasaría si en el futuro necesito cambiar la implementación? Por ejemplo que el valor de `x` solo pudiera estar en un rango: $x \\in [min,max]$, donde $max$ y $min$ son valores definidos por el usuario. \n",
    "\n",
    "#### Implementación 3:"
   ]
  },
  {
   "cell_type": "code",
   "execution_count": 84,
   "metadata": {},
   "outputs": [],
   "source": [
    "class Point1D:\n",
    "\n",
    "    def __init__(self, x, minimo = 0, maximo = 100):\n",
    "        self.__min = minimo\n",
    "        self.__max = maximo\n",
    "        self.setX(x)\n",
    "\n",
    "    def getX(self):\n",
    "        return self.__x # Ahora el atributo x es privado.\n",
    "\n",
    "    def setX(self, x): # Aquí voy a checar el rango de valores\n",
    "        if x < self.__min:\n",
    "            self.__x = self.__min\n",
    "        elif x > self.__max:\n",
    "            self.__x = self.__max\n",
    "        else:\n",
    "            self.__x = x"
   ]
  },
  {
   "cell_type": "code",
   "execution_count": 85,
   "metadata": {},
   "outputs": [
    {
     "name": "stdout",
     "output_type": "stream",
     "text": [
      "45 0 100\n"
     ]
    }
   ],
   "source": [
    "# Veamos que cumple con el rango de valores\n",
    "x1 = Point1D(45)\n",
    "x2 = Point1D(-8)\n",
    "x3 = Point1D(300)\n",
    "print(x1.getX(), x2.getX(), x3.getX())"
   ]
  },
  {
   "cell_type": "code",
   "execution_count": 86,
   "metadata": {},
   "outputs": [],
   "source": [
    "# Ahora vamos a sumar el valor de x de diferentes objetos como en la implementación 1\n",
    "c1 = Point1D(5)\n",
    "c2 = Point1D(54)\n",
    "c3 = Point1D(0)"
   ]
  },
  {
   "cell_type": "code",
   "execution_count": 87,
   "metadata": {},
   "outputs": [
    {
     "name": "stdout",
     "output_type": "stream",
     "text": [
      "59\n"
     ]
    }
   ],
   "source": [
    "# Para sumar las 'x' de cada punto, en la versión con atributos públicos se hacia:\n",
    "# c3.x = c1.x + c2.x\n",
    "# En esta nueva versión se debe hacer con la función getX():\n",
    "c3.setX(c1.getX() + c2.getX())\n",
    "print(c3.getX())"
   ]
  },
  {
   "cell_type": "markdown",
   "metadata": {},
   "source": [
    "Esto rompe con la compatibilidad: un usuario de la versión 1 tendría que cambiar su código!!!\n",
    "\n",
    "Esta es la razón por la que muchos expertos de POO recomiendan usar solo atributos privados y acceder a ellos mediante *getters* y *setters*, de tal manera que se pueda cambiar la implementación manteniendo la interfaz sin modificaciones para el cliente.\n",
    "\n",
    "Python ofrece una manera de mantener la implementación clara y usable, con encapsulamiento de la información\n",
    "\n",
    "#### Implementación 4:"
   ]
  },
  {
   "cell_type": "code",
   "execution_count": 88,
   "metadata": {},
   "outputs": [],
   "source": [
    "class Point1D:\n",
    "\n",
    "    def __init__(self, x, minimo = 0, maximo = 100):\n",
    "        self.__min = minimo\n",
    "        self.__max = maximo\n",
    "        self.x = x # Ojo: aquí se ejecuta la función setter\n",
    "\n",
    "    @property\n",
    "    def x(self):\n",
    "        return self.__x # Ahora el atributo x es privado.\n",
    "\n",
    "    @x.setter\n",
    "    def x(self, x): # Aquí voy a checar el rango de valores\n",
    "        if x < self.__min:\n",
    "            self.__x = self.__min\n",
    "        elif x > self.__max:\n",
    "            self.__x = self.__max\n",
    "        else:\n",
    "            self.__x = x"
   ]
  },
  {
   "cell_type": "code",
   "execution_count": 89,
   "metadata": {},
   "outputs": [
    {
     "name": "stdout",
     "output_type": "stream",
     "text": [
      "c1 : 5\n",
      "c2 : 54\n",
      "c3 : 59\n"
     ]
    }
   ],
   "source": [
    "# Ahora vamos a sumar el valor de x de diferentes objetos como en la implementación 1\n",
    "c1 = Point1D(5)\n",
    "c2 = Point1D(54)\n",
    "c3 = Point1D(0)\n",
    "\n",
    "c3.x  = c1.x + c2.x\n",
    "\n",
    "print('c1 :', c1.x)\n",
    "print('c2 :', c2.x)\n",
    "print('c3 :', c3.x)"
   ]
  },
  {
   "cell_type": "code",
   "execution_count": 90,
   "metadata": {},
   "outputs": [
    {
     "name": "stdout",
     "output_type": "stream",
     "text": [
      "45 0 100\n"
     ]
    }
   ],
   "source": [
    "# Veamos que cumple con el rango de valores\n",
    "x1 = Point1D(45)\n",
    "x2 = Point1D(-8)\n",
    "x3 = Point1D(300)\n",
    "print(x1.x, x2.x, x3.x)"
   ]
  },
  {
   "cell_type": "markdown",
   "metadata": {},
   "source": [
    "**Observación:**\n",
    "Se puede comenzar con una implementación muy sencilla, con atributos públicos (sin encapsulación de la información) y posteriormente mejorar esa implementación con atributos privados, con *getters* y *setters* y usando @property y @x.setter para acceder a la información privada, como si fuera pública. Esto mantiene la interfaz del usuario intacta."
   ]
  },
  {
   "cell_type": "markdown",
   "metadata": {},
   "source": [
    "## El método `__call__`\n",
    "\n",
    "- Una función es un objeto que se puede ejecutar (llamar) desde un cierto punto del programa: `f(x)`\n",
    "- Existen otro tipo de objetos que se pueden ejecutar como si fueran una función; estos objetos se conocen como *functor* o *function object*.\n",
    "- Podemos definir clases, cuyos objetos se comporten como funciones y para ello se hace uso del método `__call__`.\n",
    "- Cuando el objeto es usado como una función se ejecuta automáticamente el método `__call__`.\n"
   ]
  },
  {
   "cell_type": "code",
   "execution_count": 91,
   "metadata": {},
   "outputs": [],
   "source": [
    "class Ejemplo:\n",
    "    \n",
    "    def __init__(self):\n",
    "        print(\"Constructor de la clase Ejemplo\")\n",
    "    \n",
    "    def __call__(self, *args, **kwargs):\n",
    "        print(\"Los argumentos de la ejecución(llamada) son:\", args, kwargs)"
   ]
  },
  {
   "cell_type": "code",
   "execution_count": 92,
   "metadata": {},
   "outputs": [
    {
     "name": "stdout",
     "output_type": "stream",
     "text": [
      "Constructor de la clase Ejemplo\n",
      "Los argumentos de la ejecución(llamada) son: (3, 4) {'x': 11, 'y': 10}\n",
      "Los argumentos de la ejecución(llamada) son: (3, 4) {'nombre': 'Luis'}\n"
     ]
    }
   ],
   "source": [
    "# Se construye un objeto\n",
    "x = Ejemplo()\n",
    "\n",
    "# Usamos el objeto como una función:\n",
    "x(3, 4, x=11, y=10)\n",
    "\n",
    "x(3, 4, nombre='Luis')"
   ]
  },
  {
   "cell_type": "markdown",
   "metadata": {},
   "source": [
    "Clase Fibonacci con la definición de la función `__call__`"
   ]
  },
  {
   "cell_type": "code",
   "execution_count": 103,
   "metadata": {},
   "outputs": [
    {
     "name": "stdout",
     "output_type": "stream",
     "text": [
      "<class '__main__.Fibonacci'>\n",
      "0\n",
      "1\n",
      "1\n",
      "2\n",
      "3\n",
      "5\n",
      "8\n",
      "13\n",
      "21\n",
      "34\n",
      "55\n",
      "89\n",
      "144\n",
      "233\n",
      "377\n"
     ]
    }
   ],
   "source": [
    "class Fibonacci:\n",
    "\n",
    "    def __init__(self):\n",
    "        self.cache = {}\n",
    "\n",
    "    def __call__(self, n):\n",
    "        if n not in self.cache:\n",
    "            if n == 0:\n",
    "                self.cache[0] = 0\n",
    "            elif n == 1:\n",
    "                self.cache[1] = 1\n",
    "            else:\n",
    "                self.cache[n] = self.__call__(n-1) + self.__call__(n-2)\n",
    "        return self.cache[n]\n",
    "\n",
    "# Creamos un objeto\n",
    "fib = Fibonacci()\n",
    "print(type(fib))\n",
    "\n",
    "# Usamos el objeto como una función\n",
    "for i in range(15):\n",
    "    print(fib(i))"
   ]
  },
  {
   "cell_type": "markdown",
   "metadata": {},
   "source": [
    "## Decoradores usando clases \n",
    "\n",
    "Supongamos que tenemos el siguiente decorador:"
   ]
  },
  {
   "cell_type": "code",
   "execution_count": 104,
   "metadata": {},
   "outputs": [],
   "source": [
    "def funcion_x():\n",
    "    print('Hola mundo pythonico!')"
   ]
  },
  {
   "cell_type": "code",
   "execution_count": 106,
   "metadata": {},
   "outputs": [
    {
     "name": "stdout",
     "output_type": "stream",
     "text": [
      "Hola mundo pythonico!\n"
     ]
    }
   ],
   "source": [
    "funcion_x()"
   ]
  },
  {
   "cell_type": "code",
   "execution_count": 113,
   "metadata": {},
   "outputs": [],
   "source": [
    "def decorador(f):\n",
    "    def helper():\n",
    "        print('Decorando la función : {}'.format(f.__name__))\n",
    "        print('-'*80)\n",
    "        print('\\t\\t', end='')\n",
    "        f()\n",
    "        print('-'*80)       \n",
    "    return helper"
   ]
  },
  {
   "cell_type": "code",
   "execution_count": 114,
   "metadata": {},
   "outputs": [],
   "source": [
    "@decorador          # Recordemos que esto es equivalente a : funcion_x = decorador(funcion_x)\n",
    "def funcion_x():\n",
    "    print('Hola mundo pythonico!')"
   ]
  },
  {
   "cell_type": "code",
   "execution_count": 115,
   "metadata": {},
   "outputs": [
    {
     "name": "stdout",
     "output_type": "stream",
     "text": [
      "Decorando la función : funcion_x\n",
      "--------------------------------------------------------------------------------\n",
      "\t\tHola mundo pythonico!\n",
      "--------------------------------------------------------------------------------\n"
     ]
    }
   ],
   "source": [
    "funcion_x()"
   ]
  },
  {
   "cell_type": "markdown",
   "metadata": {},
   "source": [
    "Usando una clase y la función `__call__` se puede obtener el mismo resultado"
   ]
  },
  {
   "cell_type": "code",
   "execution_count": 116,
   "metadata": {},
   "outputs": [],
   "source": [
    "class ClaseDecorador:\n",
    "    \n",
    "    def __init__(self, f):\n",
    "        self.f = f\n",
    "        \n",
    "    def __call__(self):\n",
    "        print('-'*80)\n",
    "        print('Decorando la función : {}'.format(self.f.__name__))\n",
    "        print('-'*80)\n",
    "        print('\\t\\t', end='')\n",
    "        self.f()\n",
    "        print('-'*80)  "
   ]
  },
  {
   "cell_type": "code",
   "execution_count": 117,
   "metadata": {},
   "outputs": [],
   "source": [
    "\n",
    "@ClaseDecorador  # Esto es equivalente a: funcion_y = ClaseDecorador(funcion_y)\n",
    "def funcion_y():\n",
    "    print('Hola mundo pythonico!')"
   ]
  },
  {
   "cell_type": "code",
   "execution_count": 118,
   "metadata": {},
   "outputs": [
    {
     "name": "stdout",
     "output_type": "stream",
     "text": [
      "--------------------------------------------------------------------------------\n",
      "Decorando la función : funcion_y\n",
      "--------------------------------------------------------------------------------\n",
      "\t\tHola mundo pythonico!\n",
      "--------------------------------------------------------------------------------\n"
     ]
    }
   ],
   "source": [
    "funcion_y()"
   ]
  },
  {
   "cell_type": "code",
   "execution_count": 124,
   "metadata": {},
   "outputs": [],
   "source": [
    "import numpy as np\n",
    "\n",
    "@ClaseDecorador\n",
    "def funcion_z():\n",
    "    x = np.linspace(0, 2*pi,10)\n",
    "    y = np.sin(x)\n",
    "    print(x, y)"
   ]
  },
  {
   "cell_type": "code",
   "execution_count": 125,
   "metadata": {},
   "outputs": [
    {
     "name": "stdout",
     "output_type": "stream",
     "text": [
      "--------------------------------------------------------------------------------\n",
      "Decorando la función : funcion_z\n",
      "--------------------------------------------------------------------------------\n",
      "\t\t[0.         0.6981317  1.3962634  2.0943951  2.7925268  3.4906585\n",
      " 4.1887902  4.88692191 5.58505361 6.28318531] [ 0.00000000e+00  6.42787610e-01  9.84807753e-01  8.66025404e-01\n",
      "  3.42020143e-01 -3.42020143e-01 -8.66025404e-01 -9.84807753e-01\n",
      " -6.42787610e-01 -2.44929360e-16]\n",
      "--------------------------------------------------------------------------------\n"
     ]
    }
   ],
   "source": [
    "funcion_z()"
   ]
  },
  {
   "cell_type": "code",
   "execution_count": null,
   "metadata": {},
   "outputs": [],
   "source": []
  }
 ],
 "metadata": {
  "kernelspec": {
   "display_name": "Python 3 (ipykernel)",
   "language": "python",
   "name": "python3"
  },
  "language_info": {
   "codemirror_mode": {
    "name": "ipython",
    "version": 3
   },
   "file_extension": ".py",
   "mimetype": "text/x-python",
   "name": "python",
   "nbconvert_exporter": "python",
   "pygments_lexer": "ipython3",
   "version": "3.11.6"
  }
 },
 "nbformat": 4,
 "nbformat_minor": 4
}
