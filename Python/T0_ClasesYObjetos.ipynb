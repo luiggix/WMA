{
 "cells": [
  {
   "cell_type": "markdown",
   "metadata": {},
   "source": [
    "# Python 3: Programación Orientada a Objetos\n",
    "\n",
    "Autor: Luis M. de la Cruz, IGF-UNAM, octubre de 2019.\n"
   ]
  },
  {
   "cell_type": "markdown",
   "metadata": {},
   "source": [
    "# Introducción \n",
    "\n",
    "- En Python todo lo que se declara es un objeto.\n",
    "- El lenguaje tiene definidos objetos en su bibloteca estándar.\n",
    "- Los mayoría de las bibliotecas que componen el ecosistema de Python también definen objetos.\n",
    "\n",
    "## Algunos ejemplos:"
   ]
  },
  {
   "cell_type": "code",
   "execution_count": null,
   "metadata": {},
   "outputs": [],
   "source": [
    "x = 25\n",
    "type(x)"
   ]
  },
  {
   "cell_type": "code",
   "execution_count": null,
   "metadata": {},
   "outputs": [],
   "source": [
    "print(type(x))"
   ]
  },
  {
   "cell_type": "code",
   "execution_count": null,
   "metadata": {},
   "outputs": [],
   "source": [
    "lista = ['a','b','c']"
   ]
  },
  {
   "cell_type": "code",
   "execution_count": null,
   "metadata": {},
   "outputs": [],
   "source": [
    "print(type(lista))"
   ]
  },
  {
   "cell_type": "code",
   "execution_count": null,
   "metadata": {},
   "outputs": [],
   "source": [
    "tupla = ('e', 1, 3.1416)"
   ]
  },
  {
   "cell_type": "code",
   "execution_count": null,
   "metadata": {},
   "outputs": [],
   "source": [
    "print(type(tupla))"
   ]
  },
  {
   "cell_type": "code",
   "execution_count": null,
   "metadata": {},
   "outputs": [],
   "source": [
    "diccionario = {'nombre':'Gabriel', 'edad':50}"
   ]
  },
  {
   "cell_type": "code",
   "execution_count": null,
   "metadata": {},
   "outputs": [],
   "source": [
    "print(type(diccionario))"
   ]
  },
  {
   "cell_type": "code",
   "execution_count": null,
   "metadata": {},
   "outputs": [],
   "source": [
    "import time\n",
    "clock = time.time()"
   ]
  },
  {
   "cell_type": "code",
   "execution_count": null,
   "metadata": {},
   "outputs": [],
   "source": [
    "print(type(clock))"
   ]
  },
  {
   "cell_type": "code",
   "execution_count": null,
   "metadata": {},
   "outputs": [],
   "source": [
    "import numpy as np\n",
    "y = np.arange(5)\n",
    "y"
   ]
  },
  {
   "cell_type": "code",
   "execution_count": null,
   "metadata": {},
   "outputs": [],
   "source": [
    "print(type(y))"
   ]
  },
  {
   "cell_type": "code",
   "execution_count": null,
   "metadata": {},
   "outputs": [],
   "source": [
    "def funcion():\n",
    "    pass\n",
    "\n",
    "print(type(funcion))"
   ]
  },
  {
   "cell_type": "markdown",
   "metadata": {},
   "source": [
    "## Los objetos tienen atributos y métodos"
   ]
  },
  {
   "cell_type": "code",
   "execution_count": null,
   "metadata": {},
   "outputs": [],
   "source": [
    "y"
   ]
  },
  {
   "cell_type": "code",
   "execution_count": null,
   "metadata": {},
   "outputs": [],
   "source": [
    "y.shape # atributo"
   ]
  },
  {
   "cell_type": "code",
   "execution_count": null,
   "metadata": {},
   "outputs": [],
   "source": [
    "y.max() # métodos"
   ]
  },
  {
   "cell_type": "code",
   "execution_count": null,
   "metadata": {},
   "outputs": [],
   "source": [
    "lista"
   ]
  },
  {
   "cell_type": "code",
   "execution_count": null,
   "metadata": {},
   "outputs": [],
   "source": [
    "lista.pop() # método"
   ]
  },
  {
   "cell_type": "code",
   "execution_count": null,
   "metadata": {},
   "outputs": [],
   "source": [
    "lista"
   ]
  },
  {
   "cell_type": "code",
   "execution_count": null,
   "metadata": {},
   "outputs": [],
   "source": []
  },
  {
   "cell_type": "markdown",
   "metadata": {},
   "source": [
    "## Notación UML\n",
    "\n",
    "\n",
    "- UML (Unified Modeling Language) es un lenguaje estándar para especificar, visualizar, construir y documentar los artefactos de sistemas de software.\n",
    "- Fue creado por el Object Management Group (OMG) y la especificación UML 1.0 se propuso en enero de 1997. Se usa en otros ámbitos además del software.\n",
    "- UML es un modelo estandarizado para describir el enfoque de la Programación Orientada a Objetos (POO).\n",
    "- Las clases son los principales artefactos en la POO. \n",
    "- En un diagrama UML, se pueden representar componentes, clases que serán programadas, los objetos principales y/o las interacciones entre clases y objetos.\n",
    "- Estos diagramas describen la arquitectura del sistema y al mismo tiempo lo documentan para su mantenimiento futuro y su posible actualización.\n",
    "\n",
    "<img src=\"./uml_diag_general.png\" alt=\"Smiley\" style=\"width: 500px;\" />\n",
    "\n",
    "<br>\n",
    "\n",
    "<img src=\"./box_uml.png\" alt=\"Smiley\" style=\"width: 500px;\" />\n",
    "\n",
    "<br>\n",
    "\n",
    "<img src=\"./uml_mvf.png\" alt=\"Smiley\" style=\"width: 500px;\" />"
   ]
  },
  {
   "cell_type": "markdown",
   "metadata": {},
   "source": [
    "# Definición de clases\n",
    "\n",
    "<img src=\"./ClasesObjetosPython.png\" alt=\"Smiley\">"
   ]
  },
  {
   "cell_type": "code",
   "execution_count": null,
   "metadata": {},
   "outputs": [],
   "source": [
    "from math import pi as 𝜋\n",
    "\n",
    "# La clase Círculo definida con el método calcArea y el atributo radio\n",
    "class Circulo:\n",
    "    '''\n",
    "    Esta clase define un círculo.\n",
    "    '''\n",
    "    def calcArea(self):\n",
    "        '''\n",
    "        Esté método calcula el área del círculo.\n",
    "        '''\n",
    "        return 𝜋 * self.radio ** 2 # El atributo radio es \n",
    "                                    # declarado en el primer\n",
    "                                    # momento en que es usado\n",
    "                                    # dentro de la clase."
   ]
  },
  {
   "cell_type": "code",
   "execution_count": null,
   "metadata": {},
   "outputs": [],
   "source": [
    "Circulo.__dict__ # Muestra los métodos y atributos de la clase"
   ]
  },
  {
   "cell_type": "markdown",
   "metadata": {},
   "source": [
    "## Creación de objetos"
   ]
  },
  {
   "cell_type": "code",
   "execution_count": null,
   "metadata": {},
   "outputs": [],
   "source": [
    "rueda = Circulo()  # rueda es un objeto de tipo Circulo\n",
    "rueda.radio = 10   # se define el valor del radio de la rueda\n",
    "rueda.calcArea()   # se ejecuta el método calcArea() de la clase Circulo"
   ]
  },
  {
   "cell_type": "code",
   "execution_count": null,
   "metadata": {},
   "outputs": [],
   "source": [
    "rueda.__dict__ # Muestra los atributos del objeto rueda"
   ]
  },
  {
   "cell_type": "code",
   "execution_count": null,
   "metadata": {},
   "outputs": [],
   "source": [
    "# Creamos otro objeto de tipo Circulo\n",
    "rueda1 = Circulo()\n",
    "rueda1.radio = 100\n",
    "rueda1.calcArea()"
   ]
  },
  {
   "cell_type": "code",
   "execution_count": null,
   "metadata": {},
   "outputs": [],
   "source": [
    "rueda1.__dict__ "
   ]
  },
  {
   "cell_type": "code",
   "execution_count": null,
   "metadata": {},
   "outputs": [],
   "source": [
    "print(rueda.radio)\n",
    "print(rueda1.radio)"
   ]
  },
  {
   "cell_type": "code",
   "execution_count": null,
   "metadata": {},
   "outputs": [],
   "source": [
    "print(id(rueda))\n",
    "print(id(rueda1))"
   ]
  },
  {
   "cell_type": "code",
   "execution_count": null,
   "metadata": {},
   "outputs": [],
   "source": [
    "# ¿Esto crea un nuevo objeto?\n",
    "rueda2 = rueda"
   ]
  },
  {
   "cell_type": "code",
   "execution_count": null,
   "metadata": {},
   "outputs": [],
   "source": [
    "print(rueda.radio, rueda1.radio,rueda2.radio)\n",
    "print(id(rueda))\n",
    "print(id(rueda1))\n",
    "print(id(rueda2))"
   ]
  },
  {
   "cell_type": "markdown",
   "metadata": {},
   "source": [
    "**Observaciones**: \n",
    "- La forma en que se declaró el atributo `radio`, de la clase     `Circulo`, no es muy conveniente.\n",
    "- Lo conveniente sería que los atributos de un objeto se declaren durante la creación del objeto.\n",
    "- El proceso de creación de un objeto de una clase se conoce en inglés como *instantation*. \n",
    "- Y un objeto concreto de la clase, por ejemplo el objeto `rueda`, se llama en inglés *instance*.\n"
   ]
  },
  {
   "cell_type": "markdown",
   "metadata": {},
   "source": [
    "### El constructor: `__init__`\n",
    "\n",
    "- El método `__init__`, que es definido por el usario dentro de la clase, se ejecuta automáticamente cuando se crea un objeto.\n",
    "- Al método `__init__` se le llama el **constructor**.\n",
    "- Generalmente en este método se inicializan todos los atributos de la clase, se reserva memoria si es necesario, lo cual **construye** el objeto correspondiente.\n",
    "\n",
    "Por ejemplo:"
   ]
  },
  {
   "cell_type": "code",
   "execution_count": null,
   "metadata": {},
   "outputs": [],
   "source": [
    "class A:\n",
    "    \n",
    "    # El constructor de la clase\n",
    "    def __init__(self):\n",
    "        print('Hola mundo con clase, estás en __init__()')"
   ]
  },
  {
   "cell_type": "code",
   "execution_count": null,
   "metadata": {},
   "outputs": [],
   "source": [
    "x = A() # Creamos un objeto"
   ]
  },
  {
   "cell_type": "markdown",
   "metadata": {},
   "source": [
    "Dado lo anterior, lo conveniente es declarar y si se puede también definir los atributos de la clase dentro del método `__init__()`\n",
    "\n",
    "Para la clase `Circulo` creada antes se podría realizar lo siguiente:"
   ]
  },
  {
   "cell_type": "code",
   "execution_count": null,
   "metadata": {},
   "outputs": [],
   "source": [
    "from math import pi\n",
    "\n",
    "class Circulo:\n",
    "    \"\"\"\n",
    "    Esta clase define un círculo.\n",
    "    \"\"\"\n",
    "    \n",
    "    def __init__(self, radio = None, centro = None):\n",
    "        \"\"\"\n",
    "        El constructor de la clase.\n",
    "        Hay dos atributos: radio y centro.\n",
    "        \"\"\"\n",
    "        self.radio = radio\n",
    "        self.centro = centro\n",
    "        print(f'Método __init__: radio = {self.radio}, centro = {self.centro}')\n",
    "    \n",
    "    def calcArea(self):\n",
    "        \"\"\"\n",
    "        El método que calcula el área.\n",
    "        \"\"\"\n",
    "        return pi * self.radio ** 2"
   ]
  },
  {
   "cell_type": "code",
   "execution_count": null,
   "metadata": {},
   "outputs": [],
   "source": [
    "Circulo.__dict__"
   ]
  },
  {
   "cell_type": "code",
   "execution_count": null,
   "metadata": {},
   "outputs": [],
   "source": [
    "rueda =  Circulo()"
   ]
  },
  {
   "cell_type": "code",
   "execution_count": null,
   "metadata": {},
   "outputs": [],
   "source": [
    "rueda.radio = 10\n",
    "rueda.calcArea()"
   ]
  },
  {
   "cell_type": "code",
   "execution_count": null,
   "metadata": {},
   "outputs": [],
   "source": [
    "rueda.__dict__"
   ]
  },
  {
   "cell_type": "code",
   "execution_count": null,
   "metadata": {},
   "outputs": [],
   "source": [
    "rueda1 = Circulo(100)  # se ejecuta __init__() con \n",
    "                       #argumento radio = 100\n",
    "rueda1.calcArea() # como ya se definió el radio, \n",
    "                  # ya se puede calcular el área"
   ]
  },
  {
   "cell_type": "code",
   "execution_count": null,
   "metadata": {},
   "outputs": [],
   "source": [
    "rueda1.__dict__"
   ]
  },
  {
   "cell_type": "code",
   "execution_count": null,
   "metadata": {},
   "outputs": [],
   "source": [
    "rueda2 = Circulo(1,(2,3)) # puedo pasar los dos argumentos.\n",
    "print(rueda2.calcArea())\n",
    "print(rueda2.centro)"
   ]
  },
  {
   "cell_type": "code",
   "execution_count": null,
   "metadata": {},
   "outputs": [],
   "source": [
    "rueda2.__dict__"
   ]
  },
  {
   "cell_type": "markdown",
   "metadata": {},
   "source": [
    "### El destructor: `__del__`\n",
    "\n",
    "Al igual que existe un método constructor, también existe un método destructor que se identifica por `__del__()`\n",
    "\n",
    "Regresamos a nuestro ejemplo `Circulo`:"
   ]
  },
  {
   "cell_type": "code",
   "execution_count": null,
   "metadata": {},
   "outputs": [],
   "source": [
    "from math import pi\n",
    "\n",
    "class Circulo:\n",
    "    \n",
    "    def __init__(self, radio = None, centro = None):\n",
    "        self.radio = radio\n",
    "        self.centro = centro\n",
    "        print('radio: ', self.radio, '; centro :', self.centro)\n",
    "        \n",
    "    def __del__(self):\n",
    "        print('El objeto será destruido')\n",
    "    \n",
    "    def calcArea(self):\n",
    "        return pi * self.radio ** 2"
   ]
  },
  {
   "cell_type": "code",
   "execution_count": null,
   "metadata": {},
   "outputs": [],
   "source": [
    "rueda = Circulo(10,(1,1))\n",
    "print(rueda.calcArea())\n",
    "del(rueda)"
   ]
  },
  {
   "cell_type": "markdown",
   "metadata": {},
   "source": [
    "### `self`\n",
    "\n",
    "- El primer parámetro de un método es usado como referencia al objeto que ejecuta el método.\n",
    "- Este primer parámetro se conoce como `self`.\n",
    "- En el ejemplo anterior `self` corresponde al objeto \"rueda\".\n",
    "\n",
    "<img src=\"./AtributosDeClase.png\" alt=\"Smiley\">\n"
   ]
  },
  {
   "cell_type": "markdown",
   "metadata": {},
   "source": [
    "## Encapsulamiento y ocultamiento de la información\n",
    "\n",
    "Encapsulamiento: ocultar los atributos de un objeto, de tal manera que sólo se puedan modificar con métodos de la clase.\n",
    "\n",
    "### Atributos públicos, protegidos y privados\n",
    "\n"
   ]
  },
  {
   "cell_type": "code",
   "execution_count": null,
   "metadata": {},
   "outputs": [],
   "source": [
    "class miClase():\n",
    "    \n",
    "    def __init__(self):\n",
    "        self.pub = 'pub : atributo público'\n",
    "        self._pro = 'pro : atributo protegido'\n",
    "        self.__pri = 'pri : atributo privado'"
   ]
  },
  {
   "cell_type": "code",
   "execution_count": null,
   "metadata": {},
   "outputs": [],
   "source": [
    "m = miClase()"
   ]
  },
  {
   "cell_type": "code",
   "execution_count": null,
   "metadata": {},
   "outputs": [],
   "source": [
    "print(m.pub)"
   ]
  },
  {
   "cell_type": "code",
   "execution_count": null,
   "metadata": {},
   "outputs": [],
   "source": [
    "print(m._pro)"
   ]
  },
  {
   "cell_type": "code",
   "execution_count": null,
   "metadata": {},
   "outputs": [],
   "source": [
    "print(m.__pri)"
   ]
  },
  {
   "cell_type": "markdown",
   "metadata": {},
   "source": [
    "Vamos a definir la clase `Circulo` con atributos privados"
   ]
  },
  {
   "cell_type": "code",
   "execution_count": null,
   "metadata": {},
   "outputs": [],
   "source": [
    "from math import pi\n",
    "\n",
    "class Circulo:\n",
    "    \n",
    "    def __init__(self, radio = None, centro = None):\n",
    "        self.__radio = radio   # Ahora el radio es privado\n",
    "        self.__centro = centro # Ahora el centro es privado\n",
    "        print(f'Método __init__: radio = {self.__radio}, centro = {self.__centro}')\n",
    "        \n",
    "    def __del__(self):\n",
    "        print('El objeto será destruido')\n",
    "        \n",
    "    def calcArea(self):\n",
    "        return pi * self.__radio ** 2"
   ]
  },
  {
   "cell_type": "code",
   "execution_count": null,
   "metadata": {},
   "outputs": [],
   "source": [
    "rueda = Circulo(2,(3,4))"
   ]
  },
  {
   "cell_type": "code",
   "execution_count": null,
   "metadata": {},
   "outputs": [],
   "source": [
    "print(rueda.__radio, rueda.__centro)"
   ]
  },
  {
   "cell_type": "markdown",
   "metadata": {},
   "source": [
    "### *Getters* y *setters*\n",
    "\n",
    "Para acceder y modificar la información de la clase se definen dos tipos de métodos: *get* y *set*."
   ]
  },
  {
   "cell_type": "markdown",
   "metadata": {},
   "source": [
    "En clase `Circulo` hacemos lo siguiente:"
   ]
  },
  {
   "cell_type": "code",
   "execution_count": null,
   "metadata": {},
   "outputs": [],
   "source": [
    "from math import pi\n",
    "\n",
    "class Circulo:\n",
    "    \n",
    "    def __init__(self, radio = None, centro = None):\n",
    "        self.__radio = radio\n",
    "        self.__centro = centro\n",
    "        print(f'Método __init__: radio = {self.__radio}, centro = {self.__centro}')\n",
    "        \n",
    "    def __del__(self):\n",
    "        print('El objeto será destruido')\n",
    "\n",
    "    # Define el radio\n",
    "    def setRadio(self, radio):\n",
    "        self.__radio = radio\n",
    "\n",
    "    # Regresa el radio\n",
    "    def getRadio(self):\n",
    "        return self.__radio\n",
    "\n",
    "    # Define el centro\n",
    "    def setCentro(self, centro):\n",
    "        self.__centro = centro\n",
    "\n",
    "    # Regresa el centro\n",
    "    def getCentro(self):\n",
    "        return self.__centro\n",
    "        \n",
    "    def calcArea(self):\n",
    "        return pi * self.__radio ** 2"
   ]
  },
  {
   "cell_type": "code",
   "execution_count": null,
   "metadata": {},
   "outputs": [],
   "source": [
    "rueda = Circulo(2,(3,4))\n",
    "print(rueda.getRadio(), rueda.getCentro())\n",
    "print(rueda.calcArea())"
   ]
  },
  {
   "cell_type": "code",
   "execution_count": null,
   "metadata": {},
   "outputs": [],
   "source": [
    "# Cambio el radio y el centro\n",
    "rueda.setRadio(3.1)\n",
    "rueda.setCentro((7,8))\n",
    "print(rueda.getRadio(), rueda.getCentro())\n",
    "print(rueda.calcArea())"
   ]
  },
  {
   "cell_type": "markdown",
   "metadata": {},
   "source": [
    "## Atributos de clase\n",
    "\n",
    "Es posible que la clase tenga atributos, los cuales son compartidos por todos los objetos de la clase. Estos son los atributos estáticos o de clase.\n",
    "\n",
    "Por ejemplo:"
   ]
  },
  {
   "cell_type": "code",
   "execution_count": null,
   "metadata": {},
   "outputs": [],
   "source": [
    "class miClase():\n",
    "    ac = 'Atributo de clase'\n",
    "    \n",
    "    def __init__(self):\n",
    "        self.ao = 'Atributo de los objetos'"
   ]
  },
  {
   "cell_type": "code",
   "execution_count": null,
   "metadata": {},
   "outputs": [],
   "source": [
    "c1 = miClase()\n",
    "c2 = miClase()\n",
    "print(c1.ac, c2.ac, sep='\\n')\n",
    "print(c1.ao, c2.ao, sep='\\n')"
   ]
  },
  {
   "cell_type": "markdown",
   "metadata": {},
   "source": [
    "Para modificar un atributo de clase se debe hacer como sigue:"
   ]
  },
  {
   "cell_type": "code",
   "execution_count": null,
   "metadata": {},
   "outputs": [],
   "source": [
    "miClase.ac = 'Hola POO'"
   ]
  },
  {
   "cell_type": "code",
   "execution_count": null,
   "metadata": {},
   "outputs": [],
   "source": [
    "print(c1.ac, c2.ac, sep='\\n')"
   ]
  },
  {
   "cell_type": "markdown",
   "metadata": {},
   "source": [
    "Cuidado con lo siguiente:"
   ]
  },
  {
   "cell_type": "code",
   "execution_count": null,
   "metadata": {},
   "outputs": [],
   "source": [
    "c1.ac = 'Qué pasará?'"
   ]
  },
  {
   "cell_type": "code",
   "execution_count": null,
   "metadata": {},
   "outputs": [],
   "source": [
    "print(c1.ac, c2.ac, sep='\\n')"
   ]
  },
  {
   "cell_type": "code",
   "execution_count": null,
   "metadata": {},
   "outputs": [],
   "source": [
    "print(c1.__dict__)\n",
    "print(c2.__dict__)\n",
    "print(miClase.__dict__)"
   ]
  },
  {
   "cell_type": "markdown",
   "metadata": {},
   "source": [
    "Vamos  contar el número de objetos de tipo círculo que se están creando"
   ]
  },
  {
   "cell_type": "code",
   "execution_count": null,
   "metadata": {},
   "outputs": [],
   "source": [
    "from math import pi\n",
    "\n",
    "class Circulo:\n",
    "\n",
    "    # Atributo estático (de la clase)\n",
    "    cuenta = 0\n",
    "    \n",
    "    def __init__(self, radio = None, centro = None):\n",
    "        type(self).cuenta += 1\n",
    "        self.__radio = radio\n",
    "        self.__centro = centro\n",
    "        \n",
    "    def __del__(self):\n",
    "        type(self).cuenta -= 1\n",
    "    \n",
    "    def setRadio(self, radio):\n",
    "        self.__radio = radio\n",
    "        \n",
    "    def getRadio(self):\n",
    "        return self.__radio\n",
    "\n",
    "    def setCentro(self, centro):\n",
    "        self.__centro = centro\n",
    "    \n",
    "    def getCentro(self):\n",
    "        return self.__centro\n",
    "        \n",
    "    def calcArea(self):\n",
    "        return pi * self.__radio ** 2"
   ]
  },
  {
   "cell_type": "code",
   "execution_count": null,
   "metadata": {},
   "outputs": [],
   "source": [
    "circ_1 = Circulo(1,(0,0))\n",
    "circ_2 = Circulo(2,(0,0))\n",
    "circ_3 = Circulo(3,(0,0))\n",
    "print('Total de círculos: {}'.format(Circulo.cuenta))\n",
    "circ_4 = Circulo(4,(0,0))\n",
    "circ_5 = Circulo(5,(0,0))\n",
    "print('Total de círculos: {}'.format(Circulo.cuenta))"
   ]
  },
  {
   "cell_type": "code",
   "execution_count": null,
   "metadata": {},
   "outputs": [],
   "source": [
    "del circ_1 # Elimino el círculo 1\n",
    "print('Total de círculos: {}'.format(Circulo.cuenta))"
   ]
  },
  {
   "cell_type": "markdown",
   "metadata": {},
   "source": [
    "## Métodos estáticos\n",
    "\n",
    "Cuando un atributo de clase (estático) es privado, se debe usar un método para acceder al mismo."
   ]
  },
  {
   "cell_type": "code",
   "execution_count": null,
   "metadata": {},
   "outputs": [],
   "source": [
    "from math import pi\n",
    "\n",
    "class Circulo:\n",
    "    \n",
    "    __cuenta = 0 # Ahora este atributo estático es privado\n",
    "    \n",
    "    def __init__(self, radio = None, centro = None):\n",
    "        type(self).__cuenta += 1  # Accediendo al atributo estático mediante el tipo de la Clase\n",
    "        self.__radio = radio\n",
    "        self.__centro = centro\n",
    "        \n",
    "    def __del__(self):\n",
    "        type(self).__cuenta -= 1\n",
    "    \n",
    "    # este no es un método estatico\n",
    "    def getCuenta(self):\n",
    "        return Circulo.__cuenta\n",
    "    \n",
    "    def setRadio(self, radio):\n",
    "        self.__radio = radio\n",
    "        \n",
    "    def getRadio(self):\n",
    "        return self.__radio\n",
    "\n",
    "    def setCentro(self, centro):\n",
    "        self.__centro = centro\n",
    "    \n",
    "    def getCentro(self):\n",
    "        return self.__centro\n",
    "        \n",
    "    def calcArea(self):\n",
    "        return pi * self.__radio ** 2"
   ]
  },
  {
   "cell_type": "code",
   "execution_count": null,
   "metadata": {},
   "outputs": [],
   "source": [
    "circ_1 = Circulo(1,(0,0))\n",
    "circ_2 = Circulo(2,(0,0))\n",
    "circ_3 = Circulo(3,(0,0))"
   ]
  },
  {
   "cell_type": "code",
   "execution_count": null,
   "metadata": {},
   "outputs": [],
   "source": [
    "# No podemos ejecutar getCuenta() con la clase !!\n",
    "print('Total de círculos: {}'.format(Circulo.getCuenta()))"
   ]
  },
  {
   "cell_type": "code",
   "execution_count": null,
   "metadata": {},
   "outputs": [],
   "source": [
    "# Solo es posible ejecutar getCuenta() a través de un objeto !!\n",
    "print('Total de círculos: {}'.format(circ_1.getCuenta()))"
   ]
  },
  {
   "cell_type": "markdown",
   "metadata": {},
   "source": [
    "Los métodos estáticos permiten ser ejecutados sin necesidad de un objeto de la clase:"
   ]
  },
  {
   "cell_type": "code",
   "execution_count": null,
   "metadata": {},
   "outputs": [],
   "source": [
    "from math import pi\n",
    "\n",
    "class Circulo:\n",
    "    \n",
    "    __cuenta = 0 # Ahora este atributo estáticos es privado\n",
    "    \n",
    "    def __init__(self, radio = None, centro = None):\n",
    "        type(self).__cuenta += 1 # Accediendo al atributo estático mediante el tipo de la Clase\n",
    "        self.__radio = radio\n",
    "        self.__centro = centro\n",
    "        \n",
    "    def __del__(self):\n",
    "        type(self).__cuenta -= 1\n",
    "    \n",
    "    @staticmethod       # Así definimos un método estático\n",
    "    def getCuenta():    # Ahora la función no recibe el parámetro self\n",
    "        return Circulo.__cuenta\n",
    "    \n",
    "    def setRadio(self, radio):\n",
    "        self.__radio = radio\n",
    "        \n",
    "    def getRadio(self):\n",
    "        return self.__radio\n",
    "\n",
    "    def setCentro(self, centro):\n",
    "        self.__centro = centro\n",
    "    \n",
    "    def getCentro(self):\n",
    "        return self.__centro\n",
    "        \n",
    "    def calcArea(self):\n",
    "        return pi * self.__radio ** 2"
   ]
  },
  {
   "cell_type": "code",
   "execution_count": null,
   "metadata": {},
   "outputs": [],
   "source": [
    "circ_1 = Circulo(1,(0,0))\n",
    "circ_2 = Circulo(2,(0,0))\n",
    "circ_3 = Circulo(3,(0,0))\n",
    "print('Total de círculos: {}'.format(Circulo.getCuenta()))"
   ]
  },
  {
   "cell_type": "code",
   "execution_count": null,
   "metadata": {},
   "outputs": [],
   "source": [
    "# También puedo ejecutar el método a través de un objeto\n",
    "print('Total de círculos: {}'.format(circ_2.getCuenta()))"
   ]
  },
  {
   "cell_type": "markdown",
   "metadata": {},
   "source": [
    "## `@property`\n",
    "\n",
    "- Los métodos *getters* y *setters* son usados muy comúnmente en los lenguajes POO para asegurar el principio de la encapsulación de datos. También se conocen como métodos mutadores.\n",
    "- La encapsulación de datos se puede ver como el argupamiento de datos y métodos que operan sobre esos datos.\n",
    "- De acuerdo con este principio, algunos datos son privados de tal manera que es necesario usar los *getters* y *setters* para obtener y modificar esos datos.\n",
    "- Sin embargo, la forma *Pythónica* para acceder a la información privada es hacerla pública!!!\n",
    "\n",
    "### Ejemplo:\n",
    "Implementaremos una clase para definir puntos en 1D.\n",
    "\n",
    "#### Implementación 1:"
   ]
  },
  {
   "cell_type": "code",
   "execution_count": null,
   "metadata": {},
   "outputs": [],
   "source": [
    "class Point1D:\n",
    "\n",
    "    def __init__(self,x):\n",
    "        self.x = x # Atributo público"
   ]
  },
  {
   "cell_type": "code",
   "execution_count": null,
   "metadata": {},
   "outputs": [],
   "source": [
    "c1 = Point1D(5)\n",
    "c2 = Point1D(54)\n",
    "c3 = Point1D(0)\n",
    "\n",
    "c3.x  = c1.x + c2.x\n",
    "\n",
    "print('c1 :', c1.x)\n",
    "print('c2 :', c2.x)\n",
    "print('c3 :', c3.x)"
   ]
  },
  {
   "cell_type": "markdown",
   "metadata": {},
   "source": [
    "Muy bonito y todo, pero **no hay encapsulamiento de la información.**\n",
    "\n",
    "#### Implementación 2:\n",
    "\n",
    "Para encapsular la información, el atributo `x` debe ser privado."
   ]
  },
  {
   "cell_type": "code",
   "execution_count": null,
   "metadata": {},
   "outputs": [],
   "source": [
    "class Point1D:\n",
    "\n",
    "    def __init__(self, x):\n",
    "        self.__x = x # Ahora el atributo x es privado.\n",
    "\n",
    "    def getX(self):\n",
    "        return self.__x \n",
    "\n",
    "    def setX(self, x):\n",
    "        self.__x = x"
   ]
  },
  {
   "cell_type": "code",
   "execution_count": null,
   "metadata": {},
   "outputs": [],
   "source": [
    "c1 = Point1D(5)\n",
    "c2 = Point1D(54)\n",
    "c3 = Point1D(0)\n",
    "\n",
    "c3.setX(c1.getX() + c2.getX())\n",
    "\n",
    "print('c1 :', c1.getX())\n",
    "print('c2 :', c2.getX())\n",
    "print('c3 :', c3.getX())"
   ]
  },
  {
   "cell_type": "markdown",
   "metadata": {},
   "source": [
    "Hay encapsulamiento de la información, pero no se cumple el primer principio del Zen de Python:  `Beautiful is better than ugly.`\n",
    "\n",
    "¿Qué pasaría si en el futuro necesito cambiar la implementación? Por ejemplo que el valor de `x` solo pudiera estar en un rango: $x \\in [min,max]$, donde $max$ y $min$ son valores definidos por el usuario. \n",
    "\n",
    "#### Implementación 3:"
   ]
  },
  {
   "cell_type": "code",
   "execution_count": null,
   "metadata": {},
   "outputs": [],
   "source": [
    "class Point1D:\n",
    "\n",
    "    def __init__(self, x, minimo = 0, maximo = 100):\n",
    "        self.__min = minimo\n",
    "        self.__max = maximo\n",
    "        self.setX(x)\n",
    "\n",
    "    def getX(self):\n",
    "        return self.__x # Ahora el atributo x es privado.\n",
    "\n",
    "    def setX(self, x): # Aquí voy a checar el rango de valores\n",
    "        if x < self.__min:\n",
    "            self.__x = self.__min\n",
    "        elif x > self.__max:\n",
    "            self.__x = self.__max\n",
    "        else:\n",
    "            self.__x = x"
   ]
  },
  {
   "cell_type": "code",
   "execution_count": null,
   "metadata": {},
   "outputs": [],
   "source": [
    "# Veamos que cumple con el rango de valores\n",
    "x1 = Point1D(45)\n",
    "x2 = Point1D(-8)\n",
    "x3 = Point1D(300)\n",
    "print(x1.getX(), x2.getX(), x3.getX())"
   ]
  },
  {
   "cell_type": "code",
   "execution_count": null,
   "metadata": {},
   "outputs": [],
   "source": [
    "# Ahora vamos a sumar el valor de x de diferentes objetos como en la implementación 1\n",
    "c1 = Point1D(5)\n",
    "c2 = Point1D(54)\n",
    "c3 = Point1D(0)"
   ]
  },
  {
   "cell_type": "code",
   "execution_count": null,
   "metadata": {},
   "outputs": [],
   "source": [
    "# Para sumar las 'x' de cada punto, en la versión con atributos públicos se hacia:\n",
    "# c3.x = c1.x + c2.x\n",
    "# En esta nueva versión se debe hacer con la función getX():\n",
    "c3.setX(c1.getX() + c2.getX())\n",
    "print(c3.getX())"
   ]
  },
  {
   "cell_type": "markdown",
   "metadata": {},
   "source": [
    "Esto rompe con la compatibilidad: un usuario de la versión 1 tendría que cambiar su código!!!\n",
    "\n",
    "Esta es la razón por la que muchos expertos de POO recomiendan usar solo atributos privados y acceder a ellos mediante *getters* y *setters*, de tal manera que se pueda cambiar la implementación manteniendo la interfaz sin modificaciones para el cliente.\n",
    "\n",
    "Python ofrece una manera de mantener la implementación clara y usable, con encapsulamiento de la información\n",
    "\n",
    "#### Implementación 4:"
   ]
  },
  {
   "cell_type": "code",
   "execution_count": null,
   "metadata": {},
   "outputs": [],
   "source": [
    "class Point1D:\n",
    "\n",
    "    def __init__(self, x, minimo = 0, maximo = 100):\n",
    "        self.__min = minimo\n",
    "        self.__max = maximo\n",
    "        self.x = x # Ojo: aquí se ejecuta la función setter\n",
    "\n",
    "    @property\n",
    "    def x(self):\n",
    "        return self.__x # Ahora el atributo x es privado.\n",
    "\n",
    "    @x.setter\n",
    "    def x(self, x): # Aquí voy a checar el rango de valores\n",
    "        if x < self.__min:\n",
    "            self.__x = self.__min\n",
    "        elif x > self.__max:\n",
    "            self.__x = self.__max\n",
    "        else:\n",
    "            self.__x = x"
   ]
  },
  {
   "cell_type": "code",
   "execution_count": null,
   "metadata": {},
   "outputs": [],
   "source": [
    "# Ahora vamos a sumar el valor de x de diferentes objetos como en la implementación 1\n",
    "c1 = Point1D(5)\n",
    "c2 = Point1D(54)\n",
    "c3 = Point1D(0)\n",
    "\n",
    "c3.x  = c1.x + c2.x\n",
    "\n",
    "print('c1 :', c1.x)\n",
    "print('c2 :', c2.x)\n",
    "print('c3 :', c3.x)"
   ]
  },
  {
   "cell_type": "code",
   "execution_count": null,
   "metadata": {},
   "outputs": [],
   "source": [
    "# Veamos que cumple con el rango de valores\n",
    "x1 = Point1D(45)\n",
    "x2 = Point1D(-8)\n",
    "x3 = Point1D(300)\n",
    "print(x1.x, x2.x, x3.x)"
   ]
  },
  {
   "cell_type": "markdown",
   "metadata": {},
   "source": [
    "**Observación:**\n",
    "Se puede comenzar con una implementación muy sencilla, con atributos públicos (sin encapsulación de la información) y posteriormente mejorar esa implementación con atributos privados, con *getters* y *setters* y usando @property y @x.setter para acceder a la información privada, como si fuera pública. Esto mantiene la interfaz del usuario intacta."
   ]
  },
  {
   "cell_type": "markdown",
   "metadata": {},
   "source": [
    "## El método `__call__`\n",
    "\n",
    "- Una función es un objeto que se puede ejecutar (llamar) desde un cierto punto del programa: `f(x)`\n",
    "- Existen otro tipo de objetos que se pueden ejecutar como si fueran una función; estos objetos se conocen como *functor* o *function object*.\n",
    "- Podemos definir clases, cuyos objetos se comporten como funciones y para ello se hace uso del método `__call__`.\n",
    "- Cuando el objeto es usado como una función se ejecuta automáticamente el método `__call__`.\n"
   ]
  },
  {
   "cell_type": "code",
   "execution_count": null,
   "metadata": {},
   "outputs": [],
   "source": [
    "class Ejemplo:\n",
    "    \n",
    "    def __init__(self):\n",
    "        print(\"Constructor de la clase Ejemplo\")\n",
    "    \n",
    "    def __call__(self, *args, **kwargs):\n",
    "        print(\"Los argumentos de la ejecución(llamada) son:\", args, kwargs)"
   ]
  },
  {
   "cell_type": "code",
   "execution_count": null,
   "metadata": {},
   "outputs": [],
   "source": [
    "# Se construye un objeto\n",
    "x = Ejemplo()\n",
    "\n",
    "# Usamos el objeto como una función:\n",
    "x(3, 4, x=11, y=10)\n",
    "\n",
    "x(3, 4, nombre='Luis')"
   ]
  },
  {
   "cell_type": "markdown",
   "metadata": {},
   "source": [
    "Clase Fibonacci con la definición de la función `__call__`"
   ]
  },
  {
   "cell_type": "code",
   "execution_count": null,
   "metadata": {},
   "outputs": [],
   "source": [
    "class Fibonacci:\n",
    "\n",
    "    def __init__(self):\n",
    "        self.cache = {}\n",
    "\n",
    "    def __call__(self, n):\n",
    "        if n not in self.cache:\n",
    "            if n == 0:\n",
    "                self.cache[0] = 0\n",
    "            elif n == 1:\n",
    "                self.cache[1] = 1\n",
    "            else:\n",
    "                self.cache[n] = self.__call__(n-1) + self.__call__(n-2)\n",
    "        return self.cache[n]\n",
    "\n",
    "# Creamos un objeto\n",
    "fib = Fibonacci()\n",
    "print(type(fib))\n",
    "\n",
    "# Usamos el objeto como una función\n",
    "for i in range(15):\n",
    "    print(fib(i))"
   ]
  },
  {
   "cell_type": "markdown",
   "metadata": {},
   "source": [
    "## Decoradores usando clases \n",
    "\n",
    "Supongamos que tenemos el siguiente decorador:"
   ]
  },
  {
   "cell_type": "code",
   "execution_count": null,
   "metadata": {},
   "outputs": [],
   "source": [
    "def funcion_x():\n",
    "    print('Hola mundo pythonico!')"
   ]
  },
  {
   "cell_type": "code",
   "execution_count": null,
   "metadata": {},
   "outputs": [],
   "source": [
    "funcion_x()"
   ]
  },
  {
   "cell_type": "code",
   "execution_count": null,
   "metadata": {},
   "outputs": [],
   "source": [
    "def decorador(f):\n",
    "    def helper():\n",
    "        print('Decorando la función : {}'.format(f.__name__))\n",
    "        print('-'*80)\n",
    "        print('\\t\\t', end='')\n",
    "        f()\n",
    "        print('-'*80)       \n",
    "    return helper"
   ]
  },
  {
   "cell_type": "code",
   "execution_count": null,
   "metadata": {},
   "outputs": [],
   "source": [
    "@decorador          # Recordemos que esto es equivalente a : funcion_x = decorador(funcion_x)\n",
    "def funcion_x():\n",
    "    print('Hola mundo pythonico!')"
   ]
  },
  {
   "cell_type": "code",
   "execution_count": null,
   "metadata": {},
   "outputs": [],
   "source": [
    "funcion_x()"
   ]
  },
  {
   "cell_type": "markdown",
   "metadata": {},
   "source": [
    "Usando una clase y la función `__call__` se puede obtener el mismo resultado"
   ]
  },
  {
   "cell_type": "code",
   "execution_count": null,
   "metadata": {},
   "outputs": [],
   "source": [
    "class ClaseDecorador:\n",
    "    \n",
    "    def __init__(self, f):\n",
    "        self.f = f\n",
    "        \n",
    "    def __call__(self):\n",
    "        print('-'*80)\n",
    "        print('Decorando la función : {}'.format(self.f.__name__))\n",
    "        print('-'*80)\n",
    "        print('\\t\\t', end='')\n",
    "        self.f()\n",
    "        print('-'*80)  "
   ]
  },
  {
   "cell_type": "code",
   "execution_count": null,
   "metadata": {},
   "outputs": [],
   "source": [
    "\n",
    "@ClaseDecorador  # Esto es equivalente a: funcion_y = ClaseDecorador(funcion_y)\n",
    "def funcion_y():\n",
    "    print('Hola mundo pythonico!')"
   ]
  },
  {
   "cell_type": "code",
   "execution_count": null,
   "metadata": {},
   "outputs": [],
   "source": [
    "funcion_y()"
   ]
  },
  {
   "cell_type": "code",
   "execution_count": null,
   "metadata": {},
   "outputs": [],
   "source": [
    "import numpy as np\n",
    "\n",
    "@ClaseDecorador\n",
    "def funcion_z():\n",
    "    x = np.linspace(0, 2*pi,10)\n",
    "    y = np.sin(x)\n",
    "    print(x, y)"
   ]
  },
  {
   "cell_type": "code",
   "execution_count": null,
   "metadata": {},
   "outputs": [],
   "source": [
    "funcion_z()"
   ]
  },
  {
   "cell_type": "markdown",
   "metadata": {},
   "source": [
    "# Herencia"
   ]
  },
  {
   "cell_type": "code",
   "execution_count": null,
   "metadata": {},
   "outputs": [],
   "source": [
    "class Mesh():\n",
    "    def __init__(self, Lx=1, Nx = 2, Ly=1, Ny=2):\n",
    "        print(\"Mesh:__init__\")\n",
    "        self.__Lx = Lx\n",
    "        self.__Nx = Nx\n",
    "        self.__hx = 1.0\n",
    "        self.__Ly = Ly\n",
    "        self.__Ny = Ny\n",
    "        self.__hy = 1.0\n",
    "        \n",
    "\n",
    "# getters\n",
    "    @property\n",
    "    def Lx(self):\n",
    "        return self.__Lx \n",
    "        \n",
    "    @property\n",
    "    def Nx(self):\n",
    "        return self.__Nx \n",
    "\n",
    "    @property\n",
    "    def hx(self):\n",
    "        return self.__hx \n",
    "\n",
    "    @property\n",
    "    def Ly(self):\n",
    "        return self.__Ly \n",
    "        \n",
    "    @property\n",
    "    def Ny(self):\n",
    "        return self.__Ny \n",
    "\n",
    "    @property\n",
    "    def hy(self):\n",
    "        return self.__hy\n",
    "\n",
    "# setters\n",
    "    @Lx.setter\n",
    "    def Lx(self, Lx): \n",
    "            self.__Lx = Lx\n",
    "        \n",
    "    @Nx.setter\n",
    "    def Nx(self, Nx): \n",
    "            self.__Nx = Nx\n",
    "\n",
    "    @hx.setter\n",
    "    def hx(self, hx): \n",
    "            self.__hx = hx\n",
    "        \n",
    "    @Ly.setter\n",
    "    def Ly(self, Ly): \n",
    "            self.__Ly = Ly\n",
    "        \n",
    "    @Ny.setter\n",
    "    def Ny(self, Ny): \n",
    "            self.__Ny = Ny\n",
    "\n",
    "    @hy.setter\n",
    "    def hy(self, hy): \n",
    "            self.__hy = hy"
   ]
  },
  {
   "cell_type": "code",
   "execution_count": null,
   "metadata": {},
   "outputs": [],
   "source": [
    "malla1 = Mesh()\n",
    "\n",
    "print(malla1.Lx, malla1.Nx, malla1.hx)\n",
    "print(malla1.Ly, malla1.Ny, malla1.hy)"
   ]
  },
  {
   "cell_type": "code",
   "execution_count": null,
   "metadata": {},
   "outputs": [],
   "source": [
    "malla2 = Mesh(3.5, 10, 7.0, 20)\n",
    "\n",
    "print(malla2.Lx, malla2.Nx, malla2.hx)\n",
    "print(malla2.Ly, malla2.Ny, malla2.hy)"
   ]
  },
  {
   "cell_type": "code",
   "execution_count": null,
   "metadata": {},
   "outputs": [],
   "source": [
    "import numpy as np\n",
    "class UniformMesh(Mesh):\n",
    "\n",
    "    def __init__(self, Lx=1, Nx = 2, Ly=1, Ny=2):\n",
    "        print('UniformMesh:__init__')\n",
    "        super().__init__(Lx, Nx, Ly, Nx)\n",
    "\n",
    "        # Ejecuto el método para calcular las deltas\n",
    "        self.__calcDeltas()\n",
    "        \n",
    "\n",
    "# methods\n",
    "    def __calcDeltas(self):\n",
    "        print('UniformMesh:calcDeltas()')\n",
    "        self.hx = self.Lx / (self.Nx + 1)\n",
    "        self.hy = self.Ly / (self.Ny + 1)\n",
    "        \n",
    "    def calcGrid(self):\n",
    "        self.x = np.linspace(0, self.Lx, self.Nx)\n",
    "        self.y = np.linspace(0, self.Ly, self.Ny)\n",
    "        return self.x, self.y"
   ]
  },
  {
   "cell_type": "code",
   "execution_count": null,
   "metadata": {},
   "outputs": [],
   "source": [
    "umalla1 = UniformMesh()\n",
    "\n",
    "print(umalla1.Lx, umalla1.Nx, umalla1.hx)\n",
    "print(umalla1.Ly, umalla1.Ny, umalla1.hy)"
   ]
  },
  {
   "cell_type": "code",
   "execution_count": null,
   "metadata": {},
   "outputs": [],
   "source": [
    "umalla2 = UniformMesh(3.5, 10, 7.0, 20)\n",
    "\n",
    "print(umalla2.Lx, umalla2.Nx, umalla2.hx)\n",
    "print(umalla2.Ly, umalla2.Ny, umalla2.hy)"
   ]
  },
  {
   "cell_type": "code",
   "execution_count": null,
   "metadata": {},
   "outputs": [],
   "source": [
    "x, y = umalla2.calcGrid()"
   ]
  },
  {
   "cell_type": "code",
   "execution_count": null,
   "metadata": {},
   "outputs": [],
   "source": [
    "import matplotlib.pyplot as plt\n",
    "\n",
    "xg, yg = np.meshgrid(x, y, indexing='ij')\n",
    "plt.scatter(xg, yg, marker='.')"
   ]
  },
  {
   "cell_type": "code",
   "execution_count": null,
   "metadata": {},
   "outputs": [],
   "source": [
    "import macti.visual as mvis\n",
    "\n",
    "v = mvis.Plotter(1, 2, axis_par = [dict(aspect = 'equal'),\n",
    "                                   dict(aspect = 'equal')])\n",
    "\n",
    "v.set_canvas(1, umalla2.Lx, umalla2.Ly)\n",
    "v.draw_domain(1, xg, yg)\n",
    "v.axes(1).set_title('Dominio de estudio', fontsize=10)\n",
    "\n",
    "v.set_canvas(2, umalla2.Lx, umalla2.Ly)\n",
    "v.plot_mesh2D(2, xg, yg)\n",
    "v.plot_frame(2, xg, yg, color='blue')\n",
    "v.axes(2).set_title('Malla del dominio', fontsize=10)\n",
    "v.show()"
   ]
  },
  {
   "cell_type": "code",
   "execution_count": null,
   "metadata": {},
   "outputs": [],
   "source": []
  }
 ],
 "metadata": {
  "kernelspec": {
   "display_name": "Python 3 (ipykernel)",
   "language": "python",
   "name": "python3"
  },
  "language_info": {
   "codemirror_mode": {
    "name": "ipython",
    "version": 3
   },
   "file_extension": ".py",
   "mimetype": "text/x-python",
   "name": "python",
   "nbconvert_exporter": "python",
   "pygments_lexer": "ipython3",
   "version": "3.11.6"
  }
 },
 "nbformat": 4,
 "nbformat_minor": 4
}
