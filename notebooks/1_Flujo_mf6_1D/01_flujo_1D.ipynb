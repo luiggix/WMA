{
 "cells": [
  {
   "cell_type": "markdown",
   "id": "0bbc9f38-c835-49da-b1e6-ab08cbbaa463",
   "metadata": {},
   "source": [
    "## Paso 0. Library import"
   ]
  },
  {
   "cell_type": "code",
   "execution_count": 2,
   "id": "48f786a9-a7c0-4ed9-a6ed-4566fd3d9659",
   "metadata": {},
   "outputs": [
    {
     "name": "stdout",
     "output_type": "stream",
     "text": [
      "Requirement already satisfied: flopy in /opt/conda/lib/python3.11/site-packages (3.6.0)\n",
      "Requirement already satisfied: numpy<2.0.0,>=1.15.0 in /opt/conda/lib/python3.11/site-packages (from flopy) (1.26.2)\n",
      "Requirement already satisfied: matplotlib>=1.4.0 in /opt/conda/lib/python3.11/site-packages (from flopy) (3.8.1)\n",
      "Requirement already satisfied: pandas>=2.0.0 in /opt/conda/lib/python3.11/site-packages (from flopy) (2.1.3)\n",
      "Requirement already satisfied: contourpy>=1.0.1 in /opt/conda/lib/python3.11/site-packages (from matplotlib>=1.4.0->flopy) (1.2.0)\n",
      "Requirement already satisfied: cycler>=0.10 in /opt/conda/lib/python3.11/site-packages (from matplotlib>=1.4.0->flopy) (0.12.1)\n",
      "Requirement already satisfied: fonttools>=4.22.0 in /opt/conda/lib/python3.11/site-packages (from matplotlib>=1.4.0->flopy) (4.44.3)\n",
      "Requirement already satisfied: kiwisolver>=1.3.1 in /opt/conda/lib/python3.11/site-packages (from matplotlib>=1.4.0->flopy) (1.4.5)\n",
      "Requirement already satisfied: packaging>=20.0 in /opt/conda/lib/python3.11/site-packages (from matplotlib>=1.4.0->flopy) (23.2)\n",
      "Requirement already satisfied: pillow>=8 in /opt/conda/lib/python3.11/site-packages (from matplotlib>=1.4.0->flopy) (10.1.0)\n",
      "Requirement already satisfied: pyparsing>=2.3.1 in /opt/conda/lib/python3.11/site-packages (from matplotlib>=1.4.0->flopy) (3.1.1)\n",
      "Requirement already satisfied: python-dateutil>=2.7 in /opt/conda/lib/python3.11/site-packages (from matplotlib>=1.4.0->flopy) (2.8.2)\n",
      "Requirement already satisfied: pytz>=2020.1 in /opt/conda/lib/python3.11/site-packages (from pandas>=2.0.0->flopy) (2023.3.post1)\n",
      "Requirement already satisfied: tzdata>=2022.1 in /opt/conda/lib/python3.11/site-packages (from pandas>=2.0.0->flopy) (2023.3)\n",
      "Requirement already satisfied: six>=1.5 in /opt/conda/lib/python3.11/site-packages (from python-dateutil>=2.7->matplotlib>=1.4.0->flopy) (1.16.0)\n"
     ]
    }
   ],
   "source": [
    "!pip install flopy"
   ]
  },
  {
   "cell_type": "markdown",
   "id": "06f24a0d-163e-4041-97e5-dd330d898a03",
   "metadata": {},
   "source": [
    "# Flujo en 1D en MODFLOW 6.\n",
    "\n",
    "**Tomado de**: MODFLOW 6 – Example problems, MODFLOW 6 Development Team, with contributions from Chieh Ying Chen and Mike Toews 02/07/2024.  **32 MOC3D Problem 1**. (Archivo: `mf6examples.pdf`).\n",
    "\n",
    "**One-dimensional steady flow with transport**\n",
    "\n",
    "* This problem corresponds to the first problem presented in the MOC3D report Konikow 1996 [1], involving the transport of a dissolved constituent in a steady, one-dimensional flow field.\n",
    "* An analytical solution for this problem is given by Wexler [2].\n",
    "* This example is simulated with the GWT Model in MODFLOW 6, **which receives flow information from a separate simulation with the GWF Model** in MODFLOW 6.\n",
    "* Results from the GWT Model are compared with the results from the Wexler [2] analytical solution.\n",
    "\n",
    "**<font color='Green'>[1] Konikow, L. F., Goode, D. J., & Hornberger, G. (1996). A three-dimensional method-of-characteristics solute-transport model (MOC3D). </font>** https://doi.org/10.3133/wri964267\n",
    "\n",
    "**<font color='Green'>[2] Wexler, E. J. (1992). Analytical solution for one-, two-, and three-dimensional solute transport in ground-water systems with uniform flow; supplemental report; source codes for computer programs and sample data sets. U.S. Geological Survey Open File Report/Open-file Report.</font>** https://doi.org/10.3133/ofr9278"
   ]
  },
  {
   "cell_type": "markdown",
   "id": "5f82bb00-e0d5-447e-b187-119454b7bf52",
   "metadata": {},
   "source": [
    "## Dominio de estudio.\n",
    "\n",
    "<img src=\"./figures/mesh_plainview_mf6.png\" width=300px hspace=\"5\" vspace=\"5\" style=\"float: right;\"/>\n",
    "<img src=\"./figures/mesh_3D_mf6.png\" width=300px hspace=\"5\" vspace=\"5\" style=\"float: right;\"/>\n",
    "\n",
    "* The model grid for this problem consists of one layer, 120 columns, and 1 row.\n",
    "* DELR is set to 0.1 $cm$ and DELC is specified with a constant value of 0.1 $cm$.\n",
    "* The top for each cell is assigned a value of 1.0 $cm$ and the bottom is assigned a value of zero.\n",
    "\n",
    "<img src=\"./figures/flow_mf6.png\">"
   ]
  },
  {
   "cell_type": "markdown",
   "id": "0bb65a42-6138-4fc2-a114-388d9481a512",
   "metadata": {
    "jp-MarkdownHeadingCollapsed": true
   },
   "source": [
    "## Parámetros de la simulación.\n",
    "\n",
    "* The simulation consists of one stress period that is 120 $s$ in length, and the stress period is divided into 240 equally sized time steps.\n",
    "* By using a uniform porosity value of 0.1, a velocity value of 0.1 $cm/s$ results from the injection of water at a rate of 0.001 $cm^3/s$ into the first cell.\n",
    "* The last cell is assigned a constant head with a value of zero, though this value is not important as the cells are marked as being confined.\n",
    "* The concentration of the injected water is assigned a value of 1.0, and any water that leaves through the constant-head cell leaves with the simulated concentration of the water in that last cell.\n",
    "* Advection is solved using the TVD scheme to reduce numerical dispersion.\n",
    "  \n",
    "|Parameter | Value| Units | Variable |\n",
    "|---:|:---:|:---:|:---:|\n",
    "|Number of periods |1| | `nper` |\n",
    "|Number of layers |1| | `nlay` |\n",
    "|Number of rows |1| | `nrow` |\n",
    "|Number of columns |120| | `ncol` |\n",
    "|Length of system |12.0| cm |\n",
    "|Column width |0.1| cm |\n",
    "|Row width |0.1| cm |\n",
    "|Top of the model |1.0| cm |\n",
    "|Layer bottom elevation (cm) |0| cm |\n",
    "|Specific discharge |0.1| cm s$^{-1}$ |\n",
    "|Hydraulic conductivity |0.01| cm s$^{-1}$ |\n",
    "|Porosity of mobile domain |0.1| unitless |\n",
    "|Simulation time |120.0| s |\n",
    "|Source concentration |1.0| unitless |\n",
    "|Initial concentration |0.0| unitless |\n",
    "\n",
    "\n",
    "\n"
   ]
  },
  {
   "cell_type": "markdown",
   "id": "6daae84d-55d2-4257-b8d8-22dc49557f30",
   "metadata": {},
   "source": [
    "# MODFLOW 6.\n",
    "\n",
    "## Componentes.\n",
    "\n",
    "<img src=\"./figures/components_mf6.png\">\n",
    "\n",
    "Una simulación típicamente se basa en cuatro componentes:\n",
    "* **Models**. Un modelo resuelve un proceso hidrológico; por ejemplo, el GWF model, resuelve la ecuación de flujo subterráneo usando el método CVFD.\n",
    "* **Exchange**. Facilita la comunicación entre dos modelos; por ejemplo, un intercambio GWF-GWF, permite que algunas celdas de un modelo GWF estén hidráulicamente conectadas con celdas del otro modelo GWF.\n",
    "* **Solutions**. Resuelve uno o más modelos hidrológicos, utiliza métodos iterativos para resolver sistemas no-lineales.\n",
    "* **Timing**. Controla el paso de tiempo y determina el fin de una simulación.\n",
    "\n",
    "**<font color='Green'>[3] Langevin, C.D., Hughes, J.D., Provost, A.M., Banta, E.R., Niswonger, R.G., and Panday, Sorab, 2017, Documentation for the MODFLOW 6 Groundwater Flow (GWF) Model: U.S. Geological Survey Techniques and Methods, book 6, chap. A55, 197 p., accessed August 4, 2017. </font>** https://doi.org/10.3133/tm6A55."
   ]
  },
  {
   "cell_type": "markdown",
   "id": "0e3b9799-700c-4eb7-aab0-b5d34c10f174",
   "metadata": {},
   "source": [
    "## Esquema para GWF.\n",
    "\n",
    "<img src=\"./figures/modflow01.png\" width=300px hspace=\"5\" vspace=\"5\" style=\"float: left;\"/>\n",
    "\n",
    "Taken from [4].\n",
    "\n",
    "Figure 2. Schematic diagram showing several common ways in which the groundwater flow (GWF) and groundwater\r",
    "transport (GWT) models can be configured within a simulation. The common use case depicted in (A) consists of a single\r",
    "    GWF model that is solved by a Numerical Solution. \n",
    "\n",
    "\n",
    "* The GWF Model described in [3] is divided into “packages,” as was done in previous MODFLOW versions.\n",
    "* A package is the part of the model that deals with a single aspect of simulation.\n",
    "* For example, the Well Package simulates the effect of wells, and the River Package simulates the effect of rivers.\n",
    "* The GWF Model contains many packages and options that the user may or may not have occasion to use.\n",
    "\n",
    "\n",
    "**<font color='Green'>[4] Langevin, C. D., Hughes, J. D., Provost, A. M., Russcher, M. J., & Panday, S. (2023). MODFLOW as a configurable Multi‐Model Hydrologic Simulator. Ground Water.</font>** https://doi.org/10.1111/gwat.13351"
   ]
  },
  {
   "cell_type": "markdown",
   "id": "0b804605-23b5-4134-9e01-f71c1e3e449c",
   "metadata": {},
   "source": [
    "# Proceso de solución.\n",
    "\n",
    "## Paso 1. Importación de bibliotecas"
   ]
  },
  {
   "cell_type": "code",
   "execution_count": 3,
   "id": "f696fc74-41d6-4916-b6cf-e1e63822021f",
   "metadata": {},
   "outputs": [],
   "source": [
    "import os   # Intefaces con el sistema operativo.\n",
    "import numpy as np # Manejo de arreglos numéricos multidimensionales\n",
    "import matplotlib.pyplot as plt # Graficación\n",
    "\n",
    "# Biblioteca y módulos de flopy\n",
    "import flopy\n",
    "from flopy.plot.styles import styles"
   ]
  },
  {
   "cell_type": "markdown",
   "id": "b6e21570-82d4-4c81-aa18-fd55e493f195",
   "metadata": {},
   "source": [
    "## Paso 2. Ruta hacia el ejecutable de MODFLOW6 y nombre de la simulación."
   ]
  },
  {
   "cell_type": "code",
   "execution_count": 4,
   "id": "b1d960d1-5fcb-4bcb-a043-1d2bb2c198db",
   "metadata": {},
   "outputs": [
    {
     "name": "stdout",
     "output_type": "stream",
     "text": [
      " Ruta hacia el ejecutable de MODFLOW 6 : /home/jovyan/GMMC/WMA/mf6/bin/mf6 \n",
      " Ruta actual : /home/jovyan/GMMC/WMA/notebooks/1_Flujo_mf6_1D\n",
      " Nombre de esta simulación: flow\n"
     ]
    }
   ],
   "source": [
    "ws = os.getcwd() # Ruta de donde estamos actualmente\n",
    "mf6_exe = '/home/jovyan/GMMC/WMA/mf6/bin/mf6' # Ejecutable\n",
    "name = 'flow' # Nombre de la simulación\n",
    "\n",
    "print(' Ruta hacia el ejecutable de MODFLOW 6 : {} '.format(mf6_exe))\n",
    "print(' Ruta actual : {}'.format(ws))\n",
    "print(' Nombre de esta simulación: {}'.format(name))"
   ]
  },
  {
   "cell_type": "markdown",
   "id": "64b4ecd3-37a8-411a-b564-fc6e2d089533",
   "metadata": {},
   "source": [
    "## Paso 3. Definición de la simulación (`MFSimulation` object)"
   ]
  },
  {
   "cell_type": "markdown",
   "id": "e7ff03dd-e7bd-445a-9b9d-d30e36e8b0b1",
   "metadata": {},
   "source": [
    "**Recordemos que:**\n",
    "\n",
    "<img src=\"./figures/modflow01.png\" width=300px hspace=\"5\" vspace=\"5\" style=\"float: left;\"/>"
   ]
  },
  {
   "cell_type": "code",
   "execution_count": 5,
   "id": "a0ff8fe9-6943-4d39-8c31-267298506288",
   "metadata": {},
   "outputs": [
    {
     "name": "stdout",
     "output_type": "stream",
     "text": [
      "sim_name = flow\n",
      "sim_path = /home/jovyan/GMMC/WMA/notebooks/1_Flujo_mf6_1D\n",
      "exe_name = /home/jovyan/GMMC/WMA/mf6/bin/mf6\n",
      "\n",
      "###################\n",
      "Package mfsim.nam\n",
      "###################\n",
      "\n",
      "package_name = mfsim.nam\n",
      "filename = mfsim.nam\n",
      "package_type = nam\n",
      "model_or_simulation_package = simulation\n",
      "simulation_name = flow\n",
      "\n",
      "\n",
      "\n"
     ]
    }
   ],
   "source": [
    "sim = flopy.mf6.MFSimulation(sim_name=name, sim_ws=ws, exe_name=mf6_exe)\n",
    "print(sim)"
   ]
  },
  {
   "cell_type": "markdown",
   "id": "427c9dec-abd0-4fad-a874-3bb33dc49147",
   "metadata": {},
   "source": [
    "## Paso 4. Definición de la discretización temporal (`ModflowTDis` object)\n",
    "\n",
    "<center>\n",
    "<img src=\"../figures/time_step.png\" width=500px>\n",
    "</center>\n",
    "  \n",
    "The length of a time step is calculated by multiplying the length of the previous time step by TSMULT. \n",
    "The length of the first time step, $\\Delta t_1$, is related to PERLEN, NSTP, and TSMULT by the relation:\n",
    "$$\n",
    "\\Delta t_1= \\frac{\\text{PERLEN}}{\\text{NSTP}} \\;\\; \\text{para} \\;\\; \\text{TSMULT} = 1\n",
    "$$\n",
    "\n",
    "$$\n",
    "\\Delta t_1= \\text{PERLEN} \\frac{\\text{TSMULT} - 1}{\\text{TSMULT}^\\text{nstp}-1} \\;\\; \\text{para} \\;\\; \\text{TSMULT} \\neq 1\n",
    "$$\n",
    "\n",
    "The length of each successive time step is computed as\n",
    "\n",
    "$$\n",
    "\\Delta t = \\Delta t_{old} \\text{TSMULT}\n",
    "$$\n",
    "\n",
    "where:\n",
    "* `perlen` (double) is the length of a stress period.\n",
    "* `nstp` (integer) is the number of time steps in a stress period.\n",
    "* `tsmult` (double) is the multiplier for the length of successive time steps.\n",
    "  \n",
    "**<font color='Green'>[5] Hughes, J.D., Langevin, C.D., and Banta, E.R., 2017, *Documentation for the MODFLOW 6 framework: U.S. Geological Survey Techniques and Methods*, book 6, chap. A57, 40 p.,</font>** https://doi.org/10.3133/tm6A57. **Timing Module, pp 10,12**."
   ]
  },
  {
   "cell_type": "code",
   "execution_count": 6,
   "id": "79ab1859-b5eb-4698-a25d-8acd2ae9e657",
   "metadata": {},
   "outputs": [],
   "source": [
    "tparams = dict(nper = 1,  # Number of periods\n",
    "               total_time = 120.0,  # Simulation time ($s$)\n",
    "               nstp = 1.0,   # Number of time steps\n",
    "               tsmult = 1.0  # Multiplier for the length of successive time steps.\n",
    "              )\n",
    "model_units = {}\n",
    "model_units[\"time\"] = \"seconds\""
   ]
  },
  {
   "cell_type": "code",
   "execution_count": 7,
   "id": "2d41847b-f88c-4e12-acba-f96004600ac4",
   "metadata": {},
   "outputs": [
    {
     "data": {
      "text/plain": [
       "package_name = flow.tdis\n",
       "filename = flow.tdis\n",
       "package_type = tdis\n",
       "model_or_simulation_package = simulation\n",
       "simulation_name = flow\n",
       "\n",
       "Block options\n",
       "--------------------\n",
       "time_units\n",
       "{internal}\n",
       "('seconds')\n",
       "\n",
       "\n",
       "Block dimensions\n",
       "--------------------\n",
       "nper\n",
       "{internal}\n",
       "(1)\n",
       "\n",
       "\n",
       "Block perioddata\n",
       "--------------------\n",
       "perioddata\n",
       "{internal}\n",
       "(rec.array([(120., 1.0, 1.)],\n",
       "          dtype=[('perlen', '<f8'), ('nstp', 'O'), ('tsmult', '<f8')]))\n",
       "\n"
      ]
     },
     "execution_count": 7,
     "metadata": {},
     "output_type": "execute_result"
    }
   ],
   "source": [
    "flopy.mf6.ModflowTdis(sim, \n",
    "                      nper=tparams[\"nper\"], \n",
    "                      perioddata=((tparams[\"total_time\"], \n",
    "                                   tparams[\"nstp\"], \n",
    "                                   tparams[\"tsmult\"]),), \n",
    "                      time_units=model_units[\"time\"])"
   ]
  },
  {
   "cell_type": "markdown",
   "id": "c489310f-0c8e-44cb-9e97-6ced157242ed",
   "metadata": {},
   "source": [
    "## Paso 5. Definición de la solución numérica (`ModflowIms` object)"
   ]
  },
  {
   "cell_type": "code",
   "execution_count": 8,
   "id": "f6db29f0-7e1a-49b3-b2b0-ec3311c056eb",
   "metadata": {},
   "outputs": [
    {
     "name": "stdout",
     "output_type": "stream",
     "text": [
      "package_name = ims_-1\n",
      "filename = flow.ims\n",
      "package_type = ims\n",
      "model_or_simulation_package = simulation\n",
      "simulation_name = flow\n",
      "\n",
      "\n"
     ]
    }
   ],
   "source": [
    "ims = flopy.mf6.ModflowIms(sim)\n",
    "print(ims)"
   ]
  },
  {
   "cell_type": "markdown",
   "id": "fa8df70c-2b25-4ff8-99cb-fd2d508636c4",
   "metadata": {},
   "source": [
    "## GWF: Paquetes\n",
    "Véase [3].\n",
    "\n",
    "<img src=\"./figures/gwf_mf6.png\" width=500px hspace=\"5\" vspace=\"5\" style=\"float: left;\"/>\n",
    "<img src=\"./figures/gwf_mf6_pack.png\" width=500px hspace=\"5\" vspace=\"5\" style=\"float: left;\"/>"
   ]
  },
  {
   "cell_type": "markdown",
   "id": "7a71fc1e-f25c-4b9a-981b-3928f3c882de",
   "metadata": {},
   "source": [
    "## Paso 6. Modelo de Flujo (ModflowGwf object)"
   ]
  },
  {
   "cell_type": "code",
   "execution_count": 9,
   "id": "9c03995e-c200-41ef-916c-84377e9a5ac4",
   "metadata": {},
   "outputs": [
    {
     "name": "stdout",
     "output_type": "stream",
     "text": [
      "name = flow\n",
      "model_type = gwf6\n",
      "version = mf6\n",
      "model_relative_path = .\n",
      "\n",
      "\n"
     ]
    }
   ],
   "source": [
    "gwf = flopy.mf6.ModflowGwf(sim, modelname=name, save_flows=True)\n",
    "print(gwf)"
   ]
  },
  {
   "cell_type": "markdown",
   "id": "0f6db909-2782-4706-9fff-48c70fee9d80",
   "metadata": {},
   "source": [
    "## Paso 7. Paquete: discretización espacial (`ModflowGwfdis` object)"
   ]
  },
  {
   "cell_type": "code",
   "execution_count": 11,
   "id": "58e0422d-25c1-4943-aad3-a962d58ce5e1",
   "metadata": {},
   "outputs": [
    {
     "name": "stdout",
     "output_type": "stream",
     "text": [
      "0.1  Column width  centimeters\n",
      "0.1  Row width  centimeters\n"
     ]
    }
   ],
   "source": [
    "# Bibliotecas construidas para este proyecto\n",
    "import vflow\n",
    "\n",
    "mesh = vflow.MeshDis(\n",
    "    nrow = 1,    # Number of rows\n",
    "    ncol = 120,  # Number of columns\n",
    "    nlay = 1,    # Number of layers\n",
    "    row_length = 12.0,    # Length of system ($cm$)\n",
    "    column_length = 0.1,  # Length of system ($cm$)\n",
    "    top = 1.0,   # Top of the model ($cm$)\n",
    "    bottom = 0,  # Layer bottom elevation ($cm$)\n",
    ")\n",
    "\n",
    "model_units[\"length\"] = \"centimeters\"\n",
    "print(mesh.delr, ' Column width ', model_units[\"length\"])\n",
    "print(mesh.delc, ' Row width ', model_units[\"length\"])"
   ]
  },
  {
   "cell_type": "code",
   "execution_count": 12,
   "id": "fa754bd8-8a2c-4d10-b849-4532a6afbe4c",
   "metadata": {},
   "outputs": [
    {
     "name": "stdout",
     "output_type": "stream",
     "text": [
      "package_name = dis\n",
      "filename = flow.dis\n",
      "package_type = dis\n",
      "model_or_simulation_package = model\n",
      "model_name = flow\n",
      "\n",
      "Block options\n",
      "--------------------\n",
      "length_units\n",
      "{internal}\n",
      "(centimeters)\n",
      "\n",
      "\n",
      "Block dimensions\n",
      "--------------------\n",
      "nlay\n",
      "{internal}\n",
      "(1)\n",
      "\n",
      "nrow\n",
      "{internal}\n",
      "(1)\n",
      "\n",
      "ncol\n",
      "{internal}\n",
      "(120)\n",
      "\n",
      "\n",
      "Block griddata\n",
      "--------------------\n",
      "delr\n",
      "{constant 0.1}\n",
      "\n",
      "delc\n",
      "{constant 0.1}\n",
      "\n",
      "top\n",
      "{constant 1.0}\n",
      "\n",
      "botm\n",
      "{constant 0}\n",
      "\n",
      "\n",
      "\n"
     ]
    }
   ],
   "source": [
    "dis = flopy.mf6.ModflowGwfdis(gwf,\n",
    "                              length_units=model_units[\"length\"],\n",
    "                              nlay=mesh.nlay,\n",
    "                              nrow=mesh.nrow,\n",
    "                              ncol=mesh.ncol,\n",
    "                              delr=mesh.delr,\n",
    "                              delc=mesh.delc,\n",
    "                              top=mesh.top,\n",
    "                              botm=mesh.bottom,\n",
    ")\n",
    "print(dis)"
   ]
  },
  {
   "cell_type": "markdown",
   "id": "3c71cb8b-798a-4602-9b5e-7fe5ea8a020c",
   "metadata": {},
   "source": [
    "## Paso 8. Paquete: condiciones iniciales (`ModflowGwfic` object)"
   ]
  },
  {
   "cell_type": "code",
   "execution_count": 13,
   "id": "2236aa56-087e-45ec-af06-ee6b084e6a10",
   "metadata": {},
   "outputs": [
    {
     "name": "stdout",
     "output_type": "stream",
     "text": [
      "package_name = ic\n",
      "filename = flow.ic\n",
      "package_type = ic\n",
      "model_or_simulation_package = model\n",
      "model_name = flow\n",
      "\n",
      "Block griddata\n",
      "--------------------\n",
      "strt\n",
      "{constant 1.0}\n",
      "\n",
      "\n",
      "\n"
     ]
    }
   ],
   "source": [
    "ic = flopy.mf6.ModflowGwfic(gwf, strt=1.0)\n",
    "print(ic)"
   ]
  },
  {
   "cell_type": "markdown",
   "id": "37e91119-47f2-44f5-aeb3-94591416befe",
   "metadata": {},
   "source": [
    "## Paso 9. Paquete: propiedades de flujo en los nodos (`ModflowGwfnpd` object)"
   ]
  },
  {
   "cell_type": "code",
   "execution_count": 15,
   "id": "7b8c9368-5715-4f8a-be00-7a06026aa7f4",
   "metadata": {},
   "outputs": [],
   "source": [
    "## Physical parameters\n",
    "pparams = {}\n",
    "pparams[\"hydraulic_conductivity\"] = 0.01  # Hydraulic conductivity ($cm s^{-1}$)"
   ]
  },
  {
   "cell_type": "code",
   "execution_count": 16,
   "id": "9e344c83-df2d-4ae1-b876-88a5a181c6a3",
   "metadata": {},
   "outputs": [
    {
     "name": "stdout",
     "output_type": "stream",
     "text": [
      "package_name = npf\n",
      "filename = flow.npf\n",
      "package_type = npf\n",
      "model_or_simulation_package = model\n",
      "model_name = flow\n",
      "\n",
      "Block options\n",
      "--------------------\n",
      "save_specific_discharge\n",
      "{internal}\n",
      "(True)\n",
      "\n",
      "save_saturation\n",
      "{internal}\n",
      "(True)\n",
      "\n",
      "\n",
      "Block griddata\n",
      "--------------------\n",
      "icelltype\n",
      "{constant 0}\n",
      "\n",
      "k\n",
      "{constant 0.01}\n",
      "\n",
      "\n",
      "\n"
     ]
    }
   ],
   "source": [
    "npf = flopy.mf6.ModflowGwfnpf(gwf,\n",
    "                              save_specific_discharge=True,\n",
    "                              save_saturation=True,\n",
    "                              icelltype=0,\n",
    "                              k=pparams[\"hydraulic_conductivity\"],\n",
    ")\n",
    "print(npf)"
   ]
  },
  {
   "cell_type": "markdown",
   "id": "2280c606-9839-4d59-933d-8f6e3dc5d96f",
   "metadata": {},
   "source": [
    "## Paso 10. Paquete: CHD (`ModflowGwfchd` object)"
   ]
  },
  {
   "cell_type": "code",
   "execution_count": 17,
   "id": "071bd734-fcac-4c9b-981b-2513449df8d5",
   "metadata": {},
   "outputs": [
    {
     "name": "stdout",
     "output_type": "stream",
     "text": [
      "package_name = chd_0\n",
      "filename = flow.chd\n",
      "package_type = chd\n",
      "model_or_simulation_package = model\n",
      "model_name = flow\n",
      "\n",
      "Block period\n",
      "--------------------\n",
      "stress_period_data\n",
      "{0: <flopy.mf6.data.mfdataplist.PandasListStorage object at 0x7fac3c89a610>}\n",
      "\n",
      "\n"
     ]
    }
   ],
   "source": [
    "chd = flopy.mf6.ModflowGwfchd(gwf, stress_period_data=[[(0, 0, mesh.ncol - 1), 1.0]]) \n",
    "print(chd)"
   ]
  },
  {
   "cell_type": "markdown",
   "id": "08a39d2e-6949-4c4d-ac67-d8fef30bb93e",
   "metadata": {},
   "source": [
    "## Paso 11. Paquete: Pozos (`ModflowGwfwel` object)"
   ]
  },
  {
   "cell_type": "code",
   "execution_count": 18,
   "id": "74941dca-ace4-439f-88f3-23a9f7954b35",
   "metadata": {},
   "outputs": [],
   "source": [
    "pparams[\"specific_discharge\"] = 0.1  # Specific discharge ($cm s^{-1}$)\n",
    "pparams[\"source_concentration\"] = 1.0  # Source concentration (unitless)"
   ]
  },
  {
   "cell_type": "code",
   "execution_count": 19,
   "id": "1204503f-5f85-4902-95c1-e451bc295ee1",
   "metadata": {},
   "outputs": [
    {
     "name": "stdout",
     "output_type": "stream",
     "text": [
      "package_name = wel-1\n",
      "filename = flow.wel\n",
      "package_type = wel\n",
      "model_or_simulation_package = model\n",
      "model_name = flow\n",
      "\n",
      "Block options\n",
      "--------------------\n",
      "auxiliary\n",
      "{internal}\n",
      "([('auxiliary', 'CONCENTRATION')])\n",
      "\n",
      "\n",
      "Block period\n",
      "--------------------\n",
      "stress_period_data\n",
      "{0: <flopy.mf6.data.mfdataplist.PandasListStorage object at 0x7fac3c8d5d50>}\n",
      "\n",
      "\n"
     ]
    }
   ],
   "source": [
    "q = pparams[\"specific_discharge\"] * mesh.delc * mesh.delr * mesh.top\n",
    "aux = pparams[\"source_concentration\"]\n",
    "wel = flopy.mf6.ModflowGwfwel(gwf,\n",
    "                              stress_period_data=[[(0, 0, 0), q, aux,]],\n",
    "                              pname=\"WEL-1\",\n",
    "                              auxiliary=[\"CONCENTRATION\"],\n",
    ")\n",
    "\n",
    "print(wel)"
   ]
  },
  {
   "cell_type": "markdown",
   "id": "efcd5da6-94ce-415a-8ef1-db53ede0a63e",
   "metadata": {},
   "source": [
    "## Paso 12. Paquete: salida (`ModflowGwfoc` object)"
   ]
  },
  {
   "cell_type": "code",
   "execution_count": 20,
   "id": "0626b91b-4164-48b2-a326-ee9f36a1a9a0",
   "metadata": {},
   "outputs": [
    {
     "name": "stdout",
     "output_type": "stream",
     "text": [
      "package_name = oc\n",
      "filename = flow.oc\n",
      "package_type = oc\n",
      "model_or_simulation_package = model\n",
      "model_name = flow\n",
      "\n",
      "Block options\n",
      "--------------------\n",
      "budget_filerecord\n",
      "{internal}\n",
      "([('flow.bud',)])\n",
      "\n",
      "head_filerecord\n",
      "{internal}\n",
      "([('flow.hds',)])\n",
      "\n",
      "\n",
      "Block period\n",
      "--------------------\n",
      "saverecord\n",
      "{internal}\n",
      "([('HEAD', 'ALL', None) ('BUDGET', 'ALL', None)])\n",
      "\n",
      "printrecord\n",
      "None\n",
      "\n",
      "\n"
     ]
    }
   ],
   "source": [
    "head_filerecord = f\"{name}.hds\"\n",
    "budget_filerecord = f\"{name}.bud\"\n",
    "oc = flopy.mf6.ModflowGwfoc(gwf,\n",
    "                            head_filerecord=head_filerecord,\n",
    "                            budget_filerecord=budget_filerecord,\n",
    "                            saverecord=[(\"HEAD\", \"ALL\"), (\"BUDGET\", \"ALL\")],\n",
    ")\n",
    "print(oc)"
   ]
  },
  {
   "cell_type": "markdown",
   "id": "51c7c2b8-4856-45da-8619-3dd2c722af84",
   "metadata": {},
   "source": [
    "## Paso 13. Escritura de los archivos de entrada para MODFLOW 6"
   ]
  },
  {
   "cell_type": "code",
   "execution_count": 21,
   "id": "955c6923-dba0-4fec-b43a-936a1e7a2eff",
   "metadata": {},
   "outputs": [
    {
     "name": "stdout",
     "output_type": "stream",
     "text": [
      "writing simulation...\n",
      "  writing simulation name file...\n",
      "  writing simulation tdis package...\n",
      "  writing solution package ims_-1...\n",
      "  writing model flow...\n",
      "    writing model name file...\n",
      "    writing package dis...\n",
      "    writing package ic...\n",
      "    writing package npf...\n",
      "    writing package chd_0...\n",
      "INFORMATION: maxbound in ('gwf6', 'chd', 'dimensions') changed to 1 based on size of stress_period_data\n",
      "    writing package wel-1...\n",
      "INFORMATION: maxbound in ('gwf6', 'wel', 'dimensions') changed to 1 based on size of stress_period_data\n",
      "    writing package oc...\n"
     ]
    }
   ],
   "source": [
    "sim.write_simulation()"
   ]
  },
  {
   "cell_type": "markdown",
   "id": "06e59c4a-6dcb-4f6e-a7ca-2ca6597f88c6",
   "metadata": {},
   "source": [
    "## Paso 14. Ejecución de la simulación."
   ]
  },
  {
   "cell_type": "code",
   "execution_count": 22,
   "id": "44e64765-dd25-46ee-b705-763a3d8254ba",
   "metadata": {},
   "outputs": [
    {
     "name": "stdout",
     "output_type": "stream",
     "text": [
      "FloPy is using the following executable to run the model: ../../mf6/bin/mf6\n",
      "                                   MODFLOW 6\n",
      "                U.S. GEOLOGICAL SURVEY MODULAR HYDROLOGIC MODEL\n",
      "                            VERSION 6.4.4 02/13/2024\n",
      "\n",
      "   MODFLOW 6 compiled Feb 13 2024 16:19:58 with Intel(R) Fortran Intel(R) 64\n",
      "   Compiler Classic for applications running on Intel(R) 64, Version 2021.7.0\n",
      "                             Build 20220726_000000\n",
      "\n",
      "This software has been approved for release by the U.S. Geological \n",
      "Survey (USGS). Although the software has been subjected to rigorous \n",
      "review, the USGS reserves the right to update the software as needed \n",
      "pursuant to further analysis and review. No warranty, expressed or \n",
      "implied, is made by the USGS or the U.S. Government as to the \n",
      "functionality of the software and related material nor shall the \n",
      "fact of release constitute any such warranty. Furthermore, the \n",
      "software is released on condition that neither the USGS nor the U.S. \n",
      "Government shall be held liable for any damages resulting from its \n",
      "authorized or unauthorized use. Also refer to the USGS Water \n",
      "Resources Software User Rights Notice for complete use, copyright, \n",
      "and distribution information.\n",
      "\n",
      " \n",
      " Run start date and time (yyyy/mm/dd hh:mm:ss): 2024/04/29 17:29:28\n",
      " \n",
      " Writing simulation list file: mfsim.lst\n",
      " Using Simulation name file: mfsim.nam\n",
      " \n",
      "    Solving:  Stress period:     1    Time step:     1\n",
      " \n",
      " Run end date and time (yyyy/mm/dd hh:mm:ss): 2024/04/29 17:29:28\n",
      " Elapsed run time:  0.061 Seconds\n",
      " \n",
      " Normal termination of simulation.\n"
     ]
    },
    {
     "data": {
      "text/plain": [
       "(True, [])"
      ]
     },
     "execution_count": 22,
     "metadata": {},
     "output_type": "execute_result"
    }
   ],
   "source": [
    "sim.run_simulation()"
   ]
  },
  {
   "cell_type": "markdown",
   "id": "4942b96b-60cb-44f4-b374-1e6b171e25dd",
   "metadata": {},
   "source": [
    "## Paso 15. Postprocessing"
   ]
  },
  {
   "cell_type": "code",
   "execution_count": 23,
   "id": "481bb5ac-150e-4571-b3f5-c197a58d5b83",
   "metadata": {},
   "outputs": [],
   "source": [
    "# Obtenemos los resultados de la carga hidráulica\n",
    "head = flopy.utils.HeadFile(os.path.join(ws, head_filerecord)).get_data()\n",
    "\n",
    "# Obtenemos los resultados del BUDGET\n",
    "bud  = flopy.utils.CellBudgetFile(os.path.join(ws, budget_filerecord),\n",
    "                                  precision='double')\n",
    "# Obtenemos las velocidades\n",
    "spdis = bud.get_data(text='DATA-SPDIS')[0]\n",
    "qx, qy, qz = flopy.utils.postprocessing.get_specific_discharge(spdis, gwf)"
   ]
  },
  {
   "cell_type": "code",
   "execution_count": 24,
   "id": "34d2346a-c3fa-4420-8feb-fffa31a7e1b7",
   "metadata": {},
   "outputs": [
    {
     "name": "stdout",
     "output_type": "stream",
     "text": [
      "Head :  <class 'numpy.ndarray'> (1, 1, 120)\n",
      "Budget :  <class 'flopy.utils.binaryfile.CellBudgetFile'> (1, 1, 120)\n",
      "spdis :  <class 'numpy.recarray'> (120,)\n",
      "qx :  <class 'numpy.ndarray'> (1, 1, 120)\n",
      "qy :  <class 'numpy.ndarray'> (1, 1, 120)\n",
      "qz :  <class 'numpy.ndarray'> (1, 1, 120)\n"
     ]
    }
   ],
   "source": [
    "# Verificamos el tipo y dimensiones de los arreglos donde\n",
    "# están almacenados la carga hidráulica, el BUDGET, y la velocidad.\n",
    "print('Head : ', type(head), head.shape)\n",
    "print('Budget : ', type(bud), bud.shape)\n",
    "print('spdis : ', type(spdis), spdis.shape)\n",
    "print('qx : ', type(qx), qx.shape)\n",
    "print('qy : ', type(qy), qy.shape)\n",
    "print('qz : ', type(qz), qz.shape)"
   ]
  },
  {
   "cell_type": "code",
   "execution_count": 25,
   "id": "ce017cb0-8a6d-4602-a5c8-651665a54965",
   "metadata": {},
   "outputs": [
    {
     "name": "stdout",
     "output_type": "stream",
     "text": [
      "(1, 1, 120) \n",
      " [[[12.9 12.8 12.7 12.6 12.5 12.4 12.3 12.2 12.1 12.  11.9 11.8 11.7 11.6\n",
      "   11.5 11.4 11.3 11.2 11.1 11.  10.9 10.8 10.7 10.6 10.5 10.4 10.3 10.2\n",
      "   10.1 10.   9.9  9.8  9.7  9.6  9.5  9.4  9.3  9.2  9.1  9.   8.9  8.8\n",
      "    8.7  8.6  8.5  8.4  8.3  8.2  8.1  8.   7.9  7.8  7.7  7.6  7.5  7.4\n",
      "    7.3  7.2  7.1  7.   6.9  6.8  6.7  6.6  6.5  6.4  6.3  6.2  6.1  6.\n",
      "    5.9  5.8  5.7  5.6  5.5  5.4  5.3  5.2  5.1  5.   4.9  4.8  4.7  4.6\n",
      "    4.5  4.4  4.3  4.2  4.1  4.   3.9  3.8  3.7  3.6  3.5  3.4  3.3  3.2\n",
      "    3.1  3.   2.9  2.8  2.7  2.6  2.5  2.4  2.3  2.2  2.1  2.   1.9  1.8\n",
      "    1.7  1.6  1.5  1.4  1.3  1.2  1.1  1. ]]]\n"
     ]
    }
   ],
   "source": [
    "print(head.shape, '\\n', head)"
   ]
  },
  {
   "cell_type": "code",
   "execution_count": 26,
   "id": "7edba925-008e-4fcd-ac22-e20bed4b3fbf",
   "metadata": {},
   "outputs": [
    {
     "name": "stdout",
     "output_type": "stream",
     "text": [
      "(1, 1, 120) \n",
      " [[[0.01 0.01 0.01 0.01 0.01 0.01 0.01 0.01 0.01 0.01 0.01 0.01 0.01 0.01\n",
      "   0.01 0.01 0.01 0.01 0.01 0.01 0.01 0.01 0.01 0.01 0.01 0.01 0.01 0.01\n",
      "   0.01 0.01 0.01 0.01 0.01 0.01 0.01 0.01 0.01 0.01 0.01 0.01 0.01 0.01\n",
      "   0.01 0.01 0.01 0.01 0.01 0.01 0.01 0.01 0.01 0.01 0.01 0.01 0.01 0.01\n",
      "   0.01 0.01 0.01 0.01 0.01 0.01 0.01 0.01 0.01 0.01 0.01 0.01 0.01 0.01\n",
      "   0.01 0.01 0.01 0.01 0.01 0.01 0.01 0.01 0.01 0.01 0.01 0.01 0.01 0.01\n",
      "   0.01 0.01 0.01 0.01 0.01 0.01 0.01 0.01 0.01 0.01 0.01 0.01 0.01 0.01\n",
      "   0.01 0.01 0.01 0.01 0.01 0.01 0.01 0.01 0.01 0.01 0.01 0.01 0.01 0.01\n",
      "   0.01 0.01 0.01 0.01 0.01 0.01 0.01 0.01]]]\n"
     ]
    }
   ],
   "source": [
    "print(qx.shape, '\\n', qx)"
   ]
  },
  {
   "cell_type": "code",
   "execution_count": 28,
   "id": "61074e07-d0f3-4682-9ffe-348343728b4c",
   "metadata": {},
   "outputs": [
    {
     "data": {
      "image/png": "[encoded data removed]",
      "text/plain": [
       "<Figure size 1000x300 with 1 Axes>"
      ]
     },
     "metadata": {},
     "output_type": "display_data"
    }
   ],
   "source": [
    "with styles.USGSPlot():\n",
    "    plt.rcParams['font.family'] = 'DeJavu Sans'\n",
    "    x, _, _ = mesh.get_coords()\n",
    "    plt.figure(figsize=(10,3))\n",
    "    plt.plot(x, head[0, 0], marker=\".\", ls =\"-\", mec=\"blue\", mfc=\"none\", markersize=\"1\", label = 'Head')\n",
    "    plt.xlim(0, 12)\n",
    "    plt.xticks(ticks=np.linspace(0, mesh.row_length,13))\n",
    "    plt.xlabel(\"Distance (cm)\")\n",
    "    plt.ylabel(\"Head\")\n",
    "    plt.legend()\n",
    "    plt.grid()\n",
    "    plt.show()"
   ]
  },
  {
   "cell_type": "code",
   "execution_count": null,
   "id": "38be2755-372e-47dd-9275-7b53c42bde8c",
   "metadata": {},
   "outputs": [],
   "source": [
    "plt.figure(figsize=(10,0.15))\n",
    "ax = plt.gca()\n",
    "#ax.set_aspect('equal')\n",
    "pmv0 = flopy.plot.PlotMapView(gwf, ax=ax)\n",
    "pmv0.plot_grid(colors='dimgray', lw=0.5)\n",
    "plt.yticks(ticks=[0, 0.1],fontsize=8)\n",
    "\n",
    "plt.show()\n"
   ]
  },
  {
   "cell_type": "markdown",
   "id": "f32c659c-df04-4120-91ba-92bc3d13d91d",
   "metadata": {},
   "source": [
    "# "
   ]
  }
 ],
 "metadata": {
  "kernelspec": {
   "display_name": "Python 3 (ipykernel)",
   "language": "python",
   "name": "python3"
  },
  "language_info": {
   "codemirror_mode": {
    "name": "ipython",
    "version": 3
   },
   "file_extension": ".py",
   "mimetype": "text/x-python",
   "name": "python",
   "nbconvert_exporter": "python",
   "pygments_lexer": "ipython3",
   "version": "3.11.6"
  }
 },
 "nbformat": 4,
 "nbformat_minor": 5
}
