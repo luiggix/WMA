{
 "cells": [
  {
   "cell_type": "markdown",
   "id": "0bbc9f38-c835-49da-b1e6-ab08cbbaa463",
   "metadata": {},
   "source": [
    "## Step 0. Library import"
   ]
  },
  {
   "cell_type": "code",
   "execution_count": 1,
   "id": "48f786a9-a7c0-4ed9-a6ed-4566fd3d9659",
   "metadata": {},
   "outputs": [
    {
     "name": "stdout",
     "output_type": "stream",
     "text": [
      "Requirement already satisfied: flopy in /opt/conda/lib/python3.11/site-packages (3.6.0)\n",
      "Requirement already satisfied: numpy<2.0.0,>=1.15.0 in /opt/conda/lib/python3.11/site-packages (from flopy) (1.26.2)\n",
      "Requirement already satisfied: matplotlib>=1.4.0 in /opt/conda/lib/python3.11/site-packages (from flopy) (3.8.1)\n",
      "Requirement already satisfied: pandas>=2.0.0 in /opt/conda/lib/python3.11/site-packages (from flopy) (2.1.3)\n",
      "Requirement already satisfied: contourpy>=1.0.1 in /opt/conda/lib/python3.11/site-packages (from matplotlib>=1.4.0->flopy) (1.2.0)\n",
      "Requirement already satisfied: cycler>=0.10 in /opt/conda/lib/python3.11/site-packages (from matplotlib>=1.4.0->flopy) (0.12.1)\n",
      "Requirement already satisfied: fonttools>=4.22.0 in /opt/conda/lib/python3.11/site-packages (from matplotlib>=1.4.0->flopy) (4.44.3)\n",
      "Requirement already satisfied: kiwisolver>=1.3.1 in /opt/conda/lib/python3.11/site-packages (from matplotlib>=1.4.0->flopy) (1.4.5)\n",
      "Requirement already satisfied: packaging>=20.0 in /opt/conda/lib/python3.11/site-packages (from matplotlib>=1.4.0->flopy) (23.2)\n",
      "Requirement already satisfied: pillow>=8 in /opt/conda/lib/python3.11/site-packages (from matplotlib>=1.4.0->flopy) (10.1.0)\n",
      "Requirement already satisfied: pyparsing>=2.3.1 in /opt/conda/lib/python3.11/site-packages (from matplotlib>=1.4.0->flopy) (3.1.1)\n",
      "Requirement already satisfied: python-dateutil>=2.7 in /opt/conda/lib/python3.11/site-packages (from matplotlib>=1.4.0->flopy) (2.8.2)\n",
      "Requirement already satisfied: pytz>=2020.1 in /opt/conda/lib/python3.11/site-packages (from pandas>=2.0.0->flopy) (2023.3.post1)\n",
      "Requirement already satisfied: tzdata>=2022.1 in /opt/conda/lib/python3.11/site-packages (from pandas>=2.0.0->flopy) (2023.3)\n",
      "Requirement already satisfied: six>=1.5 in /opt/conda/lib/python3.11/site-packages (from python-dateutil>=2.7->matplotlib>=1.4.0->flopy) (1.16.0)\n"
     ]
    }
   ],
   "source": [
    "!pip install flopy"
   ]
  },
  {
   "cell_type": "markdown",
   "id": "0e3b9799-700c-4eb7-aab0-b5d34c10f174",
   "metadata": {},
   "source": [
    "# Ejemplo de flujo en 1D en MODFLOW6.\n",
    "\n",
    "https://modflow6.readthedocs.io/en/latest/\n",
    "\n",
    "**One-dimensional steady flow with transport**\n",
    "\n",
    "* This problem corresponds to the first problem presented in the MOC3D report Konikow 1996, involving the transport of a dissolved constituent in a steady, one-dimensional flow field.\n",
    "* An analytical solution for this problem is given by \\cite{wexler1992}.\n",
    "* This example is simulated with the GWT Model in \\mf, which receives flow information from a separate simulation with the GWF Model in \\mf.\n",
    "* Results from the GWT Model are compared with the results from the \\cite{wexler1992} analytical solution.\n",
    "\n",
    "The parameters used for this problem are listed in table~\\ref{tab:ex-gwt-moc3d-p01-01}.  The model grid for this problem consists of one layer, 120 rows, and 1 columns.  The top for each cell is assigned a value of 1.0 $cm$ and the bottom is assigned a value of zero.  DELR is set to 1.0 $cm$ and DELC is specified with a constant value of 0.1 $cm$.  The simulation consists of one stress period that is 120 $s$ in length, and the stress period is divided into 240 equally sized time steps.  By using a uniform porosity value of 0.1, a velocity value of 0.1 $cm/s$ results from the injection of water at a rate of 0.001 $cm^3/s$ into the first cell.  The last cell is assigned a constant head with a value of zero, though this value is not important as the cells are marked as being confined.  The concentration of the injected water is assigned a value of 1.0, and any water that leaves through the constant-head cell leaves with the simulated concentration of the water in that last cell.   Advection is solved using the TVD scheme to reduce numerical dispersion.\n",
    "\n",
    "|   |   |   |\n",
    "|Parameter | Value| Units | Variable |\n",
    "|---:|:---:|:---:|:---:|\r",
    "|Number of periods |1| | `nper` |\r",
    "|Number of layers |1| | `nlay` |\r",
    "|Number of rows |1| | `nrow` |\r",
    "|Number of columns |122| | `ncol` |\r",
    "|Length of system |12.0| cm |\r",
    "|Column width |0.1| cm |\r",
    "|Row width |0.1| cm |\r",
    "|Top of the model |1.0| cm |\r",
    "|Layer bottom elevation (cm) |0| cm |\r",
    "|Specific discharge |0.1| cm s$^{-1}$ |\r",
    "|Hydraulic conductivity |0.01| cm s$^{-1}$ |\r",
    "|Porosity of mobile domain |0.1| unitless |\r",
    "|Simulation time |120.0| s |\r",
    "|Source concentration |1.0| unitless |\r",
    "|Initial concentration |0.0| unitless |\n",
    "\n",
    "<img src=\"./figures/modflow01.png\" width=300px hspace=\"5\" vspace=\"5\" style=\"float: left;\"/>\n",
    "\n",
    "Figure 2. Schematic diagram showing several common ways in which the groundwater flow (GWF) and groundwater\r",
    "transport (GWT) models can be configured within a simulation. The common use case depicted in (A) consists of a single\r",
    "    GWF model that is solved by a Numerical Solution. From [1]. \n",
    "\n",
    "* MODFLOW 6 – Example problems, MODFLOW 6 Development Team, with contributions from Chieh Ying Chen and Mike Toews 02/07/2024. mf6example.spdf.\n",
    "\n",
    "* [1] Konikow, L. F., Goode, D. J., & Hornberger, G. (1996). A three-dimensional method-of-characteristics solute-transport model (MOC3D). https://doi.org/10.3133/wri964267\n",
    "* [2] Wexler, E. J. (1992). Analytical solution for one-, two-, and three-dimensional solute transport in ground-water systems with uniform flow; supplemental report; source codes for computer programs and sample data sets. U.S. Geological Survey Open File Report/Open-file Report. https://doi.org/10.3133/ofr9278\n",
    "* [2] Langevin, C. D., Hughes, J. D., Provost, A. M., Russcher, M. J., & Panday, S. (2023). MODFLOW as a configurable Multi‐Model Hydrologic Simulator. Ground Water. https://doi.org/10.1111/gwat.13351"
   ]
  },
  {
   "cell_type": "code",
   "execution_count": 2,
   "id": "f696fc74-41d6-4916-b6cf-e1e63822021f",
   "metadata": {},
   "outputs": [],
   "source": [
    "import os\n",
    "import numpy as np\n",
    "import matplotlib.pyplot as plt\n",
    "\n",
    "# Biblioteca y módulos de flopy\n",
    "import flopy\n",
    "from flopy.plot.styles import styles"
   ]
  },
  {
   "cell_type": "markdown",
   "id": "37f2d3c8-edfd-4b17-9734-ec2addc5b042",
   "metadata": {},
   "source": [
    "## Step 1. Simulation parameters definition."
   ]
  },
  {
   "cell_type": "code",
   "execution_count": 3,
   "id": "58e0422d-25c1-4943-aad3-a962d58ce5e1",
   "metadata": {},
   "outputs": [],
   "source": [
    "#3class mesh()\n",
    "## Discretization\n",
    "#nper = 1  # Number of periods\n",
    "#nlay = 1  # Number of layers\n",
    "#nrow = 1  # Number of rows\n",
    "#ncol = 120  # Number of columns\n",
    "#length_x = delr * nrow\n",
    "#length_y = 12.0  # Length of system ($cm$)\n",
    "#length_z =  top - botm\n",
    "#delr = 0.1  # Column width ($cm$)\n",
    "#delc = 0.1  # Row width ($cm$)\n",
    "#top = 1.0  # Top of the model ($cm$)\n",
    "#botm = 0  # Layer bottom elevation ($cm$)"
   ]
  },
  {
   "cell_type": "code",
   "execution_count": 4,
   "id": "7b8c9368-5715-4f8a-be00-7a06026aa7f4",
   "metadata": {},
   "outputs": [],
   "source": [
    "# Model units\n",
    "length_units = \"centimeters\"\n",
    "time_units = \"seconds\"\n",
    "\n",
    "# Model parameters\n",
    "\n",
    "## Discretization\n",
    "nper = 1  # Number of periods\n",
    "nlay = 1  # Number of layers\n",
    "nrow = 1  # Number of rows\n",
    "ncol = 122  # Number of columns\n",
    "system_length = 12.0  # Length of system ($cm$)\n",
    "delr = 0.09836065573770492# 0.1 #0.1  # Column width ($cm$) # 12/ 122, system_length / ncol\n",
    "delc = 0.1  # Row width ($cm$)\n",
    "top = 1.0  # Top of the model ($cm$)\n",
    "botm = 0  # Layer bottom elevation ($cm$)\n",
    "\n",
    "## Physical parameters\n",
    "specific_discharge = 0.1  # Specific discharge ($cm s^{-1}$)\n",
    "hydraulic_conductivity = 0.01  # Hydraulic conductivity ($cm s^{-1}$)\n",
    "porosity = 0.1  # Porosity of mobile domain (unitless)\n",
    "source_concentration = 1.0  # Source concentration (unitless)\n",
    "initial_concentration = 0.0  # Initial concentration (unitless)\n",
    "total_time = 120.0  # Simulation time ($s$)"
   ]
  },
  {
   "cell_type": "markdown",
   "id": "b6e21570-82d4-4c81-aa18-fd55e493f195",
   "metadata": {},
   "source": [
    "## Step 2. Path to MODFLOW6 and simulation name"
   ]
  },
  {
   "cell_type": "code",
   "execution_count": 5,
   "id": "b1d960d1-5fcb-4bcb-a043-1d2bb2c198db",
   "metadata": {},
   "outputs": [
    {
     "name": "stdout",
     "output_type": "stream",
     "text": [
      " Ruta hacia el ejecutable de MODFLOW 6 : /home/jovyan/GMMC/WMA/mf6/bin/mf6 \n",
      " Ruta actual : /home/jovyan/GMMC/WMA/notebooks/1_Flujo_mf6_1D\n",
      " Nombre de esta simulación: flow\n"
     ]
    }
   ],
   "source": [
    "ws = os.getcwd() # Ruta de donde estamos actualmente\n",
    "mf6_exe = '/home/jovyan/GMMC/WMA/mf6/bin/mf6' # Ejecutable\n",
    "name = 'flow' # Nombre de la simulación\n",
    "\n",
    "print(' Ruta hacia el ejecutable de MODFLOW 6 : {} '.format(mf6_exe))\n",
    "print(' Ruta actual : {}'.format(ws))\n",
    "print(' Nombre de esta simulación: {}'.format(name))"
   ]
  },
  {
   "cell_type": "markdown",
   "id": "64b4ecd3-37a8-411a-b564-fc6e2d089533",
   "metadata": {},
   "source": [
    "## Step 3. Simulation object"
   ]
  },
  {
   "cell_type": "code",
   "execution_count": 6,
   "id": "a0ff8fe9-6943-4d39-8c31-267298506288",
   "metadata": {},
   "outputs": [
    {
     "name": "stdout",
     "output_type": "stream",
     "text": [
      "sim_name = flow\n",
      "sim_path = /home/jovyan/GMMC/WMA/notebooks/1_Flujo_mf6_1D\n",
      "exe_name = /home/jovyan/GMMC/WMA/mf6/bin/mf6\n",
      "\n",
      "###################\n",
      "Package mfsim.nam\n",
      "###################\n",
      "\n",
      "package_name = mfsim.nam\n",
      "filename = mfsim.nam\n",
      "package_type = nam\n",
      "model_or_simulation_package = simulation\n",
      "simulation_name = flow\n",
      "\n",
      "\n",
      "\n"
     ]
    }
   ],
   "source": [
    "sim = flopy.mf6.MFSimulation(sim_name=name, sim_ws=ws, exe_name=mf6_exe)\n",
    "print(sim)"
   ]
  },
  {
   "cell_type": "markdown",
   "id": "427c9dec-abd0-4fad-a874-3bb33dc49147",
   "metadata": {},
   "source": [
    "## Step 4. Time discretization object\n",
    "\n",
    "<center>\n",
    "<img src=\"../figures/time_step.png\" width=500px>\n",
    "</center>\n",
    "  \n",
    "The length of a time step is calculated by multiplying the length of the previous time step by TSMULT. \n",
    "The length of the first time step, $\\Delta t_1$, is related to PERLEN, NSTP, and TSMULT by the relation:\n",
    "$$\n",
    "\\Delta t_1= \\frac{\\text{PERLEN}}{\\text{NSTP}} \\;\\; \\text{para} \\;\\; \\text{TSMULT} = 1\n",
    "$$\n",
    "\n",
    "$$\n",
    "\\Delta t_1= \\text{PERLEN} \\frac{\\text{TSMULT} - 1}{\\text{TSMULT}^\\text{nstp}-1} \\;\\; \\text{para} \\;\\; \\text{TSMULT} \\neq 1\n",
    "$$\n",
    "\n",
    "The length of each successive time step is computed as\n",
    "\n",
    "$$\n",
    "\\Delta t = \\Delta t_{old} \\text{TSMULT}\n",
    "$$\n",
    "\n",
    "where:\n",
    "* `perlen` (double) is the length of a stress period.\n",
    "* `nstp` (integer) is the number of time steps in a stress period.\n",
    "* `tsmult` (double) is the multiplier for the length of successive time steps.\n",
    "  \n",
    "Véase: Hughes, J.D., Langevin, C.D., and Banta, E.R., 2017, *Documentation for the MODFLOW 6 framework: U.S. Geological Survey Techniques and Methods*, book 6, chap. A57, 40 p., https://doi.org/10.3133/tm6A57. **Timing Module, pp 10,12**."
   ]
  },
  {
   "cell_type": "code",
   "execution_count": 7,
   "id": "0c9aa8ff-bc69-467e-93c3-adf568844370",
   "metadata": {},
   "outputs": [],
   "source": [
    "tdis_ds = ((total_time, 1, 1.0),) # perlen, nstp, tsmult"
   ]
  },
  {
   "cell_type": "code",
   "execution_count": 8,
   "id": "2d41847b-f88c-4e12-acba-f96004600ac4",
   "metadata": {},
   "outputs": [
    {
     "data": {
      "text/plain": [
       "package_name = flow.tdis\n",
       "filename = flow.tdis\n",
       "package_type = tdis\n",
       "model_or_simulation_package = simulation\n",
       "simulation_name = flow\n",
       "\n",
       "Block options\n",
       "--------------------\n",
       "time_units\n",
       "{internal}\n",
       "('seconds')\n",
       "\n",
       "\n",
       "Block dimensions\n",
       "--------------------\n",
       "nper\n",
       "{internal}\n",
       "(1)\n",
       "\n",
       "\n",
       "Block perioddata\n",
       "--------------------\n",
       "perioddata\n",
       "{internal}\n",
       "(rec.array([(120., 1, 1.)],\n",
       "          dtype=[('perlen', '<f8'), ('nstp', '<i8'), ('tsmult', '<f8')]))\n",
       "\n"
      ]
     },
     "execution_count": 8,
     "metadata": {},
     "output_type": "execute_result"
    }
   ],
   "source": [
    "flopy.mf6.ModflowTdis(sim, nper=nper, perioddata=tdis_ds, time_units=time_units)"
   ]
  },
  {
   "cell_type": "markdown",
   "id": "c489310f-0c8e-44cb-9e97-6ced157242ed",
   "metadata": {},
   "source": [
    "## Step 5. IMS object (solution calculation)"
   ]
  },
  {
   "cell_type": "code",
   "execution_count": 9,
   "id": "f6db29f0-7e1a-49b3-b2b0-ec3311c056eb",
   "metadata": {},
   "outputs": [
    {
     "name": "stdout",
     "output_type": "stream",
     "text": [
      "package_name = ims_-1\n",
      "filename = flow.ims\n",
      "package_type = ims\n",
      "model_or_simulation_package = simulation\n",
      "simulation_name = flow\n",
      "\n",
      "\n"
     ]
    }
   ],
   "source": [
    "ims = flopy.mf6.ModflowIms(sim)\n",
    "print(ims)"
   ]
  },
  {
   "cell_type": "markdown",
   "id": "7a71fc1e-f25c-4b9a-981b-3928f3c882de",
   "metadata": {},
   "source": [
    "## Step 6. GWF model object (flow)"
   ]
  },
  {
   "cell_type": "code",
   "execution_count": 10,
   "id": "9c03995e-c200-41ef-916c-84377e9a5ac4",
   "metadata": {},
   "outputs": [
    {
     "name": "stdout",
     "output_type": "stream",
     "text": [
      "name = flow\n",
      "model_type = gwf6\n",
      "version = mf6\n",
      "model_relative_path = .\n",
      "\n",
      "\n"
     ]
    }
   ],
   "source": [
    "gwf = flopy.mf6.ModflowGwf(sim, modelname=name, save_flows=True)\n",
    "print(gwf)"
   ]
  },
  {
   "cell_type": "markdown",
   "id": "0f6db909-2782-4706-9fff-48c70fee9d80",
   "metadata": {},
   "source": [
    "## Step 7. Space discretization object"
   ]
  },
  {
   "cell_type": "code",
   "execution_count": 11,
   "id": "48f4cbf6-8622-4fb6-9495-4430476a550f",
   "metadata": {},
   "outputs": [
    {
     "name": "stdout",
     "output_type": "stream",
     "text": [
      "122\n"
     ]
    }
   ],
   "source": [
    "print(ncol)"
   ]
  },
  {
   "cell_type": "code",
   "execution_count": 12,
   "id": "fa754bd8-8a2c-4d10-b849-4532a6afbe4c",
   "metadata": {},
   "outputs": [
    {
     "name": "stdout",
     "output_type": "stream",
     "text": [
      "package_name = dis\n",
      "filename = flow.dis\n",
      "package_type = dis\n",
      "model_or_simulation_package = model\n",
      "model_name = flow\n",
      "\n",
      "Block options\n",
      "--------------------\n",
      "length_units\n",
      "{internal}\n",
      "(centimeters)\n",
      "\n",
      "\n",
      "Block dimensions\n",
      "--------------------\n",
      "nlay\n",
      "{internal}\n",
      "(1)\n",
      "\n",
      "nrow\n",
      "{internal}\n",
      "(1)\n",
      "\n",
      "ncol\n",
      "{internal}\n",
      "(122)\n",
      "\n",
      "\n",
      "Block griddata\n",
      "--------------------\n",
      "delr\n",
      "{constant 0.09836065573770492}\n",
      "\n",
      "delc\n",
      "{constant 0.1}\n",
      "\n",
      "top\n",
      "{constant 1.0}\n",
      "\n",
      "botm\n",
      "{constant 0}\n",
      "\n",
      "\n",
      "\n"
     ]
    }
   ],
   "source": [
    "dis = flopy.mf6.ModflowGwfdis(gwf,\n",
    "                              length_units=length_units,\n",
    "                              nlay=nlay,\n",
    "                              nrow=nrow,\n",
    "                              ncol=ncol,\n",
    "                              delr=delr,\n",
    "                              delc=delc,\n",
    "                              top=top,\n",
    "                              botm=botm,\n",
    ")\n",
    "print(dis)"
   ]
  },
  {
   "cell_type": "code",
   "execution_count": 13,
   "id": "d74d7c14-f28c-4c3e-9900-e70b65efadde",
   "metadata": {},
   "outputs": [
    {
     "data": {
      "text/plain": [
       "[{internal}\n",
       " ('centimeters'),\n",
       " ,\n",
       " ,\n",
       " ,\n",
       " ,\n",
       " {internal}\n",
       " (1),\n",
       " {internal}\n",
       " (1),\n",
       " {internal}\n",
       " (122),\n",
       " {constant 0.09836065573770492},\n",
       " {constant 0.1},\n",
       " {constant 1.0},\n",
       " {constant 0},\n",
       " ]"
      ]
     },
     "execution_count": 13,
     "metadata": {},
     "output_type": "execute_result"
    }
   ],
   "source": [
    "dis.data_list"
   ]
  },
  {
   "cell_type": "markdown",
   "id": "3c71cb8b-798a-4602-9b5e-7fe5ea8a020c",
   "metadata": {},
   "source": [
    "## Step 8. Initial conditions object"
   ]
  },
  {
   "cell_type": "code",
   "execution_count": 14,
   "id": "2236aa56-087e-45ec-af06-ee6b084e6a10",
   "metadata": {},
   "outputs": [
    {
     "name": "stdout",
     "output_type": "stream",
     "text": [
      "package_name = ic\n",
      "filename = flow.ic\n",
      "package_type = ic\n",
      "model_or_simulation_package = model\n",
      "model_name = flow\n",
      "\n",
      "Block griddata\n",
      "--------------------\n",
      "strt\n",
      "{constant 1.0}\n",
      "\n",
      "\n",
      "\n"
     ]
    }
   ],
   "source": [
    "ic = flopy.mf6.ModflowGwfic(gwf, strt=1.0)\n",
    "print(ic)"
   ]
  },
  {
   "cell_type": "markdown",
   "id": "37e91119-47f2-44f5-aeb3-94591416befe",
   "metadata": {},
   "source": [
    "## Step 9. Node Property Flow (NPF6) Package"
   ]
  },
  {
   "cell_type": "code",
   "execution_count": 15,
   "id": "9e344c83-df2d-4ae1-b876-88a5a181c6a3",
   "metadata": {},
   "outputs": [
    {
     "name": "stdout",
     "output_type": "stream",
     "text": [
      "package_name = npf\n",
      "filename = flow.npf\n",
      "package_type = npf\n",
      "model_or_simulation_package = model\n",
      "model_name = flow\n",
      "\n",
      "Block options\n",
      "--------------------\n",
      "save_specific_discharge\n",
      "{internal}\n",
      "(True)\n",
      "\n",
      "save_saturation\n",
      "{internal}\n",
      "(True)\n",
      "\n",
      "\n",
      "Block griddata\n",
      "--------------------\n",
      "icelltype\n",
      "{constant 0}\n",
      "\n",
      "k\n",
      "{constant 0.01}\n",
      "\n",
      "\n",
      "\n"
     ]
    }
   ],
   "source": [
    "npf = flopy.mf6.ModflowGwfnpf(gwf,\n",
    "                              save_specific_discharge=True,\n",
    "                              save_saturation=True,\n",
    "                              icelltype=0,\n",
    "                              k=hydraulic_conductivity,\n",
    ")\n",
    "print(npf)"
   ]
  },
  {
   "cell_type": "markdown",
   "id": "2280c606-9839-4d59-933d-8f6e3dc5d96f",
   "metadata": {},
   "source": [
    "## Step 10. Discharge object "
   ]
  },
  {
   "cell_type": "code",
   "execution_count": 16,
   "id": "071bd734-fcac-4c9b-981b-2513449df8d5",
   "metadata": {},
   "outputs": [
    {
     "name": "stdout",
     "output_type": "stream",
     "text": [
      "package_name = chd_0\n",
      "filename = flow.chd\n",
      "package_type = chd\n",
      "model_or_simulation_package = model\n",
      "model_name = flow\n",
      "\n",
      "Block period\n",
      "--------------------\n",
      "stress_period_data\n",
      "{0: <flopy.mf6.data.mfdataplist.PandasListStorage object at 0x7f9d44912b50>}\n",
      "\n",
      "\n"
     ]
    }
   ],
   "source": [
    "chd = flopy.mf6.ModflowGwfchd(gwf, stress_period_data=[[(0, 0, ncol - 1), 1.0]]) \n",
    "print(chd)"
   ]
  },
  {
   "cell_type": "markdown",
   "id": "08a39d2e-6949-4c4d-ac67-d8fef30bb93e",
   "metadata": {},
   "source": [
    "## Step 11. Wells object"
   ]
  },
  {
   "cell_type": "code",
   "execution_count": 17,
   "id": "1204503f-5f85-4902-95c1-e451bc295ee1",
   "metadata": {},
   "outputs": [
    {
     "name": "stdout",
     "output_type": "stream",
     "text": [
      "package_name = wel-1\n",
      "filename = flow.wel\n",
      "package_type = wel\n",
      "model_or_simulation_package = model\n",
      "model_name = flow\n",
      "\n",
      "Block options\n",
      "--------------------\n",
      "auxiliary\n",
      "{internal}\n",
      "([('auxiliary', 'CONCENTRATION')])\n",
      "\n",
      "\n",
      "Block period\n",
      "--------------------\n",
      "stress_period_data\n",
      "{0: <flopy.mf6.data.mfdataplist.PandasListStorage object at 0x7f9d4a449790>}\n",
      "\n",
      "\n"
     ]
    }
   ],
   "source": [
    "wel_spd = {\n",
    "    0: [ [(0, 0, 0),\n",
    "          specific_discharge * delc * delr * top,\n",
    "          source_concentration]\n",
    "       ]\n",
    "}\n",
    "\n",
    "wel = flopy.mf6.ModflowGwfwel(gwf,\n",
    "                              stress_period_data=wel_spd,\n",
    "                              pname=\"WEL-1\",\n",
    "                              auxiliary=[\"CONCENTRATION\"],\n",
    ")\n",
    "\n",
    "print(wel)"
   ]
  },
  {
   "cell_type": "markdown",
   "id": "efcd5da6-94ce-415a-8ef1-db53ede0a63e",
   "metadata": {},
   "source": [
    "## Step 12. Output object"
   ]
  },
  {
   "cell_type": "code",
   "execution_count": 18,
   "id": "0626b91b-4164-48b2-a326-ee9f36a1a9a0",
   "metadata": {},
   "outputs": [
    {
     "name": "stdout",
     "output_type": "stream",
     "text": [
      "package_name = oc\n",
      "filename = flow.oc\n",
      "package_type = oc\n",
      "model_or_simulation_package = model\n",
      "model_name = flow\n",
      "\n",
      "Block options\n",
      "--------------------\n",
      "budget_filerecord\n",
      "{internal}\n",
      "([('flow.bud',)])\n",
      "\n",
      "head_filerecord\n",
      "{internal}\n",
      "([('flow.hds',)])\n",
      "\n",
      "\n",
      "Block period\n",
      "--------------------\n",
      "saverecord\n",
      "{internal}\n",
      "([('HEAD', 'ALL', None) ('BUDGET', 'ALL', None)])\n",
      "\n",
      "printrecord\n",
      "None\n",
      "\n",
      "\n"
     ]
    }
   ],
   "source": [
    "head_filerecord = f\"{name}.hds\"\n",
    "budget_filerecord = f\"{name}.bud\"\n",
    "oc = flopy.mf6.ModflowGwfoc(gwf,\n",
    "                            head_filerecord=head_filerecord,\n",
    "                            budget_filerecord=budget_filerecord,\n",
    "                            saverecord=[(\"HEAD\", \"ALL\"), (\"BUDGET\", \"ALL\")],\n",
    ")\n",
    "print(oc)"
   ]
  },
  {
   "cell_type": "markdown",
   "id": "51c7c2b8-4856-45da-8619-3dd2c722af84",
   "metadata": {},
   "source": [
    "## Step 13. Write Input files."
   ]
  },
  {
   "cell_type": "code",
   "execution_count": 19,
   "id": "955c6923-dba0-4fec-b43a-936a1e7a2eff",
   "metadata": {},
   "outputs": [
    {
     "name": "stdout",
     "output_type": "stream",
     "text": [
      "writing simulation...\n",
      "  writing simulation name file...\n",
      "  writing simulation tdis package...\n",
      "  writing solution package ims_-1...\n",
      "  writing model flow...\n",
      "    writing model name file...\n",
      "    writing package dis...\n",
      "    writing package ic...\n",
      "    writing package npf...\n",
      "    writing package chd_0...\n",
      "INFORMATION: maxbound in ('gwf6', 'chd', 'dimensions') changed to 1 based on size of stress_period_data\n",
      "    writing package wel-1...\n",
      "INFORMATION: maxbound in ('gwf6', 'wel', 'dimensions') changed to 1 based on size of stress_period_data\n",
      "    writing package oc...\n"
     ]
    }
   ],
   "source": [
    "sim.write_simulation()"
   ]
  },
  {
   "cell_type": "markdown",
   "id": "06e59c4a-6dcb-4f6e-a7ca-2ca6597f88c6",
   "metadata": {},
   "source": [
    "## Step 14. Run simulation"
   ]
  },
  {
   "cell_type": "code",
   "execution_count": 20,
   "id": "44e64765-dd25-46ee-b705-763a3d8254ba",
   "metadata": {},
   "outputs": [
    {
     "name": "stdout",
     "output_type": "stream",
     "text": [
      "FloPy is using the following executable to run the model: ../../mf6/bin/mf6\n",
      "                                   MODFLOW 6\n",
      "                U.S. GEOLOGICAL SURVEY MODULAR HYDROLOGIC MODEL\n",
      "                            VERSION 6.4.4 02/13/2024\n",
      "\n",
      "   MODFLOW 6 compiled Feb 13 2024 16:19:58 with Intel(R) Fortran Intel(R) 64\n",
      "   Compiler Classic for applications running on Intel(R) 64, Version 2021.7.0\n",
      "                             Build 20220726_000000\n",
      "\n",
      "This software has been approved for release by the U.S. Geological \n",
      "Survey (USGS). Although the software has been subjected to rigorous \n",
      "review, the USGS reserves the right to update the software as needed \n",
      "pursuant to further analysis and review. No warranty, expressed or \n",
      "implied, is made by the USGS or the U.S. Government as to the \n",
      "functionality of the software and related material nor shall the \n",
      "fact of release constitute any such warranty. Furthermore, the \n",
      "software is released on condition that neither the USGS nor the U.S. \n",
      "Government shall be held liable for any damages resulting from its \n",
      "authorized or unauthorized use. Also refer to the USGS Water \n",
      "Resources Software User Rights Notice for complete use, copyright, \n",
      "and distribution information.\n",
      "\n",
      " \n",
      " Run start date and time (yyyy/mm/dd hh:mm:ss): 2024/04/25 23:19:34\n",
      " \n",
      " Writing simulation list file: mfsim.lst\n",
      " Using Simulation name file: mfsim.nam\n",
      " \n",
      "    Solving:  Stress period:     1    Time step:     1\n",
      " \n",
      " Run end date and time (yyyy/mm/dd hh:mm:ss): 2024/04/25 23:19:34\n",
      " Elapsed run time:  0.060 Seconds\n",
      " \n",
      " Normal termination of simulation.\n"
     ]
    },
    {
     "data": {
      "text/plain": [
       "(True, [])"
      ]
     },
     "execution_count": 20,
     "metadata": {},
     "output_type": "execute_result"
    }
   ],
   "source": [
    "sim.run_simulation()"
   ]
  },
  {
   "cell_type": "markdown",
   "id": "4942b96b-60cb-44f4-b374-1e6b171e25dd",
   "metadata": {},
   "source": [
    "## Step 15. Postprocessing"
   ]
  },
  {
   "cell_type": "code",
   "execution_count": 21,
   "id": "09830ad7-5bf6-47d6-8db8-c60788466efb",
   "metadata": {},
   "outputs": [
    {
     "data": {
      "text/plain": [
       "<module 'flopy.mf6.coordinates.modelgrid' from '/opt/conda/lib/python3.11/site-packages/flopy/mf6/coordinates/modelgrid.py'>"
      ]
     },
     "execution_count": 21,
     "metadata": {},
     "output_type": "execute_result"
    }
   ],
   "source": [
    "flopy.mf6.coordinates.modelgrid"
   ]
  },
  {
   "cell_type": "code",
   "execution_count": 22,
   "id": "481bb5ac-150e-4571-b3f5-c197a58d5b83",
   "metadata": {},
   "outputs": [],
   "source": [
    "# Obtenemos los resultados de la carga hidráulica\n",
    "head = flopy.utils.HeadFile(os.path.join(ws, head_filerecord)).get_data()\n",
    "\n",
    "# Obtenemos los resultados del BUDGET\n",
    "bud  = flopy.utils.CellBudgetFile(os.path.join(ws, budget_filerecord),\n",
    "                                  precision='double')\n",
    "# Obtenemos las velocidades\n",
    "spdis = bud.get_data(text='DATA-SPDIS')[0]\n",
    "qx, qy, qz = flopy.utils.postprocessing.get_specific_discharge(spdis, gwf)"
   ]
  },
  {
   "cell_type": "code",
   "execution_count": 23,
   "id": "f526ea83-a6f5-4cc7-849e-21fca09370cd",
   "metadata": {},
   "outputs": [
    {
     "name": "stdout",
     "output_type": "stream",
     "text": [
      "(1, 1, 122) \n",
      " [12.70653101 12.60978282 12.51303463 12.41628643 12.31953824 12.22279005\n",
      " 12.12604186 12.02929367 11.93254548 11.83579729 11.7390491  11.64230091\n",
      " 11.54555272 11.44880453 11.35205634 11.25530815 11.15855996 11.06181177\n",
      " 10.96506358 10.86831539 10.7715672  10.67481901 10.57807082 10.48132263\n",
      " 10.38457444 10.28782625 10.19107806 10.09432987  9.99758168  9.90083349\n",
      "  9.8040853   9.70733711  9.61058892  9.51384073  9.41709254  9.32034435\n",
      "  9.22359616  9.12684797  9.03009978  8.93335159  8.8366034   8.73985521\n",
      "  8.64310702  8.54635883  8.44961064  8.35286245  8.25611426  8.15936607\n",
      "  8.06261788  7.96586969  7.8691215   7.77237331  7.67562512  7.57887693\n",
      "  7.48212874  7.38538055  7.28863236  7.19188417  7.09513598  6.99838779\n",
      "  6.9016396   6.80489141  6.70814322  6.61139503  6.51464684  6.41789865\n",
      "  6.32115046  6.22440227  6.12765408  6.03090589  5.9341577   5.83740951\n",
      "  5.74066132  5.64391313  5.54716494  5.45041675  5.35366856  5.25692037\n",
      "  5.16017218  5.06342399  4.9666758   4.86992761  4.77317941  4.67643122\n",
      "  4.57968303  4.48293484  4.38618665  4.28943846  4.19269027  4.09594208\n",
      "  3.99919389  3.9024457   3.80569751  3.70894932  3.61220113  3.51545294\n",
      "  3.41870475  3.32195656  3.22520837  3.12846018  3.03171199  2.9349638\n",
      "  2.83821561  2.74146742  2.64471923  2.54797104  2.45122285  2.35447466\n",
      "  2.25772647  2.16097828  2.06423009  1.9674819   1.87073371  1.77398552\n",
      "  1.67723733  1.58048914  1.48374095  1.38699276  1.29024457  1.19349638\n",
      "  1.09674819  1.        ]\n"
     ]
    }
   ],
   "source": [
    "print(head.shape, '\\n', head[0,0])"
   ]
  },
  {
   "cell_type": "code",
   "execution_count": 24,
   "id": "7edba925-008e-4fcd-ac22-e20bed4b3fbf",
   "metadata": {},
   "outputs": [
    {
     "name": "stdout",
     "output_type": "stream",
     "text": [
      "(1, 1, 122) \n",
      " [[[0.00983607 0.00983607 0.00983607 0.00983607 0.00983607 0.00983607\n",
      "   0.00983607 0.00983607 0.00983607 0.00983607 0.00983607 0.00983607\n",
      "   0.00983607 0.00983607 0.00983607 0.00983607 0.00983607 0.00983607\n",
      "   0.00983607 0.00983607 0.00983607 0.00983607 0.00983607 0.00983607\n",
      "   0.00983607 0.00983607 0.00983607 0.00983607 0.00983607 0.00983607\n",
      "   0.00983607 0.00983607 0.00983607 0.00983607 0.00983607 0.00983607\n",
      "   0.00983607 0.00983607 0.00983607 0.00983607 0.00983607 0.00983607\n",
      "   0.00983607 0.00983607 0.00983607 0.00983607 0.00983607 0.00983607\n",
      "   0.00983607 0.00983607 0.00983607 0.00983607 0.00983607 0.00983607\n",
      "   0.00983607 0.00983607 0.00983607 0.00983607 0.00983607 0.00983607\n",
      "   0.00983607 0.00983607 0.00983607 0.00983607 0.00983607 0.00983607\n",
      "   0.00983607 0.00983607 0.00983607 0.00983607 0.00983607 0.00983607\n",
      "   0.00983607 0.00983607 0.00983607 0.00983607 0.00983607 0.00983607\n",
      "   0.00983607 0.00983607 0.00983607 0.00983607 0.00983607 0.00983607\n",
      "   0.00983607 0.00983607 0.00983607 0.00983607 0.00983607 0.00983607\n",
      "   0.00983607 0.00983607 0.00983607 0.00983607 0.00983607 0.00983607\n",
      "   0.00983607 0.00983607 0.00983607 0.00983607 0.00983607 0.00983607\n",
      "   0.00983607 0.00983607 0.00983607 0.00983607 0.00983607 0.00983607\n",
      "   0.00983607 0.00983607 0.00983607 0.00983607 0.00983607 0.00983607\n",
      "   0.00983607 0.00983607 0.00983607 0.00983607 0.00983607 0.00983607\n",
      "   0.00983607 0.00983607]]]\n"
     ]
    }
   ],
   "source": [
    "print(qx.shape, '\\n', qx)"
   ]
  },
  {
   "cell_type": "code",
   "execution_count": 25,
   "id": "352fb62d-0bcc-4460-9ddb-356863ea60aa",
   "metadata": {},
   "outputs": [
    {
     "name": "stdout",
     "output_type": "stream",
     "text": [
      "0.09836065573770492 122 12.0\n"
     ]
    }
   ],
   "source": [
    "print(delr, ncol, system_length)"
   ]
  },
  {
   "cell_type": "code",
   "execution_count": 26,
   "id": "d9ccb0f8-3a98-425e-a266-3e3507fbdb0a",
   "metadata": {},
   "outputs": [
    {
     "data": {
      "text/plain": [
       "0.09836065573770492"
      ]
     },
     "execution_count": 26,
     "metadata": {},
     "output_type": "execute_result"
    }
   ],
   "source": [
    "12/122"
   ]
  },
  {
   "cell_type": "code",
   "execution_count": 27,
   "id": "61074e07-d0f3-4682-9ffe-348343728b4c",
   "metadata": {},
   "outputs": [
    {
     "data": {
      "image/png": "[encoded data removed]",
      "text/plain": [
       "<Figure size 500x300 with 1 Axes>"
      ]
     },
     "metadata": {},
     "output_type": "display_data"
    }
   ],
   "source": [
    "with styles.USGSPlot():\n",
    "    plt.rcParams['font.family'] = 'DeJavu Sans'\n",
    "\n",
    "    x = np.linspace(0.5 * delr, system_length - 0.5 * delr, ncol)\n",
    "#\n",
    "#    x = np.linspace(0.0, system_length, ncol)\n",
    "    \n",
    "    plt.figure(figsize=(5,3))\n",
    "    plt.plot(x[::1], head[0, 0][::1], marker=\".\", ls =\"-\", mec=\"blue\", mfc=\"none\", markersize=\"4\", label = 'Head')\n",
    "    plt.xlim(11, 12)\n",
    "    plt.xticks(ticks=np.linspace(11,12,11))\n",
    "\n",
    "#    plt.xticks(ticks=np.linspace(0,system_length,13))\n",
    "    plt.xlabel(\"Distance (cm)\")\n",
    "    plt.ylabel(\"Normalized Concentration (unitless)\")\n",
    "    plt.legend()\n",
    "    plt.grid()\n",
    "    plt.show()"
   ]
  },
  {
   "cell_type": "code",
   "execution_count": 28,
   "id": "38be2755-372e-47dd-9275-7b53c42bde8c",
   "metadata": {},
   "outputs": [
    {
     "data": {
      "image/png": "[encoded data removed]",
      "text/plain": [
       "<Figure size 1000x100 with 1 Axes>"
      ]
     },
     "metadata": {},
     "output_type": "display_data"
    }
   ],
   "source": [
    "\n",
    "#fig, ax = plt.subplots(1,1, figsize=(10,10))\n",
    "# Dibujamos la malla (con flopy)\n",
    "plt.figure(figsize=(10,1.0))\n",
    "ax = plt.gca()\n",
    "ax.set_aspect('equal')\n",
    "pmv0 = flopy.plot.PlotMapView(gwf, ax=ax)\n",
    "pmv0.plot_grid(colors='dimgray', lw=0.5)\n",
    "plt.show()"
   ]
  },
  {
   "cell_type": "markdown",
   "id": "f32c659c-df04-4120-91ba-92bc3d13d91d",
   "metadata": {},
   "source": [
    "# "
   ]
  }
 ],
 "metadata": {
  "kernelspec": {
   "display_name": "Python 3 (ipykernel)",
   "language": "python",
   "name": "python3"
  },
  "language_info": {
   "codemirror_mode": {
    "name": "ipython",
    "version": 3
   },
   "file_extension": ".py",
   "mimetype": "text/x-python",
   "name": "python",
   "nbconvert_exporter": "python",
   "pygments_lexer": "ipython3",
   "version": "3.11.6"
  }
 },
 "nbformat": 4,
 "nbformat_minor": 5
}
