{
 "cells": [
  {
   "cell_type": "code",
   "execution_count": null,
   "id": "48f786a9-a7c0-4ed9-a6ed-4566fd3d9659",
   "metadata": {},
   "outputs": [],
   "source": [
    "!pip install flopy"
   ]
  },
  {
   "cell_type": "markdown",
   "id": "6daae84d-55d2-4257-b8d8-22dc49557f30",
   "metadata": {},
   "source": [
    "# MODFLOW 6.\n",
    "\n",
    "## Componentes.\n",
    "\n",
    "<img src=\"./figures/components_mf6.png\">\n",
    "\n",
    "Una simulación típicamente se basa en cuatro componentes:\n",
    "* **Models**. Un modelo resuelve un proceso hidrológico; por ejemplo, el GWF model, resuelve la ecuación de flujo subterráneo usando el método CVFD.\n",
    "* **Exchange**. Facilita la comunicación entre dos modelos; por ejemplo, un intercambio GWF-GWF, permite que algunas celdas de un modelo GWF estén hidráulicamente conectadas con celdas del otro modelo GWF.\n",
    "* **Solutions**. Resuelve uno o más modelos hidrológicos, utiliza métodos iterativos para resolver sistemas no-lineales.\n",
    "* **Timing**. Controla el paso de tiempo y determina el fin de una simulación.\n",
    "\n",
    "**<font color='Green'>[1] Langevin, C.D., Hughes, J.D., Provost, A.M., Banta, E.R., Niswonger, R.G., and Panday, Sorab, 2017, Documentation for the MODFLOW 6 Groundwater Flow (GWF) Model: U.S. Geological Survey Techniques and Methods, book 6, chap. A55, 197 p., accessed August 4, 2017. </font>** https://doi.org/10.3133/tm6A55."
   ]
  },
  {
   "cell_type": "markdown",
   "id": "0e3b9799-700c-4eb7-aab0-b5d34c10f174",
   "metadata": {},
   "source": [
    "## Esquema para GWF.\n",
    "\n",
    "<img src=\"./figures/modflow01.png\" width=300px hspace=\"5\" vspace=\"5\" style=\"float: left;\"/>\n",
    "\n",
    "Taken from [4].\n",
    "\n",
    "Figure 2. Schematic diagram showing several common ways in which the groundwater flow (GWF) and groundwater\r",
    "transport (GWT) models can be configured within a simulation. The common use case depicted in (A) consists of a single\r",
    "    GWF model that is solved by a Numerical Solution. \n",
    "\n",
    "\n",
    "* The GWF Model described in [3] is divided into “packages,” as was done in previous MODFLOW versions.\n",
    "* A package is the part of the model that deals with a single aspect of simulation.\n",
    "* For example, the Well Package simulates the effect of wells, and the River Package simulates the effect of rivers.\n",
    "* The GWF Model contains many packages and options that the user may or may not have occasion to use.\n",
    "\n",
    "\n",
    "**<font color='Green'>[2] Langevin, C. D., Hughes, J. D., Provost, A. M., Russcher, M. J., & Panday, S. (2023). MODFLOW as a configurable Multi‐Model Hydrologic Simulator. Ground Water.</font>** https://doi.org/10.1111/gwat.13351"
   ]
  },
  {
   "cell_type": "markdown",
   "id": "06f24a0d-163e-4041-97e5-dd330d898a03",
   "metadata": {},
   "source": [
    "# Proceso de solución de flujo en 1D.\n",
    "\n",
    "**Con base en**: \n",
    "\n",
    "**<font color='Green'>[3] MODFLOW 6 – Example problems, MODFLOW 6 Development Team, with contributions from Chieh Ying Chen and Mike Toews 02/07/2024.**</font>  **32 MOC3D Problem 1**. (Archivo: `mf6examples.pdf`).\n"
   ]
  },
  {
   "cell_type": "markdown",
   "id": "eaf3c753-882f-445d-a039-953c3b3435d5",
   "metadata": {},
   "source": [
    "## Paso 0. Importación de bibliotecas"
   ]
  },
  {
   "cell_type": "code",
   "execution_count": 1,
   "id": "7c18f2f7-8fc6-4053-b51f-14134592e01b",
   "metadata": {},
   "outputs": [],
   "source": [
    "import os   # Intefaces con el sistema operativo.\n",
    "import numpy as np # Manejo de arreglos numéricos multidimensionales\n",
    "import matplotlib.pyplot as plt # Graficación\n",
    "\n",
    "# Biblioteca y módulos de flopy\n",
    "import flopy\n",
    "from flopy.plot.styles import styles\n",
    "\n",
    "# Biblioteca con algunas funciones espacializadas para este proyeto\n",
    "import vflow"
   ]
  },
  {
   "cell_type": "markdown",
   "id": "5f82bb00-e0d5-447e-b187-119454b7bf52",
   "metadata": {},
   "source": [
    "## Paso 1. Definición de parámetros del problema.\n",
    "\n",
    "### Parámetros para la discretización del espacio.\n",
    "\n",
    "<img src=\"./figures/mesh_plainview_mf6.png\" width=300px hspace=\"5\" vspace=\"5\" style=\"float: right;\"/>\n",
    "<img src=\"./figures/mesh_3D_mf6.png\" width=300px hspace=\"5\" vspace=\"5\" style=\"float: right;\"/>\n",
    "\n",
    "* El modelo de malla consiste de 1 capa, 120 columnas y 1 renglón.\n",
    "* La longitud del renglón es de 12 [cm].\n",
    "* La longitud de la columna es 0.1 [cm].\n",
    "* Con la información anterior se calcula el ancho del renglón, DELC, y de las columnas, DELR, que ambos casos debe ser 0.1 $cm$.\n",
    "* La parte superior (TOP) de la celda es 1.0 [cm] y la parte inferior (BOTTOM) es cero.\n",
    "* La longitud de la capa es igual a 1.0 [cm], valor que se calcula de |TOP - BOTTOM|.\n",
    "\n",
    "<img src=\"./figures/flow_mf6.png\">"
   ]
  },
  {
   "cell_type": "markdown",
   "id": "be1ad752-76fd-42aa-9390-04412b452f25",
   "metadata": {},
   "source": [
    "|Parameter | Value| Units | Variable |\n",
    "|---:|:---:|:---:|:---|\n",
    "|Length of system (rows) |12.0| cm | `mesh.row_length` |\n",
    "|Number of layers |1| | `mesh.nlay` |\n",
    "|Number of rows |1| | `mesh.nrow` |\n",
    "|Number of columns |120| | `mesh.ncol` |\n",
    "|Column width |0.1| cm | `mesh.delr` |\n",
    "|Row width |0.1| cm | `mesh.delc`|\n",
    "|Top of the model |1.0| cm | `mesh.top`|\n",
    "|Layer bottom elevation (cm) |0| cm | `mesh.bottom` |"
   ]
  },
  {
   "cell_type": "code",
   "execution_count": 2,
   "id": "36f9d73b-c68d-4e2f-bef5-19c9daed22df",
   "metadata": {},
   "outputs": [
    {
     "name": "stdout",
     "output_type": "stream",
     "text": [
      "\n",
      "Space discretization\n",
      "------------------------------\n",
      "          row_length = 12.0      \n",
      "          col_length = 0.1       \n",
      "          lay_length = 1.0       \n",
      "                ncol = 120       \n",
      "                nrow = 1         \n",
      "                nlay = 1         \n",
      "                delr = 0.1       \n",
      "                delc = 0.1       \n",
      "                dell = 1.0       \n",
      "                 top = 1.0       \n",
      "              bottom = 0         \n"
     ]
    }
   ],
   "source": [
    "mesh = vflow.MeshDis(\n",
    "    nrow = 1,    # Number of rows\n",
    "    ncol = 120,  # Number of columns\n",
    "    nlay = 1,    # Number of layers\n",
    "    row_length = 12.0,    # Length of system ($cm$)\n",
    "    column_length = 0.1,  # Length of system ($cm$)\n",
    "    top = 1.0,   # Top of the model ($cm$)\n",
    "    bottom = 0,  # Layer bottom elevation ($cm$)\n",
    ")\n",
    "\n",
    "vflow.nice_print(mesh.get_dict(), 'Space discretization')"
   ]
  },
  {
   "cell_type": "markdown",
   "id": "9b71590a-38d1-4ef8-9a5e-67ff2df8b17e",
   "metadata": {},
   "source": [
    "### Parámetros para la discretización del tiempo.\n",
    "\n",
    "<center>\n",
    "<img src=\"../figures/time_step.png\" width=500px>\n",
    "</center>\n",
    "  \n",
    "The length of a time step is calculated by multiplying the length of the previous time step by TSMULT. \n",
    "The length of the first time step, $\\Delta t_1$, is related to PERLEN, NSTP, and TSMULT by the relation:\n",
    "$$\n",
    "\\Delta t_1= \\frac{\\text{PERLEN}}{\\text{NSTP}} \\;\\; \\text{para} \\;\\; \\text{TSMULT} = 1\n",
    "$$\n",
    "\n",
    "$$\n",
    "\\Delta t_1= \\text{PERLEN} \\frac{\\text{TSMULT} - 1}{\\text{TSMULT}^\\text{nstp}-1} \\;\\; \\text{para} \\;\\; \\text{TSMULT} \\neq 1\n",
    "$$\n",
    "\n",
    "The length of each successive time step is computed as\n",
    "\n",
    "$$\n",
    "\\Delta t = \\Delta t_{old} \\text{TSMULT}\n",
    "$$\n",
    "\n",
    "where:\n",
    "* `perlen` (double) is the length of a stress period.\n",
    "* `nstp` (integer) is the number of time steps in a stress period.\n",
    "* `tsmult` (double) is the multiplier for the length of successive time steps.\n",
    "  \n",
    "**<font color='Green'>[4] Hughes, J.D., Langevin, C.D., and Banta, E.R., 2017, *Documentation for the MODFLOW 6 framework: U.S. Geological Survey Techniques and Methods*, book 6, chap. A57, 40 p.,</font>** https://doi.org/10.3133/tm6A57. **Timing Module, pp 10,12**.\n",
    "\n",
    "|Parameter | Value| Units | Variable |\n",
    "|---:|:---:|:---:|:---|\n",
    "|Number of stress periods |1| | `tm_par['nper']` |\n",
    "|Total time |120| s | `tm_par['total_time']` |\n",
    "|Number of time steps| 1 | | `tm_par['nstp']`|\n",
    "|Multiplier | 1 | | `tm_par['tsmult']`|"
   ]
  },
  {
   "cell_type": "code",
   "execution_count": null,
   "id": "d1992a7c-6b64-4305-93eb-1152fa7480ce",
   "metadata": {},
   "outputs": [],
   "source": [
    "tm_par = dict(nper = 1,           # Number of periods\n",
    "              total_time = 120.0, # Simulation time ($s$)\n",
    "              nstp = 1.0,         # Number of time steps\n",
    "              tsmult = 1.0        # Multiplier for the length of successive time steps.\n",
    "              )\n",
    "\n",
    "vflow.nice_print(tm_par, 'Time discretization')"
   ]
  },
  {
   "cell_type": "markdown",
   "id": "de09e913-cb4d-41ad-817e-184d0497e71d",
   "metadata": {},
   "source": [
    "### Parámetros físicos.\n",
    "\n",
    "|Parameter | Value| Units | Variable |\n",
    "|---:|:---:|:---:|:---|\n",
    "|Specific discharge |0.1| cm s$^{-1}$ | `ph_par['specific_discharge']` |\n",
    "|Hydraulic conductivity |0.01| cm s$^{-1}$ | `ph_par['hydraulic_conductivity']` |\n",
    "|Source concentration |1.0| unitless | `ph_par['source_concentration']` |\n"
   ]
  },
  {
   "cell_type": "code",
   "execution_count": null,
   "id": "3106d008-f37b-4c86-8e0a-dd330954e894",
   "metadata": {},
   "outputs": [],
   "source": [
    "## Model Units\n",
    "ml_units = {}\n",
    "ml_units[\"time\"] = \"seconds\"\n",
    "ml_units[\"length\"] = \"centimeters\"\n",
    "vflow.nice_print(ml_units, 'Units')\n",
    "\n",
    "## Physical parameters\n",
    "ph_par = {}\n",
    "ph_par[\"hydraulic_conductivity\"] = 0.01  # Hydraulic conductivity ($cm s^{-1}$)\n",
    "ph_par[\"specific_discharge\"] = 0.1  # Specific discharge ($cm s^{-1}$)\n",
    "ph_par[\"source_concentration\"] = 1.0  # Source concentration (unitless)\n",
    "vflow.nice_print(ph_par, 'Physical parameters')"
   ]
  },
  {
   "cell_type": "markdown",
   "id": "b6e21570-82d4-4c81-aa18-fd55e493f195",
   "metadata": {},
   "source": [
    "## Paso 2. Ruta hacia el ejecutable de MODFLOW6 y nombre de la simulación."
   ]
  },
  {
   "cell_type": "code",
   "execution_count": null,
   "id": "0454ccd8-207d-44c7-8ffe-e60e438a2571",
   "metadata": {},
   "outputs": [],
   "source": [
    "os_par = dict(ws = os.getcwd(), # Ruta de donde estamos actualmente\n",
    "              mf6_exe = '/home/jovyan/GMMC/WMA/mf6/bin/mf6', # Ejecutable\n",
    "              name = 'flow', # Nombre de la simulación\n",
    "              head_file = \"flow.hds\", \n",
    "              budget_file = \"flow.bud\"\n",
    "              )"
   ]
  },
  {
   "cell_type": "code",
   "execution_count": null,
   "id": "b1d960d1-5fcb-4bcb-a043-1d2bb2c198db",
   "metadata": {},
   "outputs": [],
   "source": [
    "vflow.nice_print(os_par,'MODFLOW 6 + output files')"
   ]
  },
  {
   "cell_type": "markdown",
   "id": "64b4ecd3-37a8-411a-b564-fc6e2d089533",
   "metadata": {},
   "source": [
    "## Paso 3. Definición de la simulación (`MFSimulation` object)"
   ]
  },
  {
   "cell_type": "markdown",
   "id": "e7ff03dd-e7bd-445a-9b9d-d30e36e8b0b1",
   "metadata": {},
   "source": [
    "**Recordemos que:**\n",
    "\n",
    "<img src=\"./figures/modflow01.png\" width=300px hspace=\"5\" vspace=\"5\" style=\"float: left;\"/>"
   ]
  },
  {
   "cell_type": "code",
   "execution_count": null,
   "id": "a0ff8fe9-6943-4d39-8c31-267298506288",
   "metadata": {},
   "outputs": [],
   "source": [
    "sim = flopy.mf6.MFSimulation(sim_name = os_par['name'], \n",
    "                             sim_ws   = os_par['ws'], \n",
    "                             exe_name = os_par['mf6_exe'])\n",
    "print(sim)"
   ]
  },
  {
   "cell_type": "markdown",
   "id": "427c9dec-abd0-4fad-a874-3bb33dc49147",
   "metadata": {},
   "source": [
    "## Paso 4. Definición de la discretización temporal (`ModflowTDis` object)"
   ]
  },
  {
   "cell_type": "code",
   "execution_count": null,
   "id": "2d41847b-f88c-4e12-acba-f96004600ac4",
   "metadata": {},
   "outputs": [],
   "source": [
    "flopy.mf6.ModflowTdis(sim, \n",
    "                      nper = tm_par[\"nper\"], \n",
    "                      perioddata = ((tm_par[\"total_time\"], \n",
    "                                     tm_par[\"nstp\"], \n",
    "                                     tm_par[\"tsmult\"]),), \n",
    "                      time_units = ml_units[\"time\"])"
   ]
  },
  {
   "cell_type": "markdown",
   "id": "c489310f-0c8e-44cb-9e97-6ced157242ed",
   "metadata": {},
   "source": [
    "## Paso 5. Definición de la solución numérica (`ModflowIms` object)"
   ]
  },
  {
   "cell_type": "code",
   "execution_count": null,
   "id": "f6db29f0-7e1a-49b3-b2b0-ec3311c056eb",
   "metadata": {},
   "outputs": [],
   "source": [
    "ims = flopy.mf6.ModflowIms(sim)\n",
    "print(ims)"
   ]
  },
  {
   "cell_type": "markdown",
   "id": "fa8df70c-2b25-4ff8-99cb-fd2d508636c4",
   "metadata": {},
   "source": [
    "## GWF: Paquetes\n",
    "\n",
    "**<font color='Green'>Véase [1].</font>**\n",
    "\n",
    "<img src=\"./figures/gwf_mf6.png\" width=500px hspace=\"5\" vspace=\"5\" style=\"float: left;\"/>\n",
    "<img src=\"./figures/gwf_mf6_pack.png\" width=500px hspace=\"5\" vspace=\"5\" style=\"float: left;\"/>"
   ]
  },
  {
   "cell_type": "markdown",
   "id": "7a71fc1e-f25c-4b9a-981b-3928f3c882de",
   "metadata": {},
   "source": [
    "## Paso 6. Modelo de Flujo (ModflowGwf object)"
   ]
  },
  {
   "cell_type": "code",
   "execution_count": null,
   "id": "9c03995e-c200-41ef-916c-84377e9a5ac4",
   "metadata": {},
   "outputs": [],
   "source": [
    "gwf = flopy.mf6.ModflowGwf(sim, \n",
    "                           modelname  = os_par['name'], \n",
    "                           save_flows = True)\n",
    "print(gwf)"
   ]
  },
  {
   "cell_type": "markdown",
   "id": "0f6db909-2782-4706-9fff-48c70fee9d80",
   "metadata": {},
   "source": [
    "## Paso 7. Paquete: discretización espacial (`ModflowGwfdis` object)"
   ]
  },
  {
   "cell_type": "code",
   "execution_count": null,
   "id": "fa754bd8-8a2c-4d10-b849-4532a6afbe4c",
   "metadata": {},
   "outputs": [],
   "source": [
    "dis = flopy.mf6.ModflowGwfdis(gwf,\n",
    "                              length_units = ml_units[\"length\"],\n",
    "                              nlay = mesh.nlay,\n",
    "                              nrow = mesh.nrow,\n",
    "                              ncol = mesh.ncol,\n",
    "                              delr = mesh.delr,\n",
    "                              delc = mesh.delc,\n",
    "                              top  = mesh.top,\n",
    "                              botm = mesh.bottom,\n",
    ")\n",
    "print(dis)"
   ]
  },
  {
   "cell_type": "markdown",
   "id": "3c71cb8b-798a-4602-9b5e-7fe5ea8a020c",
   "metadata": {},
   "source": [
    "## Paso 8. Paquete: condiciones iniciales (`ModflowGwfic` object)"
   ]
  },
  {
   "cell_type": "code",
   "execution_count": null,
   "id": "2236aa56-087e-45ec-af06-ee6b084e6a10",
   "metadata": {},
   "outputs": [],
   "source": [
    "ic = flopy.mf6.ModflowGwfic(gwf, \n",
    "                            strt=1.0 # Initial head\n",
    "                           ) \n",
    "print(ic)"
   ]
  },
  {
   "cell_type": "markdown",
   "id": "37e91119-47f2-44f5-aeb3-94591416befe",
   "metadata": {},
   "source": [
    "## Paso 9. Paquete: propiedades de flujo en los nodos (`ModflowGwfnpd` object)"
   ]
  },
  {
   "cell_type": "code",
   "execution_count": null,
   "id": "9e344c83-df2d-4ae1-b876-88a5a181c6a3",
   "metadata": {},
   "outputs": [],
   "source": [
    "npf = flopy.mf6.ModflowGwfnpf(gwf,\n",
    "                              save_specific_discharge = True,\n",
    "                              save_saturation = True,\n",
    "                              icelltype = 0,\n",
    "                              k = ph_par['hydraulic_conductivity'],\n",
    ")\n",
    "print(npf)"
   ]
  },
  {
   "cell_type": "markdown",
   "id": "2280c606-9839-4d59-933d-8f6e3dc5d96f",
   "metadata": {},
   "source": [
    "## Paso 10. Paquete: CHD (`ModflowGwfchd` object)"
   ]
  },
  {
   "cell_type": "code",
   "execution_count": null,
   "id": "071bd734-fcac-4c9b-981b-2513449df8d5",
   "metadata": {},
   "outputs": [],
   "source": [
    "chd = flopy.mf6.ModflowGwfchd(gwf, \n",
    "                              stress_period_data=[[(0, 0, mesh.ncol - 1), # Node\n",
    "                                                   1.0]]                  # Constant value\n",
    "                             ) \n",
    "print(chd)"
   ]
  },
  {
   "cell_type": "markdown",
   "id": "08a39d2e-6949-4c4d-ac67-d8fef30bb93e",
   "metadata": {},
   "source": [
    "## Paso 11. Paquete: Pozos (`ModflowGwfwel` object)"
   ]
  },
  {
   "cell_type": "code",
   "execution_count": null,
   "id": "1204503f-5f85-4902-95c1-e451bc295ee1",
   "metadata": {},
   "outputs": [],
   "source": [
    "q   = ph_par[\"specific_discharge\"] * mesh.delc * mesh.delr * mesh.top\n",
    "aux = ph_par[\"source_concentration\"]\n",
    "\n",
    "wel = flopy.mf6.ModflowGwfwel(gwf,\n",
    "                              stress_period_data = [[(0, 0, 0), q, aux,]],\n",
    "                              pname = \"WEL-1\",\n",
    "                              auxiliary = [\"CONCENTRATION\"],\n",
    ")\n",
    "\n",
    "print(wel)"
   ]
  },
  {
   "cell_type": "markdown",
   "id": "efcd5da6-94ce-415a-8ef1-db53ede0a63e",
   "metadata": {},
   "source": [
    "## Paso 12. Paquete: salida (`ModflowGwfoc` object)"
   ]
  },
  {
   "cell_type": "code",
   "execution_count": null,
   "id": "0626b91b-4164-48b2-a326-ee9f36a1a9a0",
   "metadata": {},
   "outputs": [],
   "source": [
    "oc = flopy.mf6.ModflowGwfoc(gwf,\n",
    "                            head_filerecord   = os_par['head_file'],\n",
    "                            budget_filerecord = os_par['budget_file'],\n",
    "                            saverecord = [(\"HEAD\", \"ALL\"), (\"BUDGET\", \"ALL\")],\n",
    ")\n",
    "print(oc)"
   ]
  },
  {
   "cell_type": "markdown",
   "id": "51c7c2b8-4856-45da-8619-3dd2c722af84",
   "metadata": {},
   "source": [
    "## Paso 13. Escritura de los archivos de entrada para MODFLOW 6"
   ]
  },
  {
   "cell_type": "code",
   "execution_count": null,
   "id": "955c6923-dba0-4fec-b43a-936a1e7a2eff",
   "metadata": {},
   "outputs": [],
   "source": [
    "sim.write_simulation()"
   ]
  },
  {
   "cell_type": "markdown",
   "id": "06e59c4a-6dcb-4f6e-a7ca-2ca6597f88c6",
   "metadata": {},
   "source": [
    "## Paso 14. Ejecución de la simulación."
   ]
  },
  {
   "cell_type": "code",
   "execution_count": null,
   "id": "44e64765-dd25-46ee-b705-763a3d8254ba",
   "metadata": {},
   "outputs": [],
   "source": [
    "sim.run_simulation()"
   ]
  },
  {
   "cell_type": "markdown",
   "id": "4942b96b-60cb-44f4-b374-1e6b171e25dd",
   "metadata": {},
   "source": [
    "## Paso 15. Postprocessing"
   ]
  },
  {
   "cell_type": "code",
   "execution_count": null,
   "id": "481bb5ac-150e-4571-b3f5-c197a58d5b83",
   "metadata": {},
   "outputs": [],
   "source": [
    "# Obtenemos los resultados de la carga hidráulica\n",
    "head = flopy.utils.HeadFile(os.path.join(os_par['ws'], os_par['head_file'])).get_data()\n",
    "\n",
    "# Obtenemos los resultados del BUDGET\n",
    "bud  = flopy.utils.CellBudgetFile(os.path.join(os_par['ws'], os_par['budget_file']),\n",
    "                                  precision='double')\n",
    "# Obtenemos las velocidades\n",
    "spdis = bud.get_data(text='DATA-SPDIS')[0]\n",
    "qx, qy, qz = flopy.utils.postprocessing.get_specific_discharge(spdis, gwf)"
   ]
  },
  {
   "cell_type": "code",
   "execution_count": null,
   "id": "34d2346a-c3fa-4420-8feb-fffa31a7e1b7",
   "metadata": {},
   "outputs": [],
   "source": [
    "# Verificamos el tipo y dimensiones de los arreglos donde\n",
    "# están almacenados la carga hidráulica, el BUDGET, y la velocidad.\n",
    "print('Head : ', type(head), head.shape)\n",
    "print('Budget : ', type(bud), bud.shape)\n",
    "print('spdis : ', type(spdis), spdis.shape)\n",
    "print('qx : ', type(qx), qx.shape)\n",
    "print('qy : ', type(qy), qy.shape)\n",
    "print('qz : ', type(qz), qz.shape)"
   ]
  },
  {
   "cell_type": "code",
   "execution_count": null,
   "id": "ce017cb0-8a6d-4602-a5c8-651665a54965",
   "metadata": {},
   "outputs": [],
   "source": [
    "print(head.shape, '\\n', head)"
   ]
  },
  {
   "cell_type": "code",
   "execution_count": null,
   "id": "7edba925-008e-4fcd-ac22-e20bed4b3fbf",
   "metadata": {},
   "outputs": [],
   "source": [
    "print(qx.shape, '\\n', qx)"
   ]
  },
  {
   "cell_type": "code",
   "execution_count": null,
   "id": "61074e07-d0f3-4682-9ffe-348343728b4c",
   "metadata": {},
   "outputs": [],
   "source": [
    "with styles.USGSPlot():\n",
    "    plt.rcParams['font.family'] = 'DeJavu Sans'\n",
    "    x, _, _ = mesh.get_coords()\n",
    "    plt.figure(figsize=(10,3))\n",
    "    plt.plot(x, head[0, 0], marker=\".\", ls =\"-\", mec=\"blue\", mfc=\"none\", markersize=\"1\", label = 'Head')\n",
    "    plt.xlim(0, 12)\n",
    "    plt.xticks(ticks=np.linspace(0, mesh.row_length,13))\n",
    "    plt.xlabel(\"Distance (cm)\")\n",
    "    plt.ylabel(\"Head\")\n",
    "    plt.legend()\n",
    "    plt.grid()\n",
    "    plt.show()"
   ]
  },
  {
   "cell_type": "code",
   "execution_count": null,
   "id": "38be2755-372e-47dd-9275-7b53c42bde8c",
   "metadata": {},
   "outputs": [],
   "source": [
    "plt.figure(figsize=(10,0.15))\n",
    "ax = plt.gca()\n",
    "#ax.set_aspect('equal')\n",
    "pmv0 = flopy.plot.PlotMapView(gwf, ax=ax)\n",
    "pmv0.plot_grid(colors='dimgray', lw=0.5)\n",
    "plt.yticks(ticks=[0, 0.1],fontsize=8)\n",
    "\n",
    "plt.show()\n"
   ]
  },
  {
   "cell_type": "markdown",
   "id": "f32c659c-df04-4120-91ba-92bc3d13d91d",
   "metadata": {},
   "source": [
    "# "
   ]
  }
 ],
 "metadata": {
  "kernelspec": {
   "display_name": "Python 3 (ipykernel)",
   "language": "python",
   "name": "python3"
  },
  "language_info": {
   "codemirror_mode": {
    "name": "ipython",
    "version": 3
   },
   "file_extension": ".py",
   "mimetype": "text/x-python",
   "name": "python",
   "nbconvert_exporter": "python",
   "pygments_lexer": "ipython3",
   "version": "3.11.6"
  }
 },
 "nbformat": 4,
 "nbformat_minor": 5
}
