{
 "cells": [
  {
   "cell_type": "code",
   "execution_count": 1,
   "id": "48f786a9-a7c0-4ed9-a6ed-4566fd3d9659",
   "metadata": {},
   "outputs": [
    {
     "name": "stdout",
     "output_type": "stream",
     "text": [
      "Defaulting to user installation because normal site-packages is not writeable\n",
      "Requirement already satisfied: flopy in c:\\programdata\\anaconda3\\lib\\site-packages (3.7.0)\n",
      "Requirement already satisfied: numpy<2.0.0,>=1.15.0 in c:\\programdata\\anaconda3\\lib\\site-packages (from flopy) (1.26.4)\n",
      "Requirement already satisfied: matplotlib>=1.4.0 in c:\\programdata\\anaconda3\\lib\\site-packages (from flopy) (3.8.4)\n",
      "Requirement already satisfied: pandas>=2.0.0 in c:\\programdata\\anaconda3\\lib\\site-packages (from flopy) (2.2.1)\n",
      "Requirement already satisfied: contourpy>=1.0.1 in c:\\programdata\\anaconda3\\lib\\site-packages (from matplotlib>=1.4.0->flopy) (1.2.0)\n",
      "Requirement already satisfied: cycler>=0.10 in c:\\programdata\\anaconda3\\lib\\site-packages (from matplotlib>=1.4.0->flopy) (0.11.0)\n",
      "Requirement already satisfied: fonttools>=4.22.0 in c:\\programdata\\anaconda3\\lib\\site-packages (from matplotlib>=1.4.0->flopy) (4.51.0)\n",
      "Requirement already satisfied: kiwisolver>=1.3.1 in c:\\programdata\\anaconda3\\lib\\site-packages (from matplotlib>=1.4.0->flopy) (1.4.4)\n",
      "Requirement already satisfied: packaging>=20.0 in c:\\programdata\\anaconda3\\lib\\site-packages (from matplotlib>=1.4.0->flopy) (23.2)\n",
      "Requirement already satisfied: pillow>=8 in c:\\programdata\\anaconda3\\lib\\site-packages (from matplotlib>=1.4.0->flopy) (10.3.0)\n",
      "Requirement already satisfied: pyparsing>=2.3.1 in c:\\programdata\\anaconda3\\lib\\site-packages (from matplotlib>=1.4.0->flopy) (3.0.9)\n",
      "Requirement already satisfied: python-dateutil>=2.7 in c:\\programdata\\anaconda3\\lib\\site-packages (from matplotlib>=1.4.0->flopy) (2.9.0.post0)\n",
      "Requirement already satisfied: pytz>=2020.1 in c:\\programdata\\anaconda3\\lib\\site-packages (from pandas>=2.0.0->flopy) (2024.1)\n",
      "Requirement already satisfied: tzdata>=2022.7 in c:\\programdata\\anaconda3\\lib\\site-packages (from pandas>=2.0.0->flopy) (2023.3)\n",
      "Requirement already satisfied: six>=1.5 in c:\\programdata\\anaconda3\\lib\\site-packages (from python-dateutil>=2.7->matplotlib>=1.4.0->flopy) (1.16.0)\n"
     ]
    }
   ],
   "source": [
    "!pip install flopy"
   ]
  },
  {
   "cell_type": "markdown",
   "id": "6daae84d-55d2-4257-b8d8-22dc49557f30",
   "metadata": {},
   "source": [
    "# MODFLOW 6.\n",
    "\n",
    "## Componentes.\n",
    "\n",
    "**Véase [1]**.\n",
    "\n",
    "<img src=\"../figures/components_mf6.png\">\n",
    "\n",
    "Una simulación típicamente se basa en cuatro componentes:\n",
    "* **Models**. Un modelo resuelve un proceso hidrológico; por ejemplo, el GWF model, resuelve la ecuación de flujo subterráneo usando el método CVFD.\n",
    "* **Exchange**. Facilita la comunicación entre dos modelos; por ejemplo, un intercambio GWF-GWF, permite que algunas celdas de un modelo GWF estén hidráulicamente conectadas con celdas del otro modelo GWF.\n",
    "* **Solutions**. Resuelve uno o más modelos hidrológicos, utiliza métodos iterativos para resolver sistemas no-lineales.\n",
    "* **Timing**. Controla el paso de tiempo y determina el fin de una simulación.\n",
    "\n",
    "**<font color='Green'>[1] Langevin, C.D., Hughes, J.D., Provost, A.M., Banta, E.R., Niswonger, R.G., and Panday, Sorab, 2017, Documentation for the MODFLOW 6 Groundwater Flow (GWF) Model: U.S. Geological Survey Techniques and Methods, book 6, chap. A55, 197 p., accessed August 4, 2017. </font>** https://doi.org/10.3133/tm6A55."
   ]
  },
  {
   "cell_type": "markdown",
   "id": "0e3b9799-700c-4eb7-aab0-b5d34c10f174",
   "metadata": {},
   "source": [
    "## Esquema para GWF.\n",
    "\n",
    "<img src=\"../figures/modflow01.png\" width=300px hspace=\"5\" vspace=\"5\" style=\"float: left;\"/>\n",
    "\n",
    "**Tomado de [2]**.\n",
    "\n",
    "Figura 2. Diagrama esquemático que muestra varias formas comunes en las que los modelos de flujo de agua subterránea (GWF) y transporte de agua subterránea (GWT) se pueden configurar dentro de una simulación. El caso de uso común representado en (A) consiste en un único modelo GWF que se resuelve mediante una solución numérica.\n",
    "\n",
    "* El modelo GWF descrito en [3] se divide en *paquetes*, como se hacía en versiones anteriores de MODFLOW.\n",
    "* Un paquete es la parte del modelo que se ocupa de un único aspecto de la simulación.\n",
    "* Por ejemplo, el paquete *Well* simula el efecto de los pozos y el paquete *River* simula el efecto de los ríos.\n",
    "* El Modelo GWF contiene muchos paquetes y opciones que el usuario puede o no tener ocasión de utilizar.\n",
    "\n",
    "**<font color='Green'>[2] Langevin, C. D., Hughes, J. D., Provost, A. M., Russcher, M. J., & Panday, S. (2023). MODFLOW as a configurable Multi‐Model Hydrologic Simulator. Ground Water.</font>** https://doi.org/10.1111/gwat.13351"
   ]
  },
  {
   "cell_type": "markdown",
   "id": "06f24a0d-163e-4041-97e5-dd330d898a03",
   "metadata": {},
   "source": [
    "# Proceso de solución de flujo en 1D.\n",
    "\n",
    "**Con base en**: \n",
    "\n",
    "**<font color='Green'>[3] MODFLOW 6 – Example problems, MODFLOW 6 Development Team, with contributions from Chieh Ying Chen and Mike Toews 02/07/2024.**</font>  **32 MOC3D Problem 1**. (Archivo: `mf6examples.pdf` del directorio `doc` de la distribución de MODFLOW 6).\n"
   ]
  },
  {
   "cell_type": "markdown",
   "id": "eaf3c753-882f-445d-a039-953c3b3435d5",
   "metadata": {},
   "source": [
    "## Paso 0. Importación de bibliotecas"
   ]
  },
  {
   "cell_type": "code",
   "execution_count": 2,
   "id": "7b91b684-ee4c-4e39-8009-bc66163dbbc1",
   "metadata": {},
   "outputs": [],
   "source": [
    "# Temporal, para agregar las rutas correctas\n",
    "%run ../../src/ft1D/ruta_temporal.py\n",
    "if not(src_path in sys.path[0]):\n",
    "    sys.path.insert(0, os.path.abspath(a_path + src_path)) "
   ]
  },
  {
   "cell_type": "code",
   "execution_count": 3,
   "id": "f2aa4723-44c1-4878-ae8d-891bf203c5ac",
   "metadata": {},
   "outputs": [
    {
     "data": {
      "text/plain": [
       "['C:\\\\Users\\\\leo_teja\\\\Documents\\\\GitHub\\\\WMA\\\\src\\\\ft1D',\n",
       " 'C:\\\\Users\\\\leo_teja\\\\Documents\\\\GitHub\\\\WMA\\\\notebooks\\\\2_Transporte_mf6_1D',\n",
       " 'C:\\\\ProgramData\\\\anaconda3\\\\python311.zip',\n",
       " 'C:\\\\ProgramData\\\\anaconda3\\\\DLLs',\n",
       " 'C:\\\\ProgramData\\\\anaconda3\\\\Lib',\n",
       " 'C:\\\\ProgramData\\\\anaconda3',\n",
       " '',\n",
       " 'C:\\\\ProgramData\\\\anaconda3\\\\Lib\\\\site-packages',\n",
       " 'C:\\\\ProgramData\\\\anaconda3\\\\Lib\\\\site-packages\\\\win32',\n",
       " 'C:\\\\ProgramData\\\\anaconda3\\\\Lib\\\\site-packages\\\\win32\\\\lib',\n",
       " 'C:\\\\ProgramData\\\\anaconda3\\\\Lib\\\\site-packages\\\\Pythonwin']"
      ]
     },
     "execution_count": 3,
     "metadata": {},
     "output_type": "execute_result"
    }
   ],
   "source": [
    "import sys\n",
    "sys.path"
   ]
  },
  {
   "cell_type": "code",
   "execution_count": 4,
   "id": "7c18f2f7-8fc6-4053-b51f-14134592e01b",
   "metadata": {},
   "outputs": [],
   "source": [
    "import os, sys     # Intefaces con el sistema operativo.\n",
    "import numpy as np # Manejo de arreglos numéricos multidimensionales\n",
    "import matplotlib.pyplot as plt # Graficación\n",
    "\n",
    "# Biblioteca y módulos de flopy\n",
    "import flopy\n",
    "from flopy.plot.styles import styles\n",
    "\n",
    "# Extras para mf6 y flopy (módulo creado en este proyecto)\n",
    "import xmf6"
   ]
  },
  {
   "cell_type": "markdown",
   "id": "5f82bb00-e0d5-447e-b187-119454b7bf52",
   "metadata": {},
   "source": [
    "## Paso 1. Definición de parámetros del problema.\n",
    "\n",
    "### Parámetros para la discretización del espacio.\n",
    "\n",
    "<img src=\"../figures/mesh_plainview_mf6.png\" width=300px hspace=\"5\" vspace=\"5\" style=\"float: right;\"/>\n",
    "<img src=\"../figures/mesh_3D_mf6.png\" width=300px hspace=\"5\" vspace=\"5\" style=\"float: right;\"/>\n",
    "\n",
    "* El modelo de malla consiste de 1 capa, 120 columnas y 1 renglón.\n",
    "* La longitud del renglón es de 12 [cm].\n",
    "* La longitud de la columna es 0.1 [cm].\n",
    "* Con la información anterior se calcula el ancho del renglón, DELC, y de las columnas, DELR, que ambos casos debe ser 0.1 $cm$.\n",
    "* La parte superior (TOP) de la celda es 1.0 [cm] y la parte inferior (BOTTOM) es cero.\n",
    "* La longitud de la capa es igual a 1.0 [cm], valor que se calcula de |TOP - BOTTOM|.\n",
    "\n",
    "<img src=\"../figures/flow_mf6.png\">"
   ]
  },
  {
   "cell_type": "markdown",
   "id": "be1ad752-76fd-42aa-9390-04412b452f25",
   "metadata": {},
   "source": [
    "|Parameter | Value| Units | Variable |\n",
    "|---:|:---:|:---:|:---|\n",
    "|Length of system (rows) |12.0| cm | `mesh.row_length` |\n",
    "|Number of layers |1| | `mesh.nlay` |\n",
    "|Number of rows |1| | `mesh.nrow` |\n",
    "|Number of columns |120| | `mesh.ncol` |\n",
    "|Column width |0.1| cm | `mesh.delr` |\n",
    "|Row width |0.1| cm | `mesh.delc`|\n",
    "|Top of the model |1.0| cm | `mesh.top`|\n",
    "|Layer bottom elevation (cm) |0| cm | `mesh.bottom` |"
   ]
  },
  {
   "cell_type": "code",
   "execution_count": 5,
   "id": "36f9d73b-c68d-4e2f-bef5-19c9daed22df",
   "metadata": {},
   "outputs": [
    {
     "name": "stdout",
     "output_type": "stream",
     "text": [
      "\u001b[34m\n",
      "Space discretization\n",
      "------------------------------\u001b[0m\n",
      "          row_length = 12.0      \n",
      "          col_length = 0.1       \n",
      "          lay_length = 1.0       \n",
      "                ncol = 120       \n",
      "                nrow = 1         \n",
      "                nlay = 1         \n",
      "                delr = 0.1       \n",
      "                delc = 0.1       \n",
      "                dell = 1.0       \n",
      "                 top = 1.0       \n",
      "              bottom = 0         \n"
     ]
    }
   ],
   "source": [
    "mesh = xmf6.MeshDis(\n",
    "    nrow = 1,    # Number of rows\n",
    "    ncol = 120,  # Number of columns\n",
    "    nlay = 1,    # Number of layers\n",
    "    row_length = 12.0,    # Length of system ($cm$)\n",
    "    column_length = 0.1,  # Length of system ($cm$)\n",
    "    top = 1.0,   # Top of the model ($cm$)\n",
    "    bottom = 0,  # Layer bottom elevation ($cm$)\n",
    ")\n",
    "\n",
    "xmf6.nice_print(mesh.get_dict(), 'Space discretization')"
   ]
  },
  {
   "cell_type": "markdown",
   "id": "9b71590a-38d1-4ef8-9a5e-67ff2df8b17e",
   "metadata": {},
   "source": [
    "### Parámetros para la discretización del tiempo.\n",
    "\n",
    "<center>\n",
    "<img src=\"../figures/time_step.png\" width=500px>\n",
    "</center>\n",
    "  \n",
    "The length of a time step is calculated by multiplying the length of the previous time step by TSMULT. \n",
    "The length of the first time step, $\\Delta t_1$, is related to PERLEN, NSTP, and TSMULT by the relation:\n",
    "$$\n",
    "\\Delta t_1= \\frac{\\text{PERLEN}}{\\text{NSTP}} \\;\\; \\text{para} \\;\\; \\text{TSMULT} = 1\n",
    "$$\n",
    "\n",
    "$$\n",
    "\\Delta t_1= \\text{PERLEN} \\frac{\\text{TSMULT} - 1}{\\text{TSMULT}^\\text{nstp}-1} \\;\\; \\text{para} \\;\\; \\text{TSMULT} \\neq 1\n",
    "$$\n",
    "\n",
    "The length of each successive time step is computed as\n",
    "\n",
    "$$\n",
    "\\Delta t = \\Delta t_{old} \\text{TSMULT}\n",
    "$$\n",
    "\n",
    "where:\n",
    "* `perlen` (double) is the length of a stress period.\n",
    "* `nstp` (integer) is the number of time steps in a stress period.\n",
    "* `tsmult` (double) is the multiplier for the length of successive time steps.\n",
    "  \n",
    "**<font color='Green'>[4] Hughes, J.D., Langevin, C.D., and Banta, E.R., 2017, *Documentation for the MODFLOW 6 framework: U.S. Geological Survey Techniques and Methods*, book 6, chap. A57, 40 p.,</font>** https://doi.org/10.3133/tm6A57. **Timing Module, pp 10,12**.\n",
    "\n",
    "|Parameter | Value| Units | Variable |\n",
    "|---:|:---:|:---:|:---|\n",
    "|Number of stress periods |1| | `tm_par['nper']` |\n",
    "|Total time |120| s | `tm_par['total_time']` |\n",
    "|Number of time steps| 1 | | `tm_par['nstp']`|\n",
    "|Multiplier | 1 | | `tm_par['tsmult']`|"
   ]
  },
  {
   "cell_type": "code",
   "execution_count": 6,
   "id": "d1992a7c-6b64-4305-93eb-1152fa7480ce",
   "metadata": {},
   "outputs": [
    {
     "name": "stdout",
     "output_type": "stream",
     "text": [
      "\u001b[34m\n",
      "Time discretization\n",
      "------------------------------\u001b[0m\n",
      "                nper = 1         \n",
      "          total_time = 120.0     \n",
      "                nstp = 1.0       \n",
      "              tsmult = 1.0       \n"
     ]
    }
   ],
   "source": [
    "tm_par = dict(\n",
    "    nper = 1,           # Number of periods\n",
    "    total_time = 120.0, # Simulation time ($s$)\n",
    "    nstp = 1.0,         # Number of time steps\n",
    "    tsmult = 1.0        # Multiplier for the length of successive time steps.\n",
    ")\n",
    "xmf6.nice_print(tm_par, 'Time discretization')"
   ]
  },
  {
   "cell_type": "markdown",
   "id": "de09e913-cb4d-41ad-817e-184d0497e71d",
   "metadata": {},
   "source": [
    "### Parámetros físicos.\n",
    "\n",
    "|Parameter | Value| Units | Variable |\n",
    "|---:|:---:|:---:|:---|\n",
    "|Specific discharge |0.1| cm s$^{-1}$ | `ph_par['specific_discharge']` |\n",
    "|Hydraulic conductivity |0.01| cm s$^{-1}$ | `ph_par['hydraulic_conductivity']` |\n",
    "|Source concentration |1.0| unitless | `ph_par['source_concentration']` |\n"
   ]
  },
  {
   "cell_type": "code",
   "execution_count": 7,
   "id": "3106d008-f37b-4c86-8e0a-dd330954e894",
   "metadata": {},
   "outputs": [
    {
     "name": "stdout",
     "output_type": "stream",
     "text": [
      "\u001b[34m\n",
      "Units\n",
      "------------------------------\u001b[0m\n",
      "                time = seconds   \n",
      "              length = centimeters\n",
      "\u001b[34m\n",
      "Physical parameters\n",
      "------------------------------\u001b[0m\n",
      "  specific_discharge = 0.1       \n",
      "hydraulic_conductivity = 0.01      \n",
      "source_concentration = 1.0       \n",
      "source_concentration1 = 0.0       \n"
     ]
    }
   ],
   "source": [
    "## Model Units\n",
    "ml_units = {\"time\" : \"seconds\",\n",
    "            \"length\" : \"centimeters\"}\n",
    "xmf6.nice_print(ml_units, 'Units')\n",
    "\n",
    "## Physical parameters\n",
    "ph_par = {}\n",
    "ph_par[\"specific_discharge\"] = 0.1  # Specific discharge ($cm s^{-1}$)\n",
    "ph_par[\"hydraulic_conductivity\"] = 0.01  # Hydraulic conductivity ($cm s^{-1}$)\n",
    "ph_par[\"source_concentration\"] = 1.0  # Source concentration boundary condition (unitless)\n",
    "ph_par[\"source_concentration1\"] = 0.0  # Source concentration inflow (unitless)\n",
    "xmf6.nice_print(ph_par, 'Physical parameters')"
   ]
  },
  {
   "cell_type": "markdown",
   "id": "b6e21570-82d4-4c81-aa18-fd55e493f195",
   "metadata": {},
   "source": [
    "## Paso 2. MODFLOW6 environment y salida."
   ]
  },
  {
   "cell_type": "code",
   "execution_count": 8,
   "id": "0454ccd8-207d-44c7-8ffe-e60e438a2571",
   "metadata": {},
   "outputs": [
    {
     "name": "stdout",
     "output_type": "stream",
     "text": [
      "\u001b[34m\n",
      "MODFLOW 6 environment\n",
      "------------------------------\u001b[0m\n",
      "                  ws = C:\\Users\\leo_teja\\Documents\\GitHub\\WMA\\notebooks\\2_Transporte_mf6_1D/output\n",
      "             mf6_exe = C:/Users/leo_teja/Documents/GitHub/WMA/mf6/binWin/mf6\n",
      "           flow_name = flow      \n",
      "\u001b[34m\n",
      "Output files\n",
      "------------------------------\u001b[0m\n",
      "           head_file = flow.hds  \n",
      "        fbudget_file = flow.bud  \n"
     ]
    }
   ],
   "source": [
    "os_par = dict(\n",
    "    ws = os.getcwd() + '/output', # Ruta de donde estamos actualmente\n",
    "    mf6_exe = 'C:/Users/leo_teja/Documents/GitHub/WMA/mf6/binWin/mf6', # Ejecutable\n",
    "    flow_name = 'flow', # Nombre de la simulación\n",
    ")\n",
    "xmf6.nice_print(os_par, 'MODFLOW 6 environment')\n",
    "\n",
    "oc_par = dict(\n",
    "    head_file = f\"{os_par['flow_name']}.hds\",\n",
    "    fbudget_file = f\"{os_par['flow_name']}.bud\"\n",
    ")\n",
    "xmf6.nice_print(oc_par, 'Output files')"
   ]
  },
  {
   "cell_type": "markdown",
   "id": "64b4ecd3-37a8-411a-b564-fc6e2d089533",
   "metadata": {},
   "source": [
    "## Paso 3. Definición de la simulación (`MFSimulation` object)"
   ]
  },
  {
   "cell_type": "markdown",
   "id": "e7ff03dd-e7bd-445a-9b9d-d30e36e8b0b1",
   "metadata": {},
   "source": [
    "**Recordemos que:**\n",
    "\n",
    "<img src=\"../figures/modflow01.png\" width=300px hspace=\"5\" vspace=\"5\" style=\"float: left;\"/>"
   ]
  },
  {
   "cell_type": "code",
   "execution_count": 9,
   "id": "a0ff8fe9-6943-4d39-8c31-267298506288",
   "metadata": {},
   "outputs": [
    {
     "name": "stdout",
     "output_type": "stream",
     "text": [
      "sim_name = flow\n",
      "sim_path = C:\\Users\\leo_teja\\Documents\\GitHub\\WMA\\notebooks\\2_Transporte_mf6_1D\\output\n",
      "exe_name = C:/Users/leo_teja/Documents/GitHub/WMA/mf6/binWin/mf6\n",
      "\n",
      "###################\n",
      "Package mfsim.nam\n",
      "###################\n",
      "\n",
      "package_name = mfsim.nam\n",
      "filename = mfsim.nam\n",
      "package_type = nam\n",
      "model_or_simulation_package = simulation\n",
      "simulation_name = flow\n",
      "\n",
      "\n",
      "\n"
     ]
    }
   ],
   "source": [
    "sim = flopy.mf6.MFSimulation(\n",
    "    sim_name = os_par['flow_name'], \n",
    "    sim_ws   = os_par['ws'], \n",
    "    exe_name = os_par['mf6_exe']\n",
    ")\n",
    "print(sim)"
   ]
  },
  {
   "cell_type": "markdown",
   "id": "427c9dec-abd0-4fad-a874-3bb33dc49147",
   "metadata": {},
   "source": [
    "## Paso 4. Definición de la discretización temporal (`ModflowTDis` object)"
   ]
  },
  {
   "cell_type": "code",
   "execution_count": 10,
   "id": "2d41847b-f88c-4e12-acba-f96004600ac4",
   "metadata": {},
   "outputs": [
    {
     "data": {
      "text/plain": [
       "package_name = flow.tdis\n",
       "filename = flow.tdis\n",
       "package_type = tdis\n",
       "model_or_simulation_package = simulation\n",
       "simulation_name = flow\n",
       "\n",
       "Block options\n",
       "--------------------\n",
       "time_units\n",
       "{internal}\n",
       "('seconds')\n",
       "\n",
       "\n",
       "Block dimensions\n",
       "--------------------\n",
       "nper\n",
       "{internal}\n",
       "(1)\n",
       "\n",
       "\n",
       "Block perioddata\n",
       "--------------------\n",
       "perioddata\n",
       "{internal}\n",
       "(rec.array([(120., 1.0, 1.)],\n",
       "          dtype=[('perlen', '<f8'), ('nstp', 'O'), ('tsmult', '<f8')]))\n",
       "\n"
      ]
     },
     "execution_count": 10,
     "metadata": {},
     "output_type": "execute_result"
    }
   ],
   "source": [
    "flopy.mf6.ModflowTdis(\n",
    "    sim, \n",
    "    nper = tm_par[\"nper\"], \n",
    "    perioddata = ((tm_par[\"total_time\"], \n",
    "                   tm_par[\"nstp\"], \n",
    "                   tm_par[\"tsmult\"]),), \n",
    "    time_units = ml_units[\"time\"]\n",
    ")"
   ]
  },
  {
   "cell_type": "markdown",
   "id": "c489310f-0c8e-44cb-9e97-6ced157242ed",
   "metadata": {},
   "source": [
    "## Paso 5. Definición de la solución numérica (`ModflowIms` object)"
   ]
  },
  {
   "cell_type": "code",
   "execution_count": 11,
   "id": "f6db29f0-7e1a-49b3-b2b0-ec3311c056eb",
   "metadata": {},
   "outputs": [
    {
     "name": "stdout",
     "output_type": "stream",
     "text": [
      "package_name = ims_-1\n",
      "filename = flow.ims\n",
      "package_type = ims\n",
      "model_or_simulation_package = simulation\n",
      "simulation_name = flow\n",
      "\n",
      "\n"
     ]
    }
   ],
   "source": [
    "ims = flopy.mf6.ModflowIms(sim)\n",
    "print(ims)"
   ]
  },
  {
   "cell_type": "markdown",
   "id": "fa8df70c-2b25-4ff8-99cb-fd2d508636c4",
   "metadata": {},
   "source": [
    "## Paso 6. Modelo de Flujo (ModflowGwf object)\n",
    "\n",
    "### GWF: Paquetes\n",
    "\n",
    "**<font color='Green'>Véase [1].</font>**\n",
    "\n",
    "<img src=\"../figures/gwf_mf6.png\" width=500px hspace=\"5\" vspace=\"5\" style=\"float: left;\"/>\n",
    "<img src=\"../figures/gwf_mf6_pack.png\" width=500px hspace=\"5\" vspace=\"5\" style=\"float: left;\"/>"
   ]
  },
  {
   "cell_type": "code",
   "execution_count": 12,
   "id": "9c03995e-c200-41ef-916c-84377e9a5ac4",
   "metadata": {},
   "outputs": [
    {
     "name": "stdout",
     "output_type": "stream",
     "text": [
      "name = flow\n",
      "model_type = gwf6\n",
      "version = mf6\n",
      "model_relative_path = .\n",
      "\n",
      "\n"
     ]
    }
   ],
   "source": [
    "gwf = flopy.mf6.ModflowGwf(\n",
    "    sim, \n",
    "    modelname  = os_par['flow_name'], \n",
    "    save_flows = True\n",
    ")\n",
    "print(gwf)"
   ]
  },
  {
   "cell_type": "markdown",
   "id": "0f6db909-2782-4706-9fff-48c70fee9d80",
   "metadata": {},
   "source": [
    "## Paso 7. Paquete: discretización espacial (`ModflowGwfdis` object)"
   ]
  },
  {
   "cell_type": "code",
   "execution_count": 13,
   "id": "fa754bd8-8a2c-4d10-b849-4532a6afbe4c",
   "metadata": {},
   "outputs": [
    {
     "name": "stdout",
     "output_type": "stream",
     "text": [
      "package_name = dis\n",
      "filename = flow.dis\n",
      "package_type = dis\n",
      "model_or_simulation_package = model\n",
      "model_name = flow\n",
      "\n",
      "Block options\n",
      "--------------------\n",
      "length_units\n",
      "{internal}\n",
      "(centimeters)\n",
      "\n",
      "\n",
      "Block dimensions\n",
      "--------------------\n",
      "nlay\n",
      "{internal}\n",
      "(1)\n",
      "\n",
      "nrow\n",
      "{internal}\n",
      "(1)\n",
      "\n",
      "ncol\n",
      "{internal}\n",
      "(120)\n",
      "\n",
      "\n",
      "Block griddata\n",
      "--------------------\n",
      "delr\n",
      "{constant 0.1}\n",
      "\n",
      "delc\n",
      "{constant 0.1}\n",
      "\n",
      "top\n",
      "{constant 1.0}\n",
      "\n",
      "botm\n",
      "{constant 0}\n",
      "\n",
      "\n",
      "\n"
     ]
    }
   ],
   "source": [
    "dis = flopy.mf6.ModflowGwfdis(\n",
    "    gwf,\n",
    "    length_units = ml_units[\"length\"],\n",
    "    nlay = mesh.nlay,\n",
    "    nrow = mesh.nrow,\n",
    "    ncol = mesh.ncol,\n",
    "    delr = mesh.delr,\n",
    "    delc = mesh.delc,\n",
    "    top  = mesh.top,\n",
    "    botm = mesh.bottom,\n",
    ")\n",
    "print(dis)"
   ]
  },
  {
   "cell_type": "markdown",
   "id": "3c71cb8b-798a-4602-9b5e-7fe5ea8a020c",
   "metadata": {},
   "source": [
    "## Paso 8. Paquete: condiciones iniciales (`ModflowGwfic` object)\n",
    "\n"
   ]
  },
  {
   "cell_type": "code",
   "execution_count": 14,
   "id": "2236aa56-087e-45ec-af06-ee6b084e6a10",
   "metadata": {},
   "outputs": [
    {
     "name": "stdout",
     "output_type": "stream",
     "text": [
      "package_name = ic\n",
      "filename = flow.ic\n",
      "package_type = ic\n",
      "model_or_simulation_package = model\n",
      "model_name = flow\n",
      "\n",
      "Block griddata\n",
      "--------------------\n",
      "strt\n",
      "{constant 1.0}\n",
      "\n",
      "\n",
      "\n"
     ]
    }
   ],
   "source": [
    "ic = flopy.mf6.ModflowGwfic(\n",
    "    gwf, \n",
    "    strt=1.0 # Initial head\n",
    ") \n",
    "print(ic)"
   ]
  },
  {
   "cell_type": "markdown",
   "id": "37e91119-47f2-44f5-aeb3-94591416befe",
   "metadata": {},
   "source": [
    "## Paso 9. Paquete: propiedades de flujo en los nodos (`ModflowGwfnpd` object)"
   ]
  },
  {
   "cell_type": "code",
   "execution_count": 15,
   "id": "9e344c83-df2d-4ae1-b876-88a5a181c6a3",
   "metadata": {},
   "outputs": [
    {
     "name": "stdout",
     "output_type": "stream",
     "text": [
      "package_name = npf\n",
      "filename = flow.npf\n",
      "package_type = npf\n",
      "model_or_simulation_package = model\n",
      "model_name = flow\n",
      "\n",
      "Block options\n",
      "--------------------\n",
      "save_specific_discharge\n",
      "{internal}\n",
      "(True)\n",
      "\n",
      "save_saturation\n",
      "{internal}\n",
      "(True)\n",
      "\n",
      "\n",
      "Block griddata\n",
      "--------------------\n",
      "icelltype\n",
      "{constant 0}\n",
      "\n",
      "k\n",
      "{constant 0.01}\n",
      "\n",
      "\n",
      "\n"
     ]
    }
   ],
   "source": [
    "npf = flopy.mf6.ModflowGwfnpf(\n",
    "    gwf,\n",
    "    save_specific_discharge = True,\n",
    "    save_saturation = True,\n",
    "    icelltype = 0,\n",
    "    k = ph_par['hydraulic_conductivity'],\n",
    ")\n",
    "print(npf)"
   ]
  },
  {
   "cell_type": "markdown",
   "id": "2280c606-9839-4d59-933d-8f6e3dc5d96f",
   "metadata": {},
   "source": [
    "## Paso 10. Paquete: CHD (`ModflowGwfchd` object)"
   ]
  },
  {
   "cell_type": "code",
   "execution_count": 16,
   "id": "f614e60c-d3d4-4ed7-a685-ebed2a2ca842",
   "metadata": {},
   "outputs": [
    {
     "name": "stdout",
     "output_type": "stream",
     "text": [
      "[((0, 0, 119), 1.0)]\n"
     ]
    }
   ],
   "source": [
    "chd_rec = []\n",
    "## chd_rec.append(((0, 0, 0), 1.0))\n",
    "chd_rec.append(((0, 0, mesh.ncol - 1), 1.0))\n",
    "print(chd_rec)"
   ]
  },
  {
   "cell_type": "code",
   "execution_count": 17,
   "id": "071bd734-fcac-4c9b-981b-2513449df8d5",
   "metadata": {},
   "outputs": [
    {
     "name": "stdout",
     "output_type": "stream",
     "text": [
      "package_name = chd_0\n",
      "filename = flow.chd\n",
      "package_type = chd\n",
      "model_or_simulation_package = model\n",
      "model_name = flow\n",
      "\n",
      "Block period\n",
      "--------------------\n",
      "stress_period_data\n",
      "{internal}\n",
      "(   layer  row  column  head\n",
      "0      0    0     119   1.0)\n",
      "\n",
      "\n",
      "\n"
     ]
    }
   ],
   "source": [
    "chd = flopy.mf6.ModflowGwfchd(\n",
    "    gwf, \n",
    "    stress_period_data=chd_rec  # Node, Constant value\n",
    ") \n",
    "print(chd)"
   ]
  },
  {
   "cell_type": "markdown",
   "id": "08a39d2e-6949-4c4d-ac67-d8fef30bb93e",
   "metadata": {},
   "source": [
    "## Paso 11. Paquete: Pozos (`ModflowGwfwel` object)"
   ]
  },
  {
   "cell_type": "code",
   "execution_count": 18,
   "id": "1204503f-5f85-4902-95c1-e451bc295ee1",
   "metadata": {},
   "outputs": [],
   "source": [
    "q   = ph_par[\"specific_discharge\"] * mesh.delc * mesh.delr * mesh.top\n",
    "aux = ph_par[\"source_concentration\"]\n",
    "aux1= ph_par[\"source_concentration1\"]\n",
    "well_rec = []\n",
    "well_rec.append(((0, 0, 0), q, aux))\n",
    "for row_col in range(1,mesh.ncol-1):\n",
    "        well_rec.append(((0, 0, row_col), q, aux1))"
   ]
  },
  {
   "cell_type": "code",
   "execution_count": 19,
   "id": "e2c3a6ea-482a-4bf5-ac49-211a123a54be",
   "metadata": {},
   "outputs": [
    {
     "name": "stdout",
     "output_type": "stream",
     "text": [
      "package_name = wel-1\n",
      "filename = flow.wel\n",
      "package_type = wel\n",
      "model_or_simulation_package = model\n",
      "model_name = flow\n",
      "\n",
      "Block options\n",
      "--------------------\n",
      "auxiliary\n",
      "{internal}\n",
      "([('auxiliary', 'CONCENTRATION')])\n",
      "\n",
      "\n",
      "Block period\n",
      "--------------------\n",
      "stress_period_data\n",
      "{internal}\n",
      "(     layer  row  column      q  CONCENTRATION\n",
      "0        0    0       0  0.001            1.0\n",
      "1        0    0       1  0.001            0.0\n",
      "2        0    0       2  0.001            0.0\n",
      "3        0    0       3  0.001            0.0\n",
      "4        0    0       4  0.001            0.0\n",
      "..     ...  ...     ...    ...            ...\n",
      "114      0    0     114  0.001            0.0\n",
      "115      0    0     115  0.001            0.0\n",
      "116      0    0     116  0.001            0.0\n",
      "117      0    0     117  0.001            0.0\n",
      "118      0    0     118  0.001            0.0\n",
      "\n",
      "[119 rows x 5 columns])\n",
      "\n",
      "\n",
      "\n"
     ]
    }
   ],
   "source": [
    "wel = flopy.mf6.ModflowGwfwel(\n",
    "    gwf,\n",
    "    stress_period_data = well_rec,\n",
    "    pname = \"WEL-1\",\n",
    "    auxiliary = [\"CONCENTRATION\"],\n",
    ")\n",
    "\n",
    "print(wel)"
   ]
  },
  {
   "cell_type": "markdown",
   "id": "efcd5da6-94ce-415a-8ef1-db53ede0a63e",
   "metadata": {},
   "source": [
    "## Paso 12. Paquete: salida (`ModflowGwfoc` object)"
   ]
  },
  {
   "cell_type": "code",
   "execution_count": 20,
   "id": "0626b91b-4164-48b2-a326-ee9f36a1a9a0",
   "metadata": {},
   "outputs": [
    {
     "name": "stdout",
     "output_type": "stream",
     "text": [
      "package_name = oc\n",
      "filename = flow.oc\n",
      "package_type = oc\n",
      "model_or_simulation_package = model\n",
      "model_name = flow\n",
      "\n",
      "Block options\n",
      "--------------------\n",
      "budget_filerecord\n",
      "{internal}\n",
      "([('flow.bud',)])\n",
      "\n",
      "head_filerecord\n",
      "{internal}\n",
      "([('flow.hds',)])\n",
      "\n",
      "\n",
      "Block period\n",
      "--------------------\n",
      "saverecord\n",
      "{internal}\n",
      "([('HEAD', 'ALL', None) ('BUDGET', 'ALL', None)])\n",
      "\n",
      "printrecord\n",
      "None\n",
      "\n",
      "\n"
     ]
    }
   ],
   "source": [
    "oc = flopy.mf6.ModflowGwfoc(\n",
    "    gwf,\n",
    "    head_filerecord   = oc_par['head_file'],\n",
    "    budget_filerecord = oc_par['fbudget_file'],\n",
    "    saverecord = [(\"HEAD\", \"ALL\"), (\"BUDGET\", \"ALL\")],\n",
    ")\n",
    "print(oc)"
   ]
  },
  {
   "cell_type": "markdown",
   "id": "51c7c2b8-4856-45da-8619-3dd2c722af84",
   "metadata": {},
   "source": [
    "## Paso 13. Escritura de los archivos de entrada para MODFLOW 6"
   ]
  },
  {
   "cell_type": "code",
   "execution_count": 21,
   "id": "955c6923-dba0-4fec-b43a-936a1e7a2eff",
   "metadata": {},
   "outputs": [
    {
     "name": "stdout",
     "output_type": "stream",
     "text": [
      "writing simulation...\n",
      "  writing simulation name file...\n",
      "  writing simulation tdis package...\n",
      "  writing solution package ims_-1...\n",
      "  writing model flow...\n",
      "    writing model name file...\n",
      "    writing package dis...\n",
      "    writing package ic...\n",
      "    writing package npf...\n",
      "    writing package chd_0...\n",
      "INFORMATION: maxbound in ('gwf6', 'chd', 'dimensions') changed to 1 based on size of stress_period_data\n",
      "    writing package wel-1...\n",
      "INFORMATION: maxbound in ('gwf6', 'wel', 'dimensions') changed to 119 based on size of stress_period_data\n",
      "    writing package oc...\n"
     ]
    }
   ],
   "source": [
    "sim.write_simulation()"
   ]
  },
  {
   "cell_type": "markdown",
   "id": "06e59c4a-6dcb-4f6e-a7ca-2ca6597f88c6",
   "metadata": {},
   "source": [
    "## Paso 14. Ejecución de la simulación."
   ]
  },
  {
   "cell_type": "code",
   "execution_count": 22,
   "id": "44e64765-dd25-46ee-b705-763a3d8254ba",
   "metadata": {},
   "outputs": [
    {
     "name": "stdout",
     "output_type": "stream",
     "text": [
      "FloPy is using the following executable to run the model: ..\\..\\..\\mf6\\binWin\\mf6.exe\n",
      "                                   MODFLOW 6\n",
      "                U.S. GEOLOGICAL SURVEY MODULAR HYDROLOGIC MODEL\n",
      "                            VERSION 6.4.4 02/13/2024\n",
      "\n",
      "   MODFLOW 6 compiled Feb 19 2024 14:20:00 with Intel(R) Fortran Intel(R) 64\n",
      "   Compiler Classic for applications running on Intel(R) 64, Version 2021.7.0\n",
      "                             Build 20220726_000000\n",
      "\n",
      "This software has been approved for release by the U.S. Geological \n",
      "Survey (USGS). Although the software has been subjected to rigorous \n",
      "review, the USGS reserves the right to update the software as needed \n",
      "pursuant to further analysis and review. No warranty, expressed or \n",
      "implied, is made by the USGS or the U.S. Government as to the \n",
      "functionality of the software and related material nor shall the \n",
      "fact of release constitute any such warranty. Furthermore, the \n",
      "software is released on condition that neither the USGS nor the U.S. \n",
      "Government shall be held liable for any damages resulting from its \n",
      "authorized or unauthorized use. Also refer to the USGS Water \n",
      "Resources Software User Rights Notice for complete use, copyright, \n",
      "and distribution information.\n",
      "\n",
      " \n",
      " Run start date and time (yyyy/mm/dd hh:mm:ss): 2024/06/05 12:55:52\n",
      " \n",
      " Writing simulation list file: mfsim.lst\n",
      " Using Simulation name file: mfsim.nam\n",
      " \n",
      "    Solving:  Stress period:     1    Time step:     1\n",
      " \n",
      " Run end date and time (yyyy/mm/dd hh:mm:ss): 2024/06/05 12:55:52\n",
      " Elapsed run time:  0.154 Seconds\n",
      " \n",
      " Normal termination of simulation.\n"
     ]
    },
    {
     "data": {
      "text/plain": [
       "(True, [])"
      ]
     },
     "execution_count": 22,
     "metadata": {},
     "output_type": "execute_result"
    }
   ],
   "source": [
    "sim.run_simulation()"
   ]
  },
  {
   "cell_type": "markdown",
   "id": "4942b96b-60cb-44f4-b374-1e6b171e25dd",
   "metadata": {},
   "source": [
    "## Paso 15. Postprocessing"
   ]
  },
  {
   "cell_type": "code",
   "execution_count": 23,
   "id": "481bb5ac-150e-4571-b3f5-c197a58d5b83",
   "metadata": {},
   "outputs": [],
   "source": [
    "# Obtenemos los resultados de la carga hidráulica\n",
    "head = flopy.utils.HeadFile(\n",
    "    os.path.join(os_par['ws'], \n",
    "                 oc_par['head_file'])).get_data()\n",
    "\n",
    "# Obtenemos los resultados del BUDGET\n",
    "bud  = flopy.utils.CellBudgetFile(\n",
    "    os.path.join(os_par['ws'], \n",
    "                 oc_par['fbudget_file']),\n",
    "    precision='double'\n",
    ")\n",
    "# Obtenemos las velocidades\n",
    "spdis = bud.get_data(text='DATA-SPDIS')[0]\n",
    "qx, qy, qz = flopy.utils.postprocessing.get_specific_discharge(spdis, gwf)"
   ]
  },
  {
   "cell_type": "code",
   "execution_count": 24,
   "id": "34d2346a-c3fa-4420-8feb-fffa31a7e1b7",
   "metadata": {},
   "outputs": [
    {
     "name": "stdout",
     "output_type": "stream",
     "text": [
      "Head :  <class 'numpy.ndarray'> (1, 1, 120)\n",
      "Budget :  <class 'flopy.utils.binaryfile.CellBudgetFile'> (1, 1, 120)\n",
      "spdis :  <class 'numpy.recarray'> (120,)\n",
      "qx :  <class 'numpy.ndarray'> (1, 1, 120)\n",
      "qy :  <class 'numpy.ndarray'> (1, 1, 120)\n",
      "qz :  <class 'numpy.ndarray'> (1, 1, 120)\n"
     ]
    }
   ],
   "source": [
    "# Verificamos el tipo y dimensiones de los arreglos donde\n",
    "# están almacenados la carga hidráulica, el BUDGET, y la velocidad.\n",
    "print('Head : ', type(head), head.shape)\n",
    "print('Budget : ', type(bud), bud.shape)\n",
    "print('spdis : ', type(spdis), spdis.shape)\n",
    "print('qx : ', type(qx), qx.shape)\n",
    "print('qy : ', type(qy), qy.shape)\n",
    "print('qz : ', type(qz), qz.shape)"
   ]
  },
  {
   "cell_type": "code",
   "execution_count": 25,
   "id": "ce017cb0-8a6d-4602-a5c8-651665a54965",
   "metadata": {},
   "outputs": [
    {
     "name": "stdout",
     "output_type": "stream",
     "text": [
      "(1, 1, 120) \n",
      " [[[715.  714.9 714.7 714.4 714.  713.5 712.9 712.2 711.4 710.5 709.5\n",
      "   708.4 707.2 705.9 704.5 703.  701.4 699.7 697.9 696.  694.  691.9\n",
      "   689.7 687.4 685.  682.5 679.9 677.2 674.4 671.5 668.5 665.4 662.2\n",
      "   658.9 655.5 652.  648.4 644.7 640.9 637.  633.  628.9 624.7 620.4\n",
      "   616.  611.5 606.9 602.2 597.4 592.5 587.5 582.4 577.2 571.9 566.5\n",
      "   561.  555.4 549.7 543.9 538.  532.  525.9 519.7 513.4 507.  500.5\n",
      "   493.9 487.2 480.4 473.5 466.5 459.4 452.2 444.9 437.5 430.  422.4\n",
      "   414.7 406.9 399.  391.  382.9 374.7 366.4 358.  349.5 340.9 332.2\n",
      "   323.4 314.5 305.5 296.4 287.2 277.9 268.5 259.  249.4 239.7 229.9\n",
      "   220.  210.  199.9 189.7 179.4 169.  158.5 147.9 137.2 126.4 115.5\n",
      "   104.5  93.4  82.2  70.9  59.5  48.   36.4  24.7  12.9   1. ]]]\n"
     ]
    }
   ],
   "source": [
    "print(head.shape, '\\n', head)"
   ]
  },
  {
   "cell_type": "code",
   "execution_count": 26,
   "id": "7edba925-008e-4fcd-ac22-e20bed4b3fbf",
   "metadata": {},
   "outputs": [
    {
     "name": "stdout",
     "output_type": "stream",
     "text": [
      "(1, 1, 120) \n",
      " [[[0.01  0.015 0.025 0.035 0.045 0.055 0.065 0.075 0.085 0.095 0.105\n",
      "   0.115 0.125 0.135 0.145 0.155 0.165 0.175 0.185 0.195 0.205 0.215\n",
      "   0.225 0.235 0.245 0.255 0.265 0.275 0.285 0.295 0.305 0.315 0.325\n",
      "   0.335 0.345 0.355 0.365 0.375 0.385 0.395 0.405 0.415 0.425 0.435\n",
      "   0.445 0.455 0.465 0.475 0.485 0.495 0.505 0.515 0.525 0.535 0.545\n",
      "   0.555 0.565 0.575 0.585 0.595 0.605 0.615 0.625 0.635 0.645 0.655\n",
      "   0.665 0.675 0.685 0.695 0.705 0.715 0.725 0.735 0.745 0.755 0.765\n",
      "   0.775 0.785 0.795 0.805 0.815 0.825 0.835 0.845 0.855 0.865 0.875\n",
      "   0.885 0.895 0.905 0.915 0.925 0.935 0.945 0.955 0.965 0.975 0.985\n",
      "   0.995 1.005 1.015 1.025 1.035 1.045 1.055 1.065 1.075 1.085 1.095\n",
      "   1.105 1.115 1.125 1.135 1.145 1.155 1.165 1.175 1.185 1.19 ]]]\n"
     ]
    }
   ],
   "source": [
    "print(qx.shape, '\\n', qx)"
   ]
  },
  {
   "cell_type": "code",
   "execution_count": 27,
   "id": "61074e07-d0f3-4682-9ffe-348343728b4c",
   "metadata": {},
   "outputs": [
    {
     "data": {
      "image/png": "[encoded data removed]",
      "text/plain": [
       "<Figure size 1000x300 with 1 Axes>"
      ]
     },
     "metadata": {},
     "output_type": "display_data"
    }
   ],
   "source": [
    "with styles.USGSPlot():\n",
    "    plt.rcParams['font.family'] = 'DeJavu Sans'\n",
    "    x, _, _ = mesh.get_coords()\n",
    "    plt.figure(figsize=(10,3))\n",
    "    plt.plot(x, head[0, 0], marker=\".\", ls =\"-\", mec=\"blue\", mfc=\"none\", markersize=\"1\", label = 'Head')\n",
    "    plt.xlim(0, 12)\n",
    "    plt.xticks(ticks=np.linspace(0, mesh.row_length,13))\n",
    "    plt.xlabel(\"Distance (cm)\")\n",
    "    plt.ylabel(\"Head\")\n",
    "    plt.legend()\n",
    "    plt.grid()\n",
    "    plt.show()"
   ]
  },
  {
   "cell_type": "code",
   "execution_count": 28,
   "id": "1a50722e-ed03-4614-bf79-53650a120372",
   "metadata": {},
   "outputs": [
    {
     "data": {
      "image/png": "[encoded data removed]",
      "text/plain": [
       "<Figure size 1000x300 with 1 Axes>"
      ]
     },
     "metadata": {},
     "output_type": "display_data"
    }
   ],
   "source": [
    "with styles.USGSPlot():\n",
    "    plt.rcParams['font.family'] = 'DeJavu Sans'\n",
    "    x, _, _ = mesh.get_coords()\n",
    "    plt.figure(figsize=(10,3))\n",
    "    plt.plot(x, qx[0, 0], marker=\".\", ls =\"-\", mec=\"blue\", mfc=\"none\", markersize=\"1\", label = 'q')\n",
    "    plt.xlim(0, 12)\n",
    "    plt.xticks(ticks=np.linspace(0, mesh.row_length,13))\n",
    "    plt.xlabel(\"Distance (cm)\")\n",
    "    plt.ylabel(\"q\")\n",
    "    plt.legend()\n",
    "    plt.grid()\n",
    "    plt.show()"
   ]
  },
  {
   "cell_type": "code",
   "execution_count": 30,
   "id": "38be2755-372e-47dd-9275-7b53c42bde8c",
   "metadata": {},
   "outputs": [
    {
     "data": {
      "image/png": "[encoded data removed]",
      "text/plain": [
       "<Figure size 1000x15 with 1 Axes>"
      ]
     },
     "metadata": {},
     "output_type": "display_data"
    }
   ],
   "source": [
    "plt.figure(figsize=(10,0.15))\n",
    "ax = plt.gca()\n",
    "#ax.set_aspect('equal')\n",
    "pmv0 = flopy.plot.PlotMapView(gwf, ax=ax)\n",
    "pmv0.plot_grid(colors='dimgray', lw=0.5)\n",
    "plt.yticks(ticks=[0, 0.1],fontsize=8)\n",
    "\n",
    "plt.show()\n"
   ]
  },
  {
   "cell_type": "markdown",
   "id": "f32c659c-df04-4120-91ba-92bc3d13d91d",
   "metadata": {},
   "source": [
    "# "
   ]
  }
 ],
 "metadata": {
  "kernelspec": {
   "display_name": "Python 3 (ipykernel)",
   "language": "python",
   "name": "python3"
  },
  "language_info": {
   "codemirror_mode": {
    "name": "ipython",
    "version": 3
   },
   "file_extension": ".py",
   "mimetype": "text/x-python",
   "name": "python",
   "nbconvert_exporter": "python",
   "pygments_lexer": "ipython3",
   "version": "3.11.7"
  }
 },
 "nbformat": 4,
 "nbformat_minor": 5
}
