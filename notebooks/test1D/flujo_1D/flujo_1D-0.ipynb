{
 "cells": [
  {
   "cell_type": "markdown",
   "id": "0bbc9f38-c835-49da-b1e6-ab08cbbaa463",
   "metadata": {},
   "source": [
    "## Step 0. Library import"
   ]
  },
  {
   "cell_type": "code",
   "execution_count": 1,
   "id": "33827059",
   "metadata": {},
   "outputs": [],
   "source": [
    "# npf,chd, wel, oc "
   ]
  },
  {
   "cell_type": "code",
   "execution_count": 2,
   "id": "48f786a9-a7c0-4ed9-a6ed-4566fd3d9659",
   "metadata": {
    "tags": []
   },
   "outputs": [],
   "source": [
    "#!pip install flopy"
   ]
  },
  {
   "cell_type": "markdown",
   "id": "fab0040d",
   "metadata": {},
   "source": [
    " 1. importan las bibliotecas y módulos necesarios para realizar análisis y visualizaciones de datos relacionados con la modelación hidrogeológica utilizando MODFLOW con flopy."
   ]
  },
  {
   "cell_type": "code",
   "execution_count": 3,
   "id": "f696fc74-41d6-4916-b6cf-e1e63822021f",
   "metadata": {
    "tags": []
   },
   "outputs": [],
   "source": [
    "import os\n",
    "import numpy as np\n",
    "import matplotlib.pyplot as plt\n",
    "import flopy\n",
    "from flopy.plot.styles import styles"
   ]
  },
  {
   "cell_type": "markdown",
   "id": "37f2d3c8-edfd-4b17-9734-ec2addc5b042",
   "metadata": {},
   "source": [
    "## Step 1. Simulation parameters definition."
   ]
  },
  {
   "cell_type": "markdown",
   "id": "b1ed0d99-3d83-441e-afc8-be8433ff9dde",
   "metadata": {},
   "source": [
    "## Problema unidimensional de flujo utilizando CF tipo Dirichlet"
   ]
  },
  {
   "cell_type": "markdown",
   "id": "548a5eab-f4e2-48e3-a664-12dbc05190de",
   "metadata": {},
   "source": [
    "**Descripción del problema**\n",
    "\n",
    "1. Formulación de un problema unidimensional de flujo en medios porosos, considerando condiciones de frontera \n",
    "tipo Dirchlet en los extremos. \n",
    "2. La dimensión del dominio es de: (12)(0.1)(0.1)[cm] en cada una de las direcciones (X,Y,Z)\n",
    "3. La conductividad hidráulica del sistema es: kxx = (0.01 [cm/s]) con Kyy=Kzz=Kxx.\n",
    "4. Consideramos un período estrés de 120 [s], y un paso de tiempo\n",
    "5. Tipo de capa confinada \n",
    "6. El sistema se discretizará en 122 columnas, 1 renglón y 1 capa.\n",
    "\n",
    "\n",
    "$$  \\nu=-\\frac{k}{\\mu}\\left({grad} \\; p+ \\rho {g}\\right) = K \\nabla h$$\n",
    "\n",
    "$$ \\frac{\\partial (\\rho\\phi)}{\\partial t} + \\mbox{div}(\\rho{\\nu}) \n",
    "=\\rho\\widehat{q}\n",
    "$$\n",
    "\n",
    "$$ \\begin{matrix} \\begin{array}{l}\n",
    "p(x_0,0) = p_0, &  p(x_{\\infty},0) = p_{1} \\cr\n",
    "\\end{array}\\end{matrix}\n",
    "$$"
   ]
  },
  {
   "cell_type": "markdown",
   "id": "a14a28c5-04a3-4bbd-a8cc-61dc2a60e8c9",
   "metadata": {},
   "source": [
    "## Glosario de términos\n",
    "\\begin{matrix} \\begin{array}{l}\n",
    "\\nu[LT^{-1}]:   \\mbox{es la velocidad promedio del agua a través del medio poroso,} \\cr\n",
    "{k}[L^2]:  \\mbox{es el tensor de permeabilidad intrínsico} \\cr\n",
    "{K}[LT^{-1}]:  \\mbox{Conductividad hidráulica} \\cr\n",
    "p[ML^{-1}T^{-2}]:  \\mbox{la presión del fluido}\\cr\n",
    "\\rho[ML^{-3}]:  \\mbox{la densidad de masa del fluido}  \\cr\n",
    "{g}[LT^{-2}]: \\mbox{el vector aceleración de la gravedad} \\cr\n",
    "\\widehat{q}[T^{-1}]: \\mbox{es la razón de flujo volumétrico del fluido} \\cr \n",
    "\\mbox{fuentes (positivas) y sumideros (negativos) de fluidos, } \\cr\n",
    "t[T] = \\mbox{tiempo, } \\cr\n",
    "\\phi[] = \\mbox{porosidad del medio} \\cr\n",
    "\\mu[ML^{−1}T^{−1}] = \\mbox{viscosidad dinámica del fluído.}\n",
    "\\end{array}\\end{matrix}"
   ]
  },
  {
   "cell_type": "markdown",
   "id": "fca4e480",
   "metadata": {},
   "source": [
    "## Unidades del modelo\n",
    "Todos los parámetros físicos, espaciales y temporales del modelo, deben ser consistentes con estas unidades\n",
    "1.  **Parámetros del modelo**\n",
    "2. **nper**: número de periodos estres en que se divide el tiempo total de simulación\n",
    "3. en cada periodo estres, los parámetros fisicos, CF, gasto de pozos,etc.  permanecen constantes\n",
    "4. Consideramos un período estrés, un paso de tiempo y un tiempo total de simulación de 120 [s].\n",
    "5. Tipo de capa confinada \n",
    "6. El sistema se discretizará en 122 columnas, 1 renglón y 1 capa.\n",
    "7. system_length: En este caso se tiene \"un dominio 1D\", solo se especifica su longitud\n",
    " sin embargo el dominio tiene un ancho en la dirección de las columnas y los renglones \n",
    " delc=0.1cm y delr=0.1cm y también tiene un espesor top-botm= 1cm\n",
    "8.  Nótese que las unidades deben ser consistentes a la hora de definir los parámetros"
   ]
  },
  {
   "cell_type": "code",
   "execution_count": 4,
   "id": "7b8c9368-5715-4f8a-be00-7a06026aa7f4",
   "metadata": {
    "tags": []
   },
   "outputs": [],
   "source": [
    "# Model units\n",
    "length_units = \"centimeters\"\n",
    "time_units = \"seconds\"\n",
    "\n",
    "# Model parameters\n",
    "\n",
    "## Discretization\n",
    "nper = 1  # Number of periods\n",
    "nlay = 1  # Number of layers\n",
    "nrow = 1  # Number of rows\n",
    "ncol = 122  # Number of columns\n",
    "system_length = 12.0  # Length of system ($cm$)\n",
    "delr = 0.1  # Column width ($cm$)\n",
    "delc = 0.1  # Row width ($cm$)\n",
    "top = 1.0  # Top of the model ($cm$)\n",
    "botm = 0  # Layer bottom elevation ($cm$)\n",
    "\n",
    "## Physical parameters\n",
    "specific_discharge = 0.1  # Specific discharge ($cm s^{-1}$)\n",
    "hydraulic_conductivity = 0.01  # Hydraulic conductivity ($cm s^{-1}$)\n",
    "porosity = 0.1  # Porosity of mobile domain (unitless)\n",
    "source_concentration = 1.0  # Source concentration (unitless)\n",
    "initial_concentration = 0.0  # Initial concentration (unitless)\n",
    "total_time = 120.0  # Simulation time ($s$)"
   ]
  },
  {
   "cell_type": "markdown",
   "id": "b6e21570-82d4-4c81-aa18-fd55e493f195",
   "metadata": {},
   "source": [
    "## Step 2. Path to MODFLOW6 and simulation name"
   ]
  },
  {
   "cell_type": "markdown",
   "id": "a9ab26c6",
   "metadata": {},
   "source": [
    "1. ws = os.getcwd(): Variable que contiene la ruta asociada del Directorio de trabajo.\n",
    "2. mf6_exe = \"mf6.exe\": En Python se asigna la variable 'mf6_exe' al ejecutable \"mf6.exe\".\n",
    "3. name = 'model': La variable 'name' contiene el nombre asociado a la simulación que se está trabajando."
   ]
  },
  {
   "cell_type": "code",
   "execution_count": 6,
   "id": "b1d960d1-5fcb-4bcb-a043-1d2bb2c198db",
   "metadata": {
    "tags": []
   },
   "outputs": [
    {
     "name": "stdout",
     "output_type": "stream",
     "text": [
      " Ruta hacia el ejecutable de MODFLOW 6 : mf6.exe \n",
      " Ruta actual : C:\\Users\\NRBRT\\clone\\WMA\\notebooks\\test1D\\flujo_1D\n",
      " Nombre de esta simulación: model\n"
     ]
    }
   ],
   "source": [
    "ws = os.getcwd() # Devuelve una cadena Unicode conteniendo el directorio de trabajo actual. \n",
    "mf6_exe = \"mf6.exe\" # Ruta del ejecutable,en este caso el propio directorio de trabajo \n",
    "name = 'model' # Nombre de la simulación a trabajar\n",
    "\n",
    "print(' Ruta hacia el ejecutable de MODFLOW 6 : {} '.format(mf6_exe))\n",
    "print(' Ruta actual : {}'.format(ws))\n",
    "print(' Nombre de esta simulación: {}'.format(name))"
   ]
  },
  {
   "cell_type": "markdown",
   "id": "64b4ecd3-37a8-411a-b564-fc6e2d089533",
   "metadata": {},
   "source": [
    "## Step 3. Simulation object"
   ]
  },
  {
   "cell_type": "markdown",
   "id": "ace1ea30",
   "metadata": {},
   "source": [
    "1. **sim = flopy.mf6.MFSimulation(sim_name=name, sim_ws=ws, exe_name=mf6_exe)**:\n",
    "2. Configura una nueva simulación de MODFLOW 6 con el nombre de la simulación, el directorio de trabajo y el archivo ejecutable especificados.\n",
    "3. **Los argumentos son: el nombre de la simulación, el directorio de trabajo, el ejecutable a utilizar.**\n",
    "4. **Por default**: (sim_name='sim', version='mf6', exe_name='mf6.exe', sim_ws='.',verbosity_level=1,\n",
    "    continue_=None, nocheck=None, memory_print_option=None, write_headers=True)    \n",
    "5. verbosity_level=0, no hay información de salida \n",
    "6. continue_: Indica si la simulación debe continuar desde una simulación anterior. Si se establece en True, la simulación continuará desde donde se detuvo anteriormente.\n",
    "7. **nocheck**: Controla si se realizan verificaciones durante la ejecución del modelo. Establecer en True desactivará las verificaciones\n",
    "8. **memory_print_option**: Opción para imprimir información de uso de memoria durante la ejecución.\n",
    "9. **write_headers**: Cuando write_headers=true flopy escribe un encabezado en cada archivo de paquete indicando que\n",
    "     fue creado por flopy."
   ]
  },
  {
   "cell_type": "code",
   "execution_count": 7,
   "id": "a0ff8fe9-6943-4d39-8c31-267298506288",
   "metadata": {
    "tags": []
   },
   "outputs": [
    {
     "name": "stdout",
     "output_type": "stream",
     "text": [
      "sim_name = model\n",
      "sim_path = C:\\Users\\NRBRT\\clone\\WMA\\notebooks\\test1D\\flujo_1D\n",
      "exe_name = mf6.exe\n",
      "\n",
      "###################\n",
      "Package mfsim.nam\n",
      "###################\n",
      "\n",
      "package_name = mfsim.nam\n",
      "filename = mfsim.nam\n",
      "package_type = nam\n",
      "model_or_simulation_package = simulation\n",
      "simulation_name = model\n",
      "\n",
      "\n",
      "\n"
     ]
    }
   ],
   "source": [
    "sim = flopy.mf6.MFSimulation(sim_name=name, sim_ws=ws, exe_name=mf6_exe)\n",
    "print(sim)"
   ]
  },
  {
   "cell_type": "markdown",
   "id": "427c9dec-abd0-4fad-a874-3bb33dc49147",
   "metadata": {},
   "source": [
    "## Step 4. Time discretization object\n",
    "\n",
    "<center>\n",
    "<img src=\"../figures/timestep.png\" width=500px>\n",
    "</center>\n",
    "  \n",
    "The length of a time step is calculated by multiplying the length of the previous time step by TSMULT. \n",
    "The length of the first time step, $\\Delta t_1$, is related to PERLEN, NSTP, and TSMULT by the relation:\n",
    "$$\n",
    "\\Delta t_1= \\frac{\\text{PERLEN}}{\\text{NSTP}} \\;\\; \\text{para} \\;\\; \\text{TSMULT} = 1\n",
    "$$\n",
    "\n",
    "$$\n",
    "\\Delta t_1= \\text{PERLEN} \\frac{\\text{TSMULT} - 1}{\\text{TSMULT}^\\text{nstp}-1} \\;\\; \\text{para} \\;\\; \\text{TSMULT} \\neq 1\n",
    "$$\n",
    "\n",
    "The length of each successive time step is computed as\n",
    "\n",
    "$$\n",
    "\\Delta t = \\Delta t_{old} \\text{TSMULT}\n",
    "$$\n",
    "\n",
    "where:\n",
    "* `perlen` (double) is the length of a stress period.\n",
    "* `nstp` (integer) is the number of time steps in a stress period.\n",
    "* `tsmult` (double) is the multiplier for the length of successive time steps.\n",
    "  \n",
    "Véase: Hughes, J.D., Langevin, C.D., and Banta, E.R., 2017, *Documentation for the MODFLOW 6 framework: U.S. Geological Survey Techniques and Methods*, book 6, chap. A57, 40 p., https://doi.org/10.3133/tm6A57. **Timing Module, pp 10,12**."
   ]
  },
  {
   "cell_type": "markdown",
   "id": "86d0abcf",
   "metadata": {},
   "source": []
  },
  {
   "cell_type": "markdown",
   "id": "c9a7072e",
   "metadata": {},
   "source": [
    "1. **tdis_ds = ((total_time, 1, 1.0),)** define un solo período de tiempo en la simulación, con una duración total especificada, un solo paso de tiempo y posiblemente un factor de multiplicación para ajustar el paso de tiempo.\n",
    "2. **total_time**: Es el tiempo total del período de simulación que se definió en **Step 1**\n",
    "3. **1**: Indica el número de pasos de tiempo en este período\n",
    "4. **1.0**: Es el factor de aumento del paso de tiempo para este período.\n",
    "5. Si no se da ningún argumento, el constructor devuelve una tupla vacía."
   ]
  },
  {
   "cell_type": "code",
   "execution_count": 8,
   "id": "0c9aa8ff-bc69-467e-93c3-adf568844370",
   "metadata": {},
   "outputs": [],
   "source": [
    "tdis_ds = ((total_time, 1, 1.0),) # perlen, nstp, tsmult"
   ]
  },
  {
   "cell_type": "markdown",
   "id": "50b321b2",
   "metadata": {},
   "source": [
    "1. **flopy.mf6.ModflowTdis(sim, nper=nper, perioddata=tdis_ds, time_units=time_units)**\n",
    "2. Configura la discretización temporal para una simulación de MODFLOW 6 \"sim\", especificando el número de períodos \"nper\", los datos de período \"tdis_ds\" y las unidades de tiempo \"time_units\".\n",
    "1. **sim**: Es la instancia de la simulación a la que se asocia este objeto ModflowTdis definido en **Step 3**.\n",
    "2. **nper**: Número de períodos de tiempo en la simulación, en este caso nper=1 .\n",
    "3. **perioddata**: Especifica la información detallada sobre los períodos de tiempo. En este caso, tdis_ds es una variable que contiene esta información. Esta variable generalmente consiste en una tupla de tuplas, donde cada tupla interna contiene tres valores: el tiempo total del período, el número de pasos de tiempo y el factor de aumento del paso de tiempo como se indicó arriba.\n",
    "4. **time_units**: Especifica las unidades de tiempo utilizadas en el modelo\n",
    "\n",
    "**Por default**: flopy.mf6.ModflowTdis(\n",
    "    **simulation**,\n",
    "    loading_package=False, (indica si el paquete TDIS está activado o no.)\n",
    "    **time_units=None**,\n",
    "    start_date_time=None,\n",
    "    ats_filerecord=None,\n",
    "    **nper=1**,\n",
    "    **perioddata=((1.0, 1, 1.0),)**,\n",
    "    filename=None,\n",
    "    pname=None,\n",
    "    parent_file=None,\n",
    ")"
   ]
  },
  {
   "cell_type": "code",
   "execution_count": 10,
   "id": "2d41847b-f88c-4e12-acba-f96004600ac4",
   "metadata": {},
   "outputs": [
    {
     "name": "stdout",
     "output_type": "stream",
     "text": [
      "WARNING: tdis package already exists. Replacing existing tdis package.\n"
     ]
    },
    {
     "data": {
      "text/plain": [
       "package_name = model.tdis\n",
       "filename = model.tdis\n",
       "package_type = tdis\n",
       "model_or_simulation_package = simulation\n",
       "simulation_name = model\n",
       "\n",
       "Block options\n",
       "--------------------\n",
       "time_units\n",
       "{internal}\n",
       "('seconds')\n",
       "\n",
       "\n",
       "Block dimensions\n",
       "--------------------\n",
       "nper\n",
       "{internal}\n",
       "(1)\n",
       "\n",
       "\n",
       "Block perioddata\n",
       "--------------------\n",
       "perioddata\n",
       "{internal}\n",
       "(rec.array([(120., 1, 1.)],\n",
       "          dtype=[('perlen', '<f8'), ('nstp', '<i4'), ('tsmult', '<f8')]))\n",
       "\n"
      ]
     },
     "execution_count": 10,
     "metadata": {},
     "output_type": "execute_result"
    }
   ],
   "source": [
    "flopy.mf6.ModflowTdis(sim, nper=nper, perioddata=tdis_ds, time_units=time_units)"
   ]
  },
  {
   "cell_type": "markdown",
   "id": "c489310f-0c8e-44cb-9e97-6ced157242ed",
   "metadata": {},
   "source": [
    "## Step 5. IMS object (solution calculation)"
   ]
  },
  {
   "cell_type": "markdown",
   "id": "ba5f6fa0",
   "metadata": {},
   "source": [
    "1. **ims = flopy.mf6.ModflowIms(sim)**\n",
    "2. configura varios aspectos del solucionador IMS para la simulación de MODFLOW 6, proporcionando flexibilidad en la configuración de la convergencia y otros aspectos del modelo.\n",
    "3. sim: El objeto de simulación de MODFLOW 6 al que se aplicará la configuración del solucionador IMS.\n",
    "4. ims = flopy.mf6.ModflowIms(\n",
    "    simulation,\n",
    "    loading_package=False,\n",
    "    print_option=None,\n",
    "    complexity=None,\n",
    "    csv_output_filerecord=None,\n",
    "    csv_outer_output_filerecord=None,\n",
    "    csv_inner_output_filerecord=None,\n",
    "    no_ptcrecord=None,\"Registro para controlar el precondicionador. Por defecto, es None\"\n",
    "    ats_outer_maximum_fraction=None,\n",
    "    outer_hclose=None,\n",
    "    outer_dvclose=None,\n",
    "    outer_rclosebnd=None,\n",
    "    outer_maximum=None,\n",
    "    under_relaxation=None,\n",
    "    under_relaxation_gamma=None,\n",
    "    under_relaxation_theta=None,\n",
    "    under_relaxation_kappa=None,\n",
    "    under_relaxation_momentum=None,\n",
    "    backtracking_number=None,\n",
    "    backtracking_tolerance=None,\n",
    "    backtracking_reduction_factor=None,\n",
    "    backtracking_residual_limit=None,\n",
    "    inner_maximum=None,\n",
    "    inner_hclose=None,\n",
    "    inner_dvclose=None,\n",
    "    rcloserecord=None,\n",
    "    linear_acceleration=None,\n",
    "    relaxation_factor=None,\n",
    "    preconditioner_levels=None,\n",
    "    preconditioner_drop_tolerance=None,\n",
    "    number_orthogonalizations=None,\n",
    "    scaling_method=None,\n",
    "    reordering_method=None,\n",
    "    filename=None,\n",
    "    pname=None,\n",
    "    parent_file=None,\n",
    ")\n"
   ]
  },
  {
   "cell_type": "code",
   "execution_count": 12,
   "id": "f6db29f0-7e1a-49b3-b2b0-ec3311c056eb",
   "metadata": {},
   "outputs": [
    {
     "name": "stdout",
     "output_type": "stream",
     "text": [
      "package_name = ims_0\n",
      "filename = model_0.ims\n",
      "package_type = ims\n",
      "model_or_simulation_package = simulation\n",
      "simulation_name = model\n",
      "\n",
      "\n"
     ]
    }
   ],
   "source": [
    "ims = flopy.mf6.ModflowIms(sim)\n",
    "print(ims)"
   ]
  },
  {
   "cell_type": "markdown",
   "id": "7a71fc1e-f25c-4b9a-981b-3928f3c882de",
   "metadata": {},
   "source": [
    "## Step 6. GWF model object (flow)"
   ]
  },
  {
   "cell_type": "markdown",
   "id": "9e4d0ce8",
   "metadata": {},
   "source": [
    "1. gwf = flopy.mf6.ModflowGwf(sim, modelname=name, save_flows=True)\n",
    "2.  crea un modelo de flujo en la simulación de MODFLOW 6, especificando su nombre y configurando la opción para guardar los flujos calculados durante la simulación\n",
    "3. El objeto gwf se asocia con la simulación sim y se le asigna el nombre de modelo especificado por la variable \"name\". \n",
    "4. El parámetro save_flows se establece en True, lo que indica que se guardarán los flujos calculados durante la simulación. \n",
    "5. Por default: flopy.mf6.ModflowGwf(\n",
    "    simulation,\n",
    "    modelname='model',\n",
    "    model_nam_file=None,\n",
    "    version='mf6',\n",
    "    exe_name='mf6.exe',\n",
    "    model_rel_path='.',\n",
    "    list=None,\n",
    "    print_input=None,\n",
    "    print_flows=None,\n",
    "    save_flows=None,\n",
    "    newtonoptions=None,\n",
    "    packages=None,\n",
    "    **kwargs,\n",
    ")"
   ]
  },
  {
   "cell_type": "code",
   "execution_count": 13,
   "id": "9c03995e-c200-41ef-916c-84377e9a5ac4",
   "metadata": {},
   "outputs": [
    {
     "name": "stdout",
     "output_type": "stream",
     "text": [
      "name = model\n",
      "model_type = gwf6\n",
      "version = mf6\n",
      "model_relative_path = .\n",
      "\n",
      "\n"
     ]
    }
   ],
   "source": [
    "gwf = flopy.mf6.ModflowGwf(sim, modelname=name, save_flows=True)\n",
    "print(gwf)"
   ]
  },
  {
   "cell_type": "markdown",
   "id": "0f6db909-2782-4706-9fff-48c70fee9d80",
   "metadata": {},
   "source": [
    "## Step 7. Space discretization object"
   ]
  },
  {
   "cell_type": "markdown",
   "id": "4f6d0c3b",
   "metadata": {},
   "source": [
    "1. **dis = flopy.mf6.ModflowGwfdis(gwf,length_units=length_units,nlay=nlay,nrow=nrow,ncol=ncol,delr=delr,delc=delc,top=top,\n",
    "    botm=botm,)**\n",
    "2. Configura los datos de discretización espacial para el modelo de flujo en la simulación de MODFLOW 6, incluyendo el número de capas, filas y columnas, así como las dimensiones y elevaciones de cada celda del modelo. \n",
    "3. El objeto **dis** se asocia con el modelo de flujo **gwf** y se especifican diversos parámetros de discretización, como:\n",
    "4. **length_units** las unidades de longitud definidas, \n",
    "5. **nlay** el número de capas, **nrow** el número de renglones y **ncol** el número de columnas, \n",
    "6. **delr** los tamaños de celda horizontal  y **delc** vertical , \n",
    "7. **top** las elevaciones de la superficie superior  y **botm** los fondos de las capas . \n",
    "8. Estos parámetros definen la estructura espacial del modelo de flujo.\n",
    "9. Por default:\n",
    "   flopy.mf6.ModflowGwfdis(\n",
    "    model,\n",
    "    loading_package=False, \n",
    "    length_units=None,\n",
    "    nogrb=None,\n",
    "    xorigin=None,\n",
    "    yorigin=None,\n",
    "    angrot=None,\n",
    "    nlay=1,\n",
    "    nrow=2,\n",
    "    ncol=2,\n",
    "    delr=1.0,\n",
    "    delc=1.0,\n",
    "    top=1.0,\n",
    "    botm=0.0,\n",
    "    idomain=None,\n",
    "    filename=None,\n",
    "    pname=None,\n",
    "    parent_file=None,\n",
    ")"
   ]
  },
  {
   "cell_type": "code",
   "execution_count": 15,
   "id": "fa754bd8-8a2c-4d10-b849-4532a6afbe4c",
   "metadata": {},
   "outputs": [
    {
     "name": "stdout",
     "output_type": "stream",
     "text": [
      "WARNING: Package with type dis already exists. Replacing existing package.\n",
      "package_name = dis\n",
      "filename = model.dis\n",
      "package_type = dis\n",
      "model_or_simulation_package = model\n",
      "model_name = model\n",
      "\n",
      "Block options\n",
      "--------------------\n",
      "length_units\n",
      "{internal}\n",
      "(centimeters)\n",
      "\n",
      "\n",
      "Block dimensions\n",
      "--------------------\n",
      "nlay\n",
      "{internal}\n",
      "(1)\n",
      "\n",
      "nrow\n",
      "{internal}\n",
      "(1)\n",
      "\n",
      "ncol\n",
      "{internal}\n",
      "(122)\n",
      "\n",
      "\n",
      "Block griddata\n",
      "--------------------\n",
      "delr\n",
      "{constant 0.1}\n",
      "\n",
      "delc\n",
      "{constant 0.1}\n",
      "\n",
      "top\n",
      "{constant 1.0}\n",
      "\n",
      "botm\n",
      "{constant 0}\n",
      "\n",
      "\n",
      "\n"
     ]
    }
   ],
   "source": [
    "dis = flopy.mf6.ModflowGwfdis(gwf,\n",
    "                              length_units=length_units,\n",
    "                              nlay=nlay,\n",
    "                              nrow=nrow,\n",
    "                              ncol=ncol,\n",
    "                              delr=delr,\n",
    "                              delc=delc,\n",
    "                              top=top,\n",
    "                              botm=botm,\n",
    ")\n",
    "print(dis)"
   ]
  },
  {
   "cell_type": "markdown",
   "id": "3c71cb8b-798a-4602-9b5e-7fe5ea8a020c",
   "metadata": {},
   "source": [
    "## Step 8. Initial conditions object"
   ]
  },
  {
   "cell_type": "markdown",
   "id": "f65c695c",
   "metadata": {},
   "source": [
    "1. ic = flopy.mf6.ModflowGwfic(gwf, strt=1.0)\n",
    "2. Configura las condiciones iniciales para el modelo de flujo en la simulación de MODFLOW 6, definiendo el valor inicial de la carga hidráulica para todas las celdas del modelo.\n",
    "3. gwf: Objeto de modelo MODFLOW 6 al que se asociará el paquete de condiciones iniciales.\n",
    "4. strt: Valor de la elevación inicial del nivel freático para todas las celdas del modelo. Por defecto, es 1.0.\n",
    "5. Por default:\n",
    "flopy.mf6.ModflowGwfic(\n",
    "    model,\n",
    "    loading_package=False,\n",
    "    strt=1.0,\n",
    "    filename=None,\n",
    "    pname=None,\n",
    "    parent_file=None,\n",
    ")"
   ]
  },
  {
   "cell_type": "code",
   "execution_count": 16,
   "id": "2236aa56-087e-45ec-af06-ee6b084e6a10",
   "metadata": {},
   "outputs": [
    {
     "name": "stdout",
     "output_type": "stream",
     "text": [
      "package_name = ic\n",
      "filename = model.ic\n",
      "package_type = ic\n",
      "model_or_simulation_package = model\n",
      "model_name = model\n",
      "\n",
      "Block griddata\n",
      "--------------------\n",
      "strt\n",
      "{constant 1.0}\n",
      "\n",
      "\n",
      "\n"
     ]
    }
   ],
   "source": [
    "ic = flopy.mf6.ModflowGwfic(gwf, strt=1.0)\n",
    "print(ic)"
   ]
  },
  {
   "cell_type": "markdown",
   "id": "37e91119-47f2-44f5-aeb3-94591416befe",
   "metadata": {},
   "source": [
    "## Step 9. Node Property Flow (NPF6) Package"
   ]
  },
  {
   "cell_type": "markdown",
   "id": "2080ac8d",
   "metadata": {},
   "source": [
    "0. ### XXXXXXXXXXXXXXXXXXXXXXXXXXXXXXXXXX\n",
    "1. **npf = flopy.mf6.ModflowGwfnpf(gwf,save_specific_discharge=True,save_saturation=True,\n",
    "   icelltype=0, k=hydraulic_conductivity,)** \n",
    "2. Configura los datos de propiedades de flujo no confinado para el modelo de flujo en la simulación de MODFLOW 6, incluyendo la configuración para guardar caudales específicos y saturaciones, el tipo de celda y la conductividad hidráulica del medio poroso.\n",
    "\n",
    "3. **gwf**: El modelo MODFLOW 6 al que se asociará el paquete de parámetros de flujo.\n",
    "4. **save_specific_discharge=True**: Indica que se deben guardar las descargas específicas en cada celda del modelo\n",
    "5. **save_saturation=True**: Indica si se deben guardar las saturaciones de agua en cada celda del modelo\n",
    "6. **icelltype=0**: Especifica el tipo de celda. 0 para celdas confinadas y 1 para celdas no confinadas.\n",
    "7. **k=hydraulic_conductivity**: Un arreglo numpy que define la conductividad hidráulica en cada celda del modelo. Debe tener la misma forma que el número total de celdas en el modelo\n",
    "8. Por default:\n",
    "flopy.mf6.ModflowGwfnpf(\n",
    "    model,\n",
    "    loading_package=False,\n",
    "    save_flows=None,\n",
    "    alternative_cell_averaging=None,\n",
    "    thickstrt=None,\n",
    "    cvoptions=None,\n",
    "    perched=None,\n",
    "    rewet_record=None,\n",
    "    xt3doptions=None,\n",
    "    save_specific_discharge=None,\n",
    "    save_saturation=None,\n",
    "    k22overk=None,\n",
    "    k33overk=None,\n",
    "    tvk_filerecord=None,\n",
    "    icelltype=0, \"Celda no confinada:\"\n",
    "    k=1.0,\n",
    "    k22=None,\n",
    "    k33=None,\n",
    "    angle1=None,\n",
    "    angle2=None,\n",
    "    angle3=None,\n",
    "    wetdry=None, \"Opción para las celdas secas. Por defecto, es None.\"\n",
    "    filename=None,\n",
    "    pname=None,\n",
    "    parent_file=None,\n",
    ")"
   ]
  },
  {
   "cell_type": "markdown",
   "id": "13fe3f4c",
   "metadata": {},
   "source": [
    "2. save_specific_discharge=True: Indica que se guardará el flujo específico. "
   ]
  },
  {
   "cell_type": "code",
   "execution_count": 17,
   "id": "9e344c83-df2d-4ae1-b876-88a5a181c6a3",
   "metadata": {},
   "outputs": [
    {
     "name": "stdout",
     "output_type": "stream",
     "text": [
      "package_name = npf\n",
      "filename = model.npf\n",
      "package_type = npf\n",
      "model_or_simulation_package = model\n",
      "model_name = model\n",
      "\n",
      "Block options\n",
      "--------------------\n",
      "save_specific_discharge\n",
      "{internal}\n",
      "(True)\n",
      "\n",
      "save_saturation\n",
      "{internal}\n",
      "(True)\n",
      "\n",
      "\n",
      "Block griddata\n",
      "--------------------\n",
      "icelltype\n",
      "{constant 0}\n",
      "\n",
      "k\n",
      "{constant 0.01}\n",
      "\n",
      "\n",
      "\n"
     ]
    }
   ],
   "source": [
    "npf = flopy.mf6.ModflowGwfnpf(gwf,\n",
    "                              save_specific_discharge=True,\n",
    "                              save_saturation=True,\n",
    "                              icelltype=0,\n",
    "                              k=hydraulic_conductivity,\n",
    ")\n",
    "print(npf)"
   ]
  },
  {
   "cell_type": "markdown",
   "id": "2280c606-9839-4d59-933d-8f6e3dc5d96f",
   "metadata": {},
   "source": [
    "## Step 10. Discharge object "
   ]
  },
  {
   "cell_type": "markdown",
   "id": "dad090fd",
   "metadata": {},
   "source": [
    "0. ### XXXXXXXXXXXXXXXXXXXXXXXXXXXXXXXXXX\n",
    "1. **chd = flopy.mf6.ModflowGwfchd(gwf, stress_period_data=[[(0, 0, ncol - 1), 1.0]])**\n",
    "2. Configura las condiciones de carga constante para el modelo de flujo en la simulación de MODFLOW 6, donde se establece una carga constante de 1.0 en la celda especificada para el primer período de estrés.\n",
    "3. Estas condiciones permiten la interacción entre el flujo de agua subterránea y las estructuras superficiales, como pozos, ríos o cuerpos de agua.\n",
    "4. En este caso:\n",
    "5. **gwf**: El modelo MODFLOW 6 al que se asociará el paquete de condiciones de carga constante.\n",
    "6. **stress_period_data**: Una lista de listas que define los datos de período de estrés para las condiciones de carga constante. Cada sublista contiene una tupla que representa la ubicación (k, i, j) de la celda y el valor de la carga constante. \n",
    "7. **Por ejemplo, [(0, 0, ncol - 1), 1.0]** establece una carga constante de 1.0 en la celda ubicada en la capa 0, fila 0 y columna ncol - 1.\n",
    "8. Por default:\n",
    "flopy.mf6.ModflowGwfchd(\n",
    "    model,\n",
    "    loading_package=False,\n",
    "    auxiliary=None,\n",
    "    auxmultname=None,\n",
    "    boundnames=None,\n",
    "    print_input=None,\n",
    "    print_flows=None,\n",
    "    save_flows=None,\n",
    "    timeseries=None,\n",
    "    observations=None,\n",
    "    maxbound=None,\n",
    "    stress_period_data=None,\n",
    "    filename=None,\n",
    "    pname=None,\n",
    "    parent_file=None,\n",
    ")"
   ]
  },
  {
   "cell_type": "code",
   "execution_count": 18,
   "id": "071bd734-fcac-4c9b-981b-2513449df8d5",
   "metadata": {},
   "outputs": [
    {
     "name": "stdout",
     "output_type": "stream",
     "text": [
      "package_name = chd_0\n",
      "filename = model.chd\n",
      "package_type = chd\n",
      "model_or_simulation_package = model\n",
      "model_name = model\n",
      "\n",
      "Block period\n",
      "--------------------\n",
      "stress_period_data\n",
      "{internal}\n",
      "([((0, 0, 121), 1.)])\n",
      "\n",
      "\n",
      "\n"
     ]
    }
   ],
   "source": [
    "chd = flopy.mf6.ModflowGwfchd(gwf, stress_period_data=[[(0, 0, ncol - 1), 1.0]]) \n",
    "print(chd)"
   ]
  },
  {
   "cell_type": "markdown",
   "id": "08a39d2e-6949-4c4d-ac67-d8fef30bb93e",
   "metadata": {},
   "source": [
    "## Step 11. Wells object"
   ]
  },
  {
   "cell_type": "markdown",
   "id": "9cf36760",
   "metadata": {},
   "source": [
    "0. ### XXXXXXXXXXXXXXXXXXXXXXXXXXXXXXXXXX\n",
    "1. **wel_spd = {0: [ [(0, 0, 0), specific_discharge * delc * delr * top, source_concentration]] }**\n",
    "2. Define los datos de flujo de pozo para un modelo de flujo en la simulación de MODFLOW 6, especificando la ubicación, la tasa de flujo y la concentración para cada pozo en el primer período de estrés.\n",
    "3. **wel_spd** es un diccionario que contiene datos de asignación de pozos para un paquete de pozos (flopy.mf6.ModflowGwfwel) en un modelo MODFLOW 6\n",
    "4. **wel_spd** define un pozo para el modelo MODFLOW 6 con información sobre su ubicación, caudal específico y concentración de la fuente.\n",
    "5. **wel_spd** tiene claves que representan los períodos de estrés. En este caso, hay un único período de estrés con la clave 0\n",
    "6. Cada valor asociado a una clave de período de estrés es una lista. En este caso, la lista contiene un solo elemento.\n",
    "7. Dentro de esta lista, hay otra lista que contiene tres elementos:\n",
    "8. Una tupla que representa la ubicación del pozo (k, i, j). Por ejemplo, (0, 0, 0) indica la ubicación del pozo en la capa 0, fila 0 y columna 0.\n",
    "9. El segundo elemento es el caudal específico del pozo, que se calcula como el producto del caudal específico (specific_discharge) y el área de la celda del pozo, que se calcula como el producto de los tamaños de las celdas delc y delr, y la elevación superior de la celda (top).\n",
    "10. El tercer elemento es la concentración de la fuente asociada al pozo.\n",
    "\n",
    "1. **wel = flopy.mf6.ModflowGwfwel(gwf,stress_period_data=wel_spd,pname=\"WEL-1\",auxiliary=[\"CONCENTRATION\"],)**\n",
    "2. Configura y añade un paquete de flujo de pozo al modelo de flujo en la simulación de MODFLOW 6, especificando los datos de los períodos de estrés, el nombre del paquete y las variables auxiliares asociadas.\n",
    "3. **gwf**: Es el modelo de flujo (flopy.mf6.ModflowGwf) al que se asocia este paquete de pozos.\n",
    "4. **stress_period_data=wel_spd**: Es un diccionario que contiene datos de asignación de pozos para cada período de estrés.  Cada clave del diccionario representa un período de estrés, y los valores asociados son listas que contienen la información de cada pozo para ese período de estrés. La estructura de estos datos se describe en la descripción anterior del diccionario wel_spd.\n",
    "6. **pname=\"WEL-1\"**: Es el nombre del paquete. En este caso, \"WEL-1\".\n",
    "7. **auxiliary=[\"CONCENTRATION\"]**: Es una lista opcional de nombres de variables auxiliares asociadas con este paquete de pozos. En este caso, hay una variable auxiliar llamada \"CONCENTRATION\"."
   ]
  },
  {
   "cell_type": "code",
   "execution_count": 19,
   "id": "1204503f-5f85-4902-95c1-e451bc295ee1",
   "metadata": {},
   "outputs": [
    {
     "name": "stdout",
     "output_type": "stream",
     "text": [
      "package_name = wel-1\n",
      "filename = model.wel\n",
      "package_type = wel\n",
      "model_or_simulation_package = model\n",
      "model_name = model\n",
      "\n",
      "Block options\n",
      "--------------------\n",
      "auxiliary\n",
      "{internal}\n",
      "([('auxiliary', 'CONCENTRATION')])\n",
      "\n",
      "\n",
      "Block period\n",
      "--------------------\n",
      "stress_period_data\n",
      "{internal}\n",
      "([((0, 0, 0), 0.001, 1.)])\n",
      "\n",
      "\n",
      "\n"
     ]
    }
   ],
   "source": [
    "wel_spd = {\n",
    "    0: [ [(0, 0, 0),\n",
    "          specific_discharge * delc * delr * top,\n",
    "          source_concentration]\n",
    "       ]\n",
    "}\n",
    "\n",
    "wel = flopy.mf6.ModflowGwfwel(gwf,\n",
    "                              stress_period_data=wel_spd,\n",
    "                              pname=\"WEL-1\",\n",
    "                              auxiliary=[\"CONCENTRATION\"],\n",
    ")\n",
    "\n",
    "print(wel)"
   ]
  },
  {
   "cell_type": "markdown",
   "id": "efcd5da6-94ce-415a-8ef1-db53ede0a63e",
   "metadata": {},
   "source": [
    "## Step 12. Output object"
   ]
  },
  {
   "cell_type": "markdown",
   "id": "a9f2d8c1",
   "metadata": {},
   "source": [
    "0. ### XXXXXXXXXXXXXXXXXXXXXXXXXXXXXXXXXX \n",
    "1. La variable **head_filerecord = f\"{name}.hds\"**  representa el nombre de un archivo  (hds) asociado al modelo\n",
    "2. La variable **budget_filerecord = f\"{name}.bud\"** representa el nombre de un archivo de balance (bud) asociado al modelo\n",
    "3. **oc = flopy.mf6.ModflowGwfoc(gwf, head_filerecord=head_filerecord, budget_filerecord=budget_filerecord, saverecord=[(\"HEAD\", \"ALL\"), (\"BUDGET\", \"ALL\")],)**\n",
    "3. Configura un paquete de control de salida para el modelo de flujo de agua subterránea, definiendo los archivos donde se guardarán las cargas de agua y los datos de balance, así como qué datos se guardarán durante la simulación.\n",
    "4. gwf: Es la instancia del modelo de flujo de agua subterránea (Gwf) al que se asocia el paquete de control de salida.\n",
    "5. **head_filerecord=head_filerecord**: Es el nombre del archivo donde se guardarán los resultados de las cargas (HEAD). \n",
    "6. El valor de esta cadena se ha definido previamente como f\"{name}.hds\".\n",
    "7. **budget_filerecord=budget_filerecord**: Es el nombre del archivo donde se guardarán los resultados del balance (BUDGET). El valor de esta cadena se ha definido previamente como f\"{name}.bud\".\n",
    "8. **saverecord=[(\"HEAD\", \"ALL\"), (\"BUDGET\", \"ALL\")]**: Es una lista de tuplas que especifica qué resultados se guardarán y en qué momentos de la simulación. En este caso, se ha especificado que se guardarán todas las cargas (\"HEAD\", \"ALL\") y todo el balance (\"BUDGET\", \"ALL\").\n",
    "9. Por default: flopy.mf6.ModflowGwfoc(\n",
    "    model,\n",
    "    loading_package=False,\n",
    "    budget_filerecord=None,\n",
    "    budgetcsv_filerecord=None,\n",
    "    head_filerecord=None,\n",
    "    headprintrecord=None,\n",
    "    saverecord=None,\n",
    "    printrecord=None,\n",
    "    filename=None,\n",
    "    pname=None,\n",
    "    parent_file=None,\n",
    ")"
   ]
  },
  {
   "cell_type": "markdown",
   "id": "7d7f7a5b",
   "metadata": {},
   "source": []
  },
  {
   "cell_type": "code",
   "execution_count": null,
   "id": "0626b91b-4164-48b2-a326-ee9f36a1a9a0",
   "metadata": {},
   "outputs": [],
   "source": [
    "head_filerecord = f\"{name}.hds\"\n",
    "budget_filerecord = f\"{name}.bud\"\n",
    "oc = flopy.mf6.ModflowGwfoc(gwf,\n",
    "                            head_filerecord=head_filerecord,\n",
    "                            budget_filerecord=budget_filerecord,\n",
    "                            saverecord=[(\"HEAD\", \"ALL\"), (\"BUDGET\", \"ALL\")],\n",
    ")\n",
    "print(oc)"
   ]
  },
  {
   "cell_type": "markdown",
   "id": "51c7c2b8-4856-45da-8619-3dd2c722af84",
   "metadata": {},
   "source": [
    "## Step 13. Write Input files."
   ]
  },
  {
   "cell_type": "markdown",
   "id": "97313c1d",
   "metadata": {},
   "source": [
    "1. El método **write_simulation()** se utiliza para escribir todos los archivos de entrada necesarios para ejecutar la simulación de MODFLOW 6 en el directorio de trabajo especificado por **sim_ws** durante la inicialización de la simulación."
   ]
  },
  {
   "cell_type": "code",
   "execution_count": null,
   "id": "955c6923-dba0-4fec-b43a-936a1e7a2eff",
   "metadata": {},
   "outputs": [],
   "source": [
    "sim.write_simulation()"
   ]
  },
  {
   "cell_type": "markdown",
   "id": "06e59c4a-6dcb-4f6e-a7ca-2ca6597f88c6",
   "metadata": {},
   "source": [
    "## Step 14. Run simulation"
   ]
  },
  {
   "cell_type": "code",
   "execution_count": null,
   "id": "44e64765-dd25-46ee-b705-763a3d8254ba",
   "metadata": {},
   "outputs": [],
   "source": [
    "sim.run_simulation()"
   ]
  },
  {
   "cell_type": "markdown",
   "id": "4942b96b-60cb-44f4-b374-1e6b171e25dd",
   "metadata": {},
   "source": [
    "## Step 15. Postprocessing"
   ]
  },
  {
   "cell_type": "code",
   "execution_count": null,
   "id": "481bb5ac-150e-4571-b3f5-c197a58d5b83",
   "metadata": {},
   "outputs": [],
   "source": [
    "# Obtenemos los resultados de la carga hidráulica\n",
    "head = flopy.utils.HeadFile(os.path.join(ws, head_filerecord)).get_data()\n",
    "\n",
    "# Obtenemos los resultados del BUDGET\n",
    "bud  = flopy.utils.CellBudgetFile(os.path.join(ws, budget_filerecord),\n",
    "                                  precision='double')\n",
    "# Obtenemos las velocidades\n",
    "spdis = bud.get_data(text='DATA-SPDIS')[0]\n",
    "qx, qy, qz = flopy.utils.postprocessing.get_specific_discharge(spdis, gwf)"
   ]
  },
  {
   "cell_type": "code",
   "execution_count": null,
   "id": "f526ea83-a6f5-4cc7-849e-21fca09370cd",
   "metadata": {},
   "outputs": [],
   "source": [
    "print(head.shape, '\\n', head[0,0])"
   ]
  },
  {
   "cell_type": "code",
   "execution_count": null,
   "id": "7edba925-008e-4fcd-ac22-e20bed4b3fbf",
   "metadata": {},
   "outputs": [],
   "source": [
    "print(qx.shape, '\\n', qx)"
   ]
  },
  {
   "cell_type": "code",
   "execution_count": null,
   "id": "61074e07-d0f3-4682-9ffe-348343728b4c",
   "metadata": {},
   "outputs": [],
   "source": [
    "with styles.USGSPlot():\n",
    "    plt.rcParams['font.family'] = 'DeJavu Sans'\n",
    "\n",
    "    x = np.linspace(0.5 * delr, system_length - 0.5 * delr, ncol)\n",
    "    plt.figure(figsize=(5,3))\n",
    "    plt.plot(x[::3], head[0, 0][::3], marker=\"o\", ls =\"none\", mec=\"blue\", mfc=\"none\", markersize=\"4\", label = 'Head')\n",
    "    plt.xlim(0, system_length)\n",
    "    plt.xlabel(\"Distance (cm)\")\n",
    "    plt.ylabel(\"Normalized Concentration (unitless)\")\n",
    "    plt.legend()\n",
    "    plt.show()"
   ]
  },
  {
   "cell_type": "code",
   "execution_count": null,
   "id": "38be2755-372e-47dd-9275-7b53c42bde8c",
   "metadata": {},
   "outputs": [],
   "source": []
  }
 ],
 "metadata": {
  "kernelspec": {
   "display_name": "Python 3 (ipykernel)",
   "language": "python",
   "name": "python3"
  },
  "language_info": {
   "codemirror_mode": {
    "name": "ipython",
    "version": 3
   },
   "file_extension": ".py",
   "mimetype": "text/x-python",
   "name": "python",
   "nbconvert_exporter": "python",
   "pygments_lexer": "ipython3",
   "version": "3.11.4"
  }
 },
 "nbformat": 4,
 "nbformat_minor": 5
}
